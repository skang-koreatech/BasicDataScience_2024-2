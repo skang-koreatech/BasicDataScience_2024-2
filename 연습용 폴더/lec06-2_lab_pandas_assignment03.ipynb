{
 "cells": [
  {
   "cell_type": "markdown",
   "metadata": {},
   "source": [
    "## 기초데이터과학 (01분반) \n",
    "\n",
    "## Programming assignment 03"
   ]
  },
  {
   "cell_type": "markdown",
   "metadata": {},
   "source": [
    "### 1. 미국의 아기 이름 데이터로 아래 문제에 맞게 코드를 작성하세요."
   ]
  },
  {
   "cell_type": "code",
   "execution_count": null,
   "metadata": {},
   "outputs": [],
   "source": [
    "import pandas as pd\n",
    "\n",
    "# 주어진 데이터 생성\n",
    "df = pd.read_csv('https://raw.githubusercontent.com/guipsamora/pandas_exercises/master/06_Stats/US_Baby_Names/US_Baby_Names_right.csv')"
   ]
  },
  {
   "cell_type": "markdown",
   "metadata": {},
   "source": [
    "#### 1-1. 연도별 출생 인구 수 총합을 구하세요."
   ]
  },
  {
   "cell_type": "code",
   "execution_count": null,
   "metadata": {},
   "outputs": [],
   "source": [
    "# df에서 연도별 인구 수 총합을 계산하여 새로운 dataframe으로 저장\n",
    "# 이때, pandas.DataFrame.reset_index 함수를 활용하여 행 index를 초기화 할 것(행 index를 연도로 저장하지 말 것)\n",
    "\n",
    "\n",
    "# 저장한 dataframe의 column을 'Year'와 'Total_Count'로 명명\n",
    "\n",
    "\n",
    "# dataframe 출력\n"
   ]
  },
  {
   "cell_type": "raw",
   "metadata": {},
   "source": [
    "    Year  Total_Count\n",
    "0   2004      3293984\n",
    "1   2005      3305315\n",
    "2   2006      3387737\n",
    "3   2007      3412417\n",
    "4   2008      3340318\n",
    "5   2009      3232116\n",
    "6   2010      3116548\n",
    "7   2011      3079145\n",
    "8   2012      3073858\n",
    "9   2013      3066443\n",
    "10  2014      3113611"
   ]
  },
  {
   "cell_type": "markdown",
   "metadata": {},
   "source": [
    "#### 1-2. 연도별 출생 인구 수를 성별로 구분하여 총합을 구하세요."
   ]
  },
  {
   "cell_type": "code",
   "execution_count": null,
   "metadata": {},
   "outputs": [],
   "source": [
    "# df에서 연도별 인구 수 성별 구분하여 계산하여 새로운 dataframe으로 저장\n",
    "# 성별을 열로 정렬하기 위해 pandas.DataFrame.unstack 함수 참조\n",
    "\n",
    "\n",
    "# dataframe 출력\n"
   ]
  },
  {
   "cell_type": "raw",
   "metadata": {},
   "source": [
    "Gender        F        M\n",
    "Year                    \n",
    "2004    1523496  1770488\n",
    "2005    1528165  1777150\n",
    "2006    1564886  1822851\n",
    "2007    1576648  1835769\n",
    "2008    1544411  1795907\n",
    "2009    1493172  1738944\n",
    "2010    1439346  1677202\n",
    "2011    1422539  1656606\n",
    "2012    1422020  1651838\n",
    "2013    1419351  1647092\n",
    "2014    1446259  1667352"
   ]
  },
  {
   "cell_type": "markdown",
   "metadata": {},
   "source": [
    "#### 1-3. 연도별 출생 성별 비율을 구하세요."
   ]
  },
  {
   "cell_type": "code",
   "execution_count": null,
   "metadata": {},
   "outputs": [],
   "source": [
    "# 1-2에서 만든 dataframe 변수의 'Female_Ratio'와 'Male_Ratio' column(변수)를 추가 (성별 비율 계산하여 입력)\n",
    "\n",
    "\n",
    "\n",
    "# dataframe의 column 'Female_Ratio'와 'Male_Ratio' 출력\n"
   ]
  },
  {
   "cell_type": "raw",
   "metadata": {},
   "source": [
    "Gender  Female_Ratio  Male_Ratio\n",
    "Year                            \n",
    "2004        0.462509    0.537491\n",
    "2005        0.462336    0.537664\n",
    "2006        0.461927    0.538073\n",
    "2007        0.462033    0.537967\n",
    "2008        0.462354    0.537646\n",
    "2009        0.461980    0.538020\n",
    "2010        0.461840    0.538160\n",
    "2011        0.461992    0.538008\n",
    "2012        0.462617    0.537383\n",
    "2013        0.462866    0.537134\n",
    "2014        0.464496    0.535504"
   ]
  },
  {
   "cell_type": "markdown",
   "metadata": {},
   "source": [
    "### 2. 타이타닉 승객 정보 데이터로 아래 문제에 맞게 코드를 작성하세요."
   ]
  },
  {
   "cell_type": "code",
   "execution_count": null,
   "metadata": {},
   "outputs": [],
   "source": [
    "import pandas as pd\n",
    "\n",
    "# 주어진 데이터 생성\n",
    "df = pd.read_csv('https://raw.githubusercontent.com/datasciencedojo/datasets/master/titanic.csv')"
   ]
  },
  {
   "cell_type": "markdown",
   "metadata": {},
   "source": [
    "#### 2-1. 위에서 생성한 DataFrame 객체의 앞 3개 행을 출력하시오."
   ]
  },
  {
   "cell_type": "code",
   "execution_count": null,
   "metadata": {},
   "outputs": [],
   "source": [
    "# Data 형태 확인\n",
    "# DataFrame의 앞 3개 행을 출력\n",
    "print(\"앞 3개 행:\")\n",
    "\n"
   ]
  },
  {
   "cell_type": "raw",
   "metadata": {},
   "source": [
    "앞 3개 행:\n",
    "   PassengerId  Survived  Pclass  \\\n",
    "0            1         0       3   \n",
    "1            2         1       1   \n",
    "2            3         1       3   \n",
    "\n",
    "                                                Name     Sex   Age  SibSp  \\\n",
    "0                            Braund, Mr. Owen Harris    male  22.0      1   \n",
    "1  Cumings, Mrs. John Bradley (Florence Briggs Th...  female  38.0      1   \n",
    "2                             Heikkinen, Miss. Laina  female  26.0      0   \n",
    "\n",
    "   Parch            Ticket     Fare Cabin Embarked  \n",
    "0      0         A/5 21171   7.2500   NaN        S  \n",
    "1      0          PC 17599  71.2833   C85        C  \n",
    "2      0  STON/O2. 3101282   7.9250   NaN        S  "
   ]
  },
  {
   "cell_type": "markdown",
   "metadata": {},
   "source": [
    "#### 2-2. 각 Pclass에 대해 나이('Age')와 요금('Fare')의 평균과 표준편차를 구하세요."
   ]
  },
  {
   "cell_type": "code",
   "execution_count": null,
   "metadata": {},
   "outputs": [],
   "source": [
    "# 각 Pclass에 대해 'Age'와 'Fare'의 평균과 표준편차를 계산하여 새로운 dataframe으로 저장\n",
    "\n",
    "\n",
    "# dataframe 출력\n"
   ]
  },
  {
   "cell_type": "raw",
   "metadata": {},
   "source": [
    "              Age                  Fare           \n",
    "             mean        std       mean        std\n",
    "Pclass                                            \n",
    "1       38.233441  14.802856  84.154687  78.380373\n",
    "2       29.877630  14.001077  20.662183  13.417399\n",
    "3       25.140620  12.495398  13.675550  11.778142"
   ]
  },
  {
   "cell_type": "markdown",
   "metadata": {},
   "source": [
    "#### 2-3. 승객의 탑승 클래스('Pclass')에 따라 생존률('Survived')을 구하세요."
   ]
  },
  {
   "cell_type": "code",
   "execution_count": null,
   "metadata": {},
   "outputs": [],
   "source": [
    "# df에서 승객의 탑승 클래스별 생존률을 계산하여 새로운 dataframe으로 저장\n",
    "\n",
    "\n",
    "# dataframe 출력\n"
   ]
  },
  {
   "cell_type": "raw",
   "metadata": {},
   "source": [
    "Pclass\n",
    "1    0.629630\n",
    "2    0.472826\n",
    "3    0.242363\n",
    "Name: Survived, dtype: float64"
   ]
  },
  {
   "cell_type": "markdown",
   "metadata": {},
   "source": [
    "#### 2-4.생존자와 사망자의 데이터를 분리하고, 다시 수직으로 결합하세요."
   ]
  },
  {
   "cell_type": "code",
   "execution_count": null,
   "metadata": {},
   "outputs": [],
   "source": [
    "# 'Survived'가 1인 데이터와 0인 데이터를 분리해서 각각 새로운 dataframe으로 저장\n",
    "\n",
    "\n",
    "\n",
    "# 저장한 두 dataframe을 결합하여 새로운 dataframe 객체로 저장\n",
    "\n",
    "\n",
    "# 위에서 결합한 dataframe의 'PassengerId', 'Survived', 'Pclass', 'Fare' column 출력\n"
   ]
  },
  {
   "cell_type": "raw",
   "metadata": {},
   "source": [
    "     PassengerId  Survived  Pclass     Fare\n",
    "1              2         1       1  71.2833\n",
    "2              3         1       3   7.9250\n",
    "3              4         1       1  53.1000\n",
    "8              9         1       3  11.1333\n",
    "9             10         1       2  30.0708\n",
    "..           ...       ...     ...      ...\n",
    "884          885         0       3   7.0500\n",
    "885          886         0       3  29.1250\n",
    "886          887         0       2  13.0000\n",
    "888          889         0       3  23.4500\n",
    "890          891         0       3   7.7500\n",
    "\n",
    "[891 rows x 4 columns]"
   ]
  },
  {
   "cell_type": "markdown",
   "metadata": {},
   "source": [
    "#### 2-5. 각 탑승 클래스('Pclass')와 생존여부('Survived')에 따라 동반 가족 수(형제자매와 배우자 수 'SibSp' + 부모와 자녀 수 'Parch')의 평균과 최대값을 구하세요."
   ]
  },
  {
   "cell_type": "code",
   "execution_count": null,
   "metadata": {},
   "outputs": [],
   "source": [
    "# 각 'Pclass'와 'Survived'에 따라 동반 가족 수('SibSp' + 'Parch')의 평균과 최대값\n",
    "\n",
    "\n",
    "# dataframe 출력\n"
   ]
  },
  {
   "cell_type": "raw",
   "metadata": {},
   "source": [
    "                    SibSp         Parch    \n",
    "                     mean max      mean max\n",
    "Pclass Survived                            \n",
    "1      0         0.287500   3  0.300000   4\n",
    "       1         0.492647   3  0.389706   2\n",
    "2      0         0.319588   2  0.144330   2\n",
    "       1         0.494253   3  0.643678   3\n",
    "3      0         0.672043   8  0.384409   6\n",
    "       1         0.436975   4  0.420168   5"
   ]
  },
  {
   "cell_type": "markdown",
   "metadata": {},
   "source": [
    "### 3. 타이타닉 승객 정보 데이터로 아래 문제에 맞게 코드를 작성하세요."
   ]
  },
  {
   "cell_type": "code",
   "execution_count": null,
   "metadata": {},
   "outputs": [],
   "source": [
    "import pandas as pd\n",
    "\n",
    "# 주어진 데이터 생성\n",
    "df = pd.read_csv('https://raw.githubusercontent.com/datasciencedojo/datasets/master/titanic.csv')"
   ]
  },
  {
   "cell_type": "markdown",
   "metadata": {},
   "source": [
    "#### 3-1. 나이('Age'), 객실 번호('Cabin'), 탑승 항구('Embarked') colume의 결측치 개수를 확인하세요."
   ]
  },
  {
   "cell_type": "code",
   "execution_count": null,
   "metadata": {},
   "outputs": [],
   "source": [
    "# 나이 결측치 개수 출력\n",
    "\n",
    "\n",
    "# 객실 번호 결측치 개수 출력\n",
    "\n",
    "\n",
    "# 탑승 항구 결측치 개수 출력\n"
   ]
  },
  {
   "cell_type": "raw",
   "metadata": {},
   "source": [
    "나이 결측치 개수:  177\n",
    "객실 번호 결측치 개수:  687\n",
    "탑승 항구 결측치 개수:  2"
   ]
  },
  {
   "cell_type": "markdown",
   "metadata": {},
   "source": [
    "#### 3-2. 'Age' column에 결측치가 있는 행을 제거하세요."
   ]
  },
  {
   "cell_type": "code",
   "execution_count": null,
   "metadata": {},
   "outputs": [],
   "source": [
    "# 'Age' column에 결측치가 있는 행을을 제거하여 새로운 dataframe으로 저장\n",
    "\n",
    "\n",
    "# dataframe 'Age' column 출력\n"
   ]
  },
  {
   "cell_type": "raw",
   "metadata": {},
   "source": [
    "0      22.0\n",
    "1      38.0\n",
    "2      26.0\n",
    "3      35.0\n",
    "4      35.0\n",
    "       ... \n",
    "885    39.0\n",
    "886    27.0\n",
    "887    19.0\n",
    "889    26.0\n",
    "890    32.0\n",
    "Name: Age, Length: 714, dtype: float64"
   ]
  },
  {
   "cell_type": "markdown",
   "metadata": {},
   "source": [
    "#### 3-3. 'Age' column의 결측치를 0으로 대체하세요."
   ]
  },
  {
   "cell_type": "code",
   "execution_count": null,
   "metadata": {},
   "outputs": [],
   "source": [
    "# df를 복사하여 새로운 dataframe으로 저장\n",
    "\n",
    "\n",
    "# 복사한 dataframe의 'Age'열 결측치를 0으로 대체\n",
    "\n",
    "\n",
    "# dataframe 'Age' column 출력\n"
   ]
  },
  {
   "cell_type": "raw",
   "metadata": {},
   "source": [
    "0      22.0\n",
    "1      38.0\n",
    "2      26.0\n",
    "3      35.0\n",
    "4      35.0\n",
    "       ... \n",
    "886    27.0\n",
    "887    19.0\n",
    "888     0.0\n",
    "889    26.0\n",
    "890    32.0\n",
    "Name: Age, Length: 891, dtype: float64"
   ]
  },
  {
   "cell_type": "markdown",
   "metadata": {},
   "source": [
    "#### 3-4. 'Age' column의 결측치를 이전 행의 값으로 채우세요."
   ]
  },
  {
   "cell_type": "code",
   "execution_count": null,
   "metadata": {},
   "outputs": [],
   "source": [
    "# df를 복사하여 새로운 dataframe으로 저장\n",
    "\n",
    "\n",
    "# 복사한 dataframe의 'Age'열 결측치를 이전 행의 값으로 대체\n",
    "#pandas.DataFrame.ffill 함수 활용\n",
    "\n",
    "\n",
    "# dataframe 'Age' column 출력\n"
   ]
  },
  {
   "cell_type": "raw",
   "metadata": {},
   "source": [
    "0      22.0\n",
    "1      38.0\n",
    "2      26.0\n",
    "3      35.0\n",
    "4      35.0\n",
    "       ... \n",
    "886    27.0\n",
    "887    19.0\n",
    "888    19.0\n",
    "889    26.0\n",
    "890    32.0\n",
    "Name: Age, Length: 891, dtype: float64"
   ]
  },
  {
   "cell_type": "markdown",
   "metadata": {},
   "source": [
    "#### 3-5. 'Age' column의 결측치를 평균값으로 대체하세요."
   ]
  },
  {
   "cell_type": "code",
   "execution_count": null,
   "metadata": {},
   "outputs": [],
   "source": [
    "# df를 복사하여 새로운 dataframe으로 저장\n",
    "\n",
    "\n",
    "# 복사한 dataframe의 'Age'열 결측치를 평균값으로 대체\n",
    "\n",
    "\n",
    "# dataframe 'Age' column 출력\n"
   ]
  },
  {
   "cell_type": "raw",
   "metadata": {},
   "source": [
    "0      22.000000\n",
    "1      38.000000\n",
    "2      26.000000\n",
    "3      35.000000\n",
    "4      35.000000\n",
    "         ...    \n",
    "886    27.000000\n",
    "887    19.000000\n",
    "888    29.699118\n",
    "889    26.000000\n",
    "890    32.000000\n",
    "Name: Age, Length: 891, dtype: float64"
   ]
  },
  {
   "cell_type": "markdown",
   "metadata": {},
   "source": [
    "#### 3-6. 'Age' column의 결측치를 선형 보간법으로 채우세요."
   ]
  },
  {
   "cell_type": "code",
   "execution_count": null,
   "metadata": {},
   "outputs": [],
   "source": [
    "# df를 복사하여 새로운 dataframe으로 저장\n",
    "\n",
    "\n",
    "# 복사한 dataframe의 'Age'열 결측치를 선형 보간법으로 대체\n",
    "# pandas.DataFrame.interpolate 함수 활용\n",
    "\n",
    "\n",
    "# dataframe 'Age' column 출력\n"
   ]
  },
  {
   "cell_type": "raw",
   "metadata": {},
   "source": [
    "0      22.0\n",
    "1      38.0\n",
    "2      26.0\n",
    "3      35.0\n",
    "4      35.0\n",
    "       ... \n",
    "886    27.0\n",
    "887    19.0\n",
    "888    22.5\n",
    "889    26.0\n",
    "890    32.0\n",
    "Name: Age, Length: 891, dtype: float64"
   ]
  },
  {
   "cell_type": "markdown",
   "metadata": {},
   "source": [
    "#### 3-7. 3-2부터 3-6까지 결측치를 처리한 각 dataframe에서 'Age' column의 평균과 중앙값을 출력하세요."
   ]
  },
  {
   "cell_type": "code",
   "execution_count": null,
   "metadata": {},
   "outputs": [],
   "source": [
    "# 각 dataframe 'Age' column 평균 출력\n",
    "\n",
    "\n",
    "\n",
    "\n",
    "\n",
    "\n",
    "# 각 dataframe 'Age' column 중앙값 출력\n",
    "\n",
    "\n",
    "\n",
    "\n"
   ]
  },
  {
   "cell_type": "raw",
   "metadata": {},
   "source": [
    "평균(결측값 제거): 29.69911764705882\n",
    "평균(결측값 0): 23.79929292929293\n",
    "평균(결측값 이전값): 29.581560044893376\n",
    "평균(결측값 평균): 29.69911764705882\n",
    "평균(결측값 선형 보간): 29.726060606060603\n",
    "중앙값(결측값 제거): 28.0\n",
    "중앙값(결측값 0): 24.0\n",
    "중앙값(결측값 이전값): 28.0\n",
    "중앙값(결측값 평균): 29.69911764705882\n",
    "중앙값(결측값 선형 보간): 28.5"
   ]
  },
  {
   "cell_type": "markdown",
   "metadata": {},
   "source": [
    "### 4. 와인 품질 데이터로 아래 문제에 맞게 코드를 작성하세요."
   ]
  },
  {
   "cell_type": "code",
   "execution_count": null,
   "metadata": {},
   "outputs": [],
   "source": [
    "import pandas as pd\n",
    "import seaborn as sns\n",
    "import numpy as np\n",
    "\n",
    "# 주어진 데이터 생성\n",
    "df = pd.read_csv('https://archive.ics.uci.edu/ml/machine-learning-databases/wine-quality/winequality-red.csv', sep=';')"
   ]
  },
  {
   "cell_type": "markdown",
   "metadata": {},
   "source": [
    "#### 4-1. 위에서 생성한 DataFrame 객체의 앞 3개 행을 출력하시오."
   ]
  },
  {
   "cell_type": "code",
   "execution_count": null,
   "metadata": {},
   "outputs": [],
   "source": [
    "# Data 형태 확인\n",
    "# DataFrame의 앞 3개 행을 출력\n",
    "print(\"앞 3개 행:\")\n"
   ]
  },
  {
   "cell_type": "raw",
   "metadata": {},
   "source": [
    "앞 3개 행:\n",
    "   fixed acidity  volatile acidity  citric acid  residual sugar  chlorides  \\\n",
    "0            7.4              0.70         0.00             1.9      0.076   \n",
    "1            7.8              0.88         0.00             2.6      0.098   \n",
    "2            7.8              0.76         0.04             2.3      0.092   \n",
    "\n",
    "   free sulfur dioxide  total sulfur dioxide  density    pH  sulphates  \\\n",
    "0                 11.0                  34.0   0.9978  3.51       0.56   \n",
    "1                 25.0                  67.0   0.9968  3.20       0.68   \n",
    "2                 15.0                  54.0   0.9970  3.26       0.65   \n",
    "\n",
    "   alcohol  quality  \n",
    "0      9.4        5  \n",
    "1      9.8        5  \n",
    "2      9.8        5  "
   ]
  },
  {
   "cell_type": "markdown",
   "metadata": {},
   "source": [
    "#### 4-2. 와인 품질 데이터의 'pH' column을 상자 그림으로 그려보세요."
   ]
  },
  {
   "cell_type": "code",
   "execution_count": null,
   "metadata": {},
   "outputs": [],
   "source": [
    "# 'pH' column 상자 그림 그리기\n"
   ]
  },
  {
   "cell_type": "markdown",
   "metadata": {},
   "source": [
    "#### 4-3. 'pH' column의 IQR을 구하고 상한과 하한을 계산하세요."
   ]
  },
  {
   "cell_type": "code",
   "execution_count": null,
   "metadata": {},
   "outputs": [],
   "source": [
    "# 'pH' column의 IQR, 상한, 하한 계산하여 변수에 저장\n",
    "\n",
    "\n",
    "\n",
    "\n",
    "# 'pH' column의 IQR, 상한, 하한 출력\n",
    "\n",
    "\n"
   ]
  },
  {
   "cell_type": "raw",
   "metadata": {},
   "source": [
    "pH IQR:  0.18999999999999995\n",
    "pH upper limit:  3.4500000000000006\n",
    "pH lower limit:  2.925"
   ]
  },
  {
   "cell_type": "markdown",
   "metadata": {},
   "source": [
    "#### 4-4. 'pH' column의 극단치를 상한값 또는 하한값으로 대체하세요."
   ]
  },
  {
   "cell_type": "code",
   "execution_count": null,
   "metadata": {},
   "outputs": [],
   "source": [
    "# 'pH' column의 하한 극단치를 하한값으로 변경\n",
    "\n",
    "\n",
    "# 'pH' column의 상한 극단치를 하한값으로 변경\n",
    "\n",
    "\n",
    "# 상한, 하한 극단값 개수 확인\n",
    "\n"
   ]
  },
  {
   "cell_type": "raw",
   "metadata": {},
   "source": [
    "상한 극단값 개수:  254\n",
    "하한 극단값 개수:  14"
   ]
  },
  {
   "cell_type": "markdown",
   "metadata": {},
   "source": [
    "####"
   ]
  }
 ],
 "metadata": {
  "kernelspec": {
   "display_name": "Python 3 (ipykernel)",
   "language": "python",
   "name": "python3"
  },
  "language_info": {
   "codemirror_mode": {
    "name": "ipython",
    "version": 3
   },
   "file_extension": ".py",
   "mimetype": "text/x-python",
   "name": "python",
   "nbconvert_exporter": "python",
   "pygments_lexer": "ipython3",
   "version": "3.11.9"
  }
 },
 "nbformat": 4,
 "nbformat_minor": 4
}
