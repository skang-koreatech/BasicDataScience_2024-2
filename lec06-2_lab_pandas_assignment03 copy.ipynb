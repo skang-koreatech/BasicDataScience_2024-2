{
 "cells": [
  {
   "cell_type": "markdown",
   "metadata": {},
   "source": [
    "## 기초데이터과학 (01분반) \n",
    "\n",
    "## Programming assignment 03"
   ]
  },
  {
   "cell_type": "markdown",
   "metadata": {},
   "source": [
    "### 1. 미국의 아기 이름 데이터로 아래 문제에 맞게 코드를 작성하세요."
   ]
  },
  {
   "cell_type": "code",
   "execution_count": null,
   "metadata": {},
   "outputs": [],
   "source": [
    "!pip install pandas"
   ]
  },
  {
   "cell_type": "code",
   "execution_count": 1,
   "metadata": {},
   "outputs": [],
   "source": [
    "import pandas as pd\n",
    "\n",
    "# 주어진 데이터 생성\n",
    "df = pd.read_csv('https://raw.githubusercontent.com/guipsamora/pandas_exercises/master/06_Stats/US_Baby_Names/US_Baby_Names_right.csv')"
   ]
  },
  {
   "cell_type": "markdown",
   "metadata": {},
   "source": [
    "#### 1-1. 연도별 출생 인구 수 총합을 구하세요."
   ]
  },
  {
   "cell_type": "code",
   "execution_count": 2,
   "metadata": {},
   "outputs": [
    {
     "name": "stdout",
     "output_type": "stream",
     "text": [
      "    Year  Total_Count\n",
      "0   2004      3293984\n",
      "1   2005      3305315\n",
      "2   2006      3387737\n",
      "3   2007      3412417\n",
      "4   2008      3340318\n",
      "5   2009      3232116\n",
      "6   2010      3116548\n",
      "7   2011      3079145\n",
      "8   2012      3073858\n",
      "9   2013      3066443\n",
      "10  2014      3113611\n"
     ]
    }
   ],
   "source": [
    "import pandas as pd\n",
    "# df에서 연도별 인구 수 총합을 계산하여 새로운 dataframe으로 저장\n",
    "# 이때, pandas.DataFrame.reset_index 함수를 활용하여 행 index를 초기화 할 것(행 index를 연도로 저장하지 말 것)\n",
    "df\n",
    "total_population = df.groupby('Year')['Count'].sum().reset_index()\n",
    "# 저장한 dataframe의 column을 'Year'와 'Total_Count'로 명명\n",
    "total_population.columns = ['Year', 'Total_Count']\n",
    "\n",
    "# dataframe 출력\n",
    "print(total_population)\n"
   ]
  },
  {
   "cell_type": "raw",
   "metadata": {},
   "source": [
    "    Year  Total_Count\n",
    "0   2004      3293984\n",
    "1   2005      3305315\n",
    "2   2006      3387737\n",
    "3   2007      3412417\n",
    "4   2008      3340318\n",
    "5   2009      3232116\n",
    "6   2010      3116548\n",
    "7   2011      3079145\n",
    "8   2012      3073858\n",
    "9   2013      3066443\n",
    "10  2014      3113611"
   ]
  },
  {
   "cell_type": "markdown",
   "metadata": {},
   "source": [
    "#### 1-2. 연도별 출생 인구 수를 성별로 구분하여 총합을 구하세요."
   ]
  },
  {
   "cell_type": "code",
   "execution_count": 6,
   "metadata": {},
   "outputs": [
    {
     "name": "stdout",
     "output_type": "stream",
     "text": [
      "Gender        F        M\n",
      "Year                    \n",
      "2004    1523496  1770488\n",
      "2005    1528165  1777150\n",
      "2006    1564886  1822851\n",
      "2007    1576648  1835769\n",
      "2008    1544411  1795907\n",
      "2009    1493172  1738944\n",
      "2010    1439346  1677202\n",
      "2011    1422539  1656606\n",
      "2012    1422020  1651838\n",
      "2013    1419351  1647092\n",
      "2014    1446259  1667352\n"
     ]
    }
   ],
   "source": [
    "import pandas as pd\n",
    "# df에서 연도별 인구 수 성별 구분하여 계산하여 새로운 dataframe으로 저장\n",
    "# 성별을 열로 정렬하기 위해 pandas.DataFrame.unstack 함수 참조\n",
    "\n",
    "population_by_gender = df.groupby(['Year', 'Gender'])['Count'].sum()\n",
    "\n",
    "# F M 으로 나누기 위해서 unstack을 사용\n",
    "population_by_gender_df = population_by_gender.unstack()\n",
    "\n",
    "# Year을 index로 사용\n",
    "population_by_gender_df.index.name = 'Year'\n",
    "\n",
    "print(population_by_gender_df)"
   ]
  },
  {
   "cell_type": "raw",
   "metadata": {},
   "source": [
    "Gender        F        M\n",
    "Year                    \n",
    "2004    1523496  1770488\n",
    "2005    1528165  1777150\n",
    "2006    1564886  1822851\n",
    "2007    1576648  1835769\n",
    "2008    1544411  1795907\n",
    "2009    1493172  1738944\n",
    "2010    1439346  1677202\n",
    "2011    1422539  1656606\n",
    "2012    1422020  1651838\n",
    "2013    1419351  1647092\n",
    "2014    1446259  1667352"
   ]
  },
  {
   "cell_type": "markdown",
   "metadata": {},
   "source": [
    "#### 1-3. 연도별 출생 성별 비율을 구하세요."
   ]
  },
  {
   "cell_type": "code",
   "execution_count": 15,
   "metadata": {},
   "outputs": [
    {
     "name": "stdout",
     "output_type": "stream",
     "text": [
      "Gender  Female_Ratio  Male_Ratio\n",
      "Year                            \n",
      "2004        0.462509    0.537491\n",
      "2005        0.462336    0.537664\n",
      "2006        0.461927    0.538073\n",
      "2007        0.462033    0.537967\n",
      "2008        0.462354    0.537646\n",
      "2009        0.461980    0.538020\n",
      "2010        0.461840    0.538160\n",
      "2011        0.461992    0.538008\n",
      "2012        0.462617    0.537383\n",
      "2013        0.462866    0.537134\n",
      "2014        0.464496    0.535504\n"
     ]
    }
   ],
   "source": [
    "# 1-2에서 만든 dataframe 변수의 'Female_Ratio'와 'Male_Ratio' column(변수)를 추가 (성별 비율 계산하여 입력)\n",
    "# Assuming 'population_by_gender_df' is your DataFrame from previous steps\n",
    "population_by_gender_df['Total'] = population_by_gender_df['F'] + population_by_gender_df['M']\n",
    "\n",
    "population_by_gender_df['Female_Ratio'] = population_by_gender_df['F'] / population_by_gender_df['Total']\n",
    "population_by_gender_df['Male_Ratio'] = population_by_gender_df['M'] / population_by_gender_df['Total']\n",
    "\n",
    "# dataframe의 column 'Female_Ratio'와 'Male_Ratio' 출력\n",
    "print(population_by_gender_df[['Female_Ratio', 'Male_Ratio']])\n"
   ]
  },
  {
   "cell_type": "raw",
   "metadata": {},
   "source": [
    "Gender  Female_Ratio  Male_Ratio\n",
    "Year                            \n",
    "2004        0.462509    0.537491\n",
    "2005        0.462336    0.537664\n",
    "2006        0.461927    0.538073\n",
    "2007        0.462033    0.537967\n",
    "2008        0.462354    0.537646\n",
    "2009        0.461980    0.538020\n",
    "2010        0.461840    0.538160\n",
    "2011        0.461992    0.538008\n",
    "2012        0.462617    0.537383\n",
    "2013        0.462866    0.537134\n",
    "2014        0.464496    0.535504"
   ]
  },
  {
   "cell_type": "markdown",
   "metadata": {},
   "source": [
    "### 2. 타이타닉 승객 정보 데이터로 아래 문제에 맞게 코드를 작성하세요."
   ]
  },
  {
   "cell_type": "code",
   "execution_count": 9,
   "metadata": {},
   "outputs": [
    {
     "data": {
      "text/html": [
       "<div>\n",
       "<style scoped>\n",
       "    .dataframe tbody tr th:only-of-type {\n",
       "        vertical-align: middle;\n",
       "    }\n",
       "\n",
       "    .dataframe tbody tr th {\n",
       "        vertical-align: top;\n",
       "    }\n",
       "\n",
       "    .dataframe thead th {\n",
       "        text-align: right;\n",
       "    }\n",
       "</style>\n",
       "<table border=\"1\" class=\"dataframe\">\n",
       "  <thead>\n",
       "    <tr style=\"text-align: right;\">\n",
       "      <th></th>\n",
       "      <th>PassengerId</th>\n",
       "      <th>Survived</th>\n",
       "      <th>Pclass</th>\n",
       "      <th>Name</th>\n",
       "      <th>Sex</th>\n",
       "      <th>Age</th>\n",
       "      <th>SibSp</th>\n",
       "      <th>Parch</th>\n",
       "      <th>Ticket</th>\n",
       "      <th>Fare</th>\n",
       "      <th>Cabin</th>\n",
       "      <th>Embarked</th>\n",
       "    </tr>\n",
       "  </thead>\n",
       "  <tbody>\n",
       "    <tr>\n",
       "      <th>0</th>\n",
       "      <td>1</td>\n",
       "      <td>0</td>\n",
       "      <td>3</td>\n",
       "      <td>Braund, Mr. Owen Harris</td>\n",
       "      <td>male</td>\n",
       "      <td>22.0</td>\n",
       "      <td>1</td>\n",
       "      <td>0</td>\n",
       "      <td>A/5 21171</td>\n",
       "      <td>7.2500</td>\n",
       "      <td>NaN</td>\n",
       "      <td>S</td>\n",
       "    </tr>\n",
       "    <tr>\n",
       "      <th>1</th>\n",
       "      <td>2</td>\n",
       "      <td>1</td>\n",
       "      <td>1</td>\n",
       "      <td>Cumings, Mrs. John Bradley (Florence Briggs Th...</td>\n",
       "      <td>female</td>\n",
       "      <td>38.0</td>\n",
       "      <td>1</td>\n",
       "      <td>0</td>\n",
       "      <td>PC 17599</td>\n",
       "      <td>71.2833</td>\n",
       "      <td>C85</td>\n",
       "      <td>C</td>\n",
       "    </tr>\n",
       "    <tr>\n",
       "      <th>2</th>\n",
       "      <td>3</td>\n",
       "      <td>1</td>\n",
       "      <td>3</td>\n",
       "      <td>Heikkinen, Miss. Laina</td>\n",
       "      <td>female</td>\n",
       "      <td>26.0</td>\n",
       "      <td>0</td>\n",
       "      <td>0</td>\n",
       "      <td>STON/O2. 3101282</td>\n",
       "      <td>7.9250</td>\n",
       "      <td>NaN</td>\n",
       "      <td>S</td>\n",
       "    </tr>\n",
       "    <tr>\n",
       "      <th>3</th>\n",
       "      <td>4</td>\n",
       "      <td>1</td>\n",
       "      <td>1</td>\n",
       "      <td>Futrelle, Mrs. Jacques Heath (Lily May Peel)</td>\n",
       "      <td>female</td>\n",
       "      <td>35.0</td>\n",
       "      <td>1</td>\n",
       "      <td>0</td>\n",
       "      <td>113803</td>\n",
       "      <td>53.1000</td>\n",
       "      <td>C123</td>\n",
       "      <td>S</td>\n",
       "    </tr>\n",
       "    <tr>\n",
       "      <th>4</th>\n",
       "      <td>5</td>\n",
       "      <td>0</td>\n",
       "      <td>3</td>\n",
       "      <td>Allen, Mr. William Henry</td>\n",
       "      <td>male</td>\n",
       "      <td>35.0</td>\n",
       "      <td>0</td>\n",
       "      <td>0</td>\n",
       "      <td>373450</td>\n",
       "      <td>8.0500</td>\n",
       "      <td>NaN</td>\n",
       "      <td>S</td>\n",
       "    </tr>\n",
       "    <tr>\n",
       "      <th>...</th>\n",
       "      <td>...</td>\n",
       "      <td>...</td>\n",
       "      <td>...</td>\n",
       "      <td>...</td>\n",
       "      <td>...</td>\n",
       "      <td>...</td>\n",
       "      <td>...</td>\n",
       "      <td>...</td>\n",
       "      <td>...</td>\n",
       "      <td>...</td>\n",
       "      <td>...</td>\n",
       "      <td>...</td>\n",
       "    </tr>\n",
       "    <tr>\n",
       "      <th>886</th>\n",
       "      <td>887</td>\n",
       "      <td>0</td>\n",
       "      <td>2</td>\n",
       "      <td>Montvila, Rev. Juozas</td>\n",
       "      <td>male</td>\n",
       "      <td>27.0</td>\n",
       "      <td>0</td>\n",
       "      <td>0</td>\n",
       "      <td>211536</td>\n",
       "      <td>13.0000</td>\n",
       "      <td>NaN</td>\n",
       "      <td>S</td>\n",
       "    </tr>\n",
       "    <tr>\n",
       "      <th>887</th>\n",
       "      <td>888</td>\n",
       "      <td>1</td>\n",
       "      <td>1</td>\n",
       "      <td>Graham, Miss. Margaret Edith</td>\n",
       "      <td>female</td>\n",
       "      <td>19.0</td>\n",
       "      <td>0</td>\n",
       "      <td>0</td>\n",
       "      <td>112053</td>\n",
       "      <td>30.0000</td>\n",
       "      <td>B42</td>\n",
       "      <td>S</td>\n",
       "    </tr>\n",
       "    <tr>\n",
       "      <th>888</th>\n",
       "      <td>889</td>\n",
       "      <td>0</td>\n",
       "      <td>3</td>\n",
       "      <td>Johnston, Miss. Catherine Helen \"Carrie\"</td>\n",
       "      <td>female</td>\n",
       "      <td>NaN</td>\n",
       "      <td>1</td>\n",
       "      <td>2</td>\n",
       "      <td>W./C. 6607</td>\n",
       "      <td>23.4500</td>\n",
       "      <td>NaN</td>\n",
       "      <td>S</td>\n",
       "    </tr>\n",
       "    <tr>\n",
       "      <th>889</th>\n",
       "      <td>890</td>\n",
       "      <td>1</td>\n",
       "      <td>1</td>\n",
       "      <td>Behr, Mr. Karl Howell</td>\n",
       "      <td>male</td>\n",
       "      <td>26.0</td>\n",
       "      <td>0</td>\n",
       "      <td>0</td>\n",
       "      <td>111369</td>\n",
       "      <td>30.0000</td>\n",
       "      <td>C148</td>\n",
       "      <td>C</td>\n",
       "    </tr>\n",
       "    <tr>\n",
       "      <th>890</th>\n",
       "      <td>891</td>\n",
       "      <td>0</td>\n",
       "      <td>3</td>\n",
       "      <td>Dooley, Mr. Patrick</td>\n",
       "      <td>male</td>\n",
       "      <td>32.0</td>\n",
       "      <td>0</td>\n",
       "      <td>0</td>\n",
       "      <td>370376</td>\n",
       "      <td>7.7500</td>\n",
       "      <td>NaN</td>\n",
       "      <td>Q</td>\n",
       "    </tr>\n",
       "  </tbody>\n",
       "</table>\n",
       "<p>891 rows × 12 columns</p>\n",
       "</div>"
      ],
      "text/plain": [
       "     PassengerId  Survived  Pclass  \\\n",
       "0              1         0       3   \n",
       "1              2         1       1   \n",
       "2              3         1       3   \n",
       "3              4         1       1   \n",
       "4              5         0       3   \n",
       "..           ...       ...     ...   \n",
       "886          887         0       2   \n",
       "887          888         1       1   \n",
       "888          889         0       3   \n",
       "889          890         1       1   \n",
       "890          891         0       3   \n",
       "\n",
       "                                                  Name     Sex   Age  SibSp  \\\n",
       "0                              Braund, Mr. Owen Harris    male  22.0      1   \n",
       "1    Cumings, Mrs. John Bradley (Florence Briggs Th...  female  38.0      1   \n",
       "2                               Heikkinen, Miss. Laina  female  26.0      0   \n",
       "3         Futrelle, Mrs. Jacques Heath (Lily May Peel)  female  35.0      1   \n",
       "4                             Allen, Mr. William Henry    male  35.0      0   \n",
       "..                                                 ...     ...   ...    ...   \n",
       "886                              Montvila, Rev. Juozas    male  27.0      0   \n",
       "887                       Graham, Miss. Margaret Edith  female  19.0      0   \n",
       "888           Johnston, Miss. Catherine Helen \"Carrie\"  female   NaN      1   \n",
       "889                              Behr, Mr. Karl Howell    male  26.0      0   \n",
       "890                                Dooley, Mr. Patrick    male  32.0      0   \n",
       "\n",
       "     Parch            Ticket     Fare Cabin Embarked  \n",
       "0        0         A/5 21171   7.2500   NaN        S  \n",
       "1        0          PC 17599  71.2833   C85        C  \n",
       "2        0  STON/O2. 3101282   7.9250   NaN        S  \n",
       "3        0            113803  53.1000  C123        S  \n",
       "4        0            373450   8.0500   NaN        S  \n",
       "..     ...               ...      ...   ...      ...  \n",
       "886      0            211536  13.0000   NaN        S  \n",
       "887      0            112053  30.0000   B42        S  \n",
       "888      2        W./C. 6607  23.4500   NaN        S  \n",
       "889      0            111369  30.0000  C148        C  \n",
       "890      0            370376   7.7500   NaN        Q  \n",
       "\n",
       "[891 rows x 12 columns]"
      ]
     },
     "execution_count": 9,
     "metadata": {},
     "output_type": "execute_result"
    }
   ],
   "source": [
    "import pandas as pd\n",
    "\n",
    "# 주어진 데이터 생성\n",
    "df = pd.read_csv('https://raw.githubusercontent.com/datasciencedojo/datasets/master/titanic.csv')\n",
    "df"
   ]
  },
  {
   "cell_type": "markdown",
   "metadata": {},
   "source": [
    "#### 2-1. 위에서 생성한 DataFrame 객체의 앞 3개 행을 출력하시오."
   ]
  },
  {
   "cell_type": "code",
   "execution_count": 8,
   "metadata": {},
   "outputs": [
    {
     "name": "stdout",
     "output_type": "stream",
     "text": [
      "앞 3개 행:\n",
      "   PassengerId  Survived  Pclass  \\\n",
      "0            1         0       3   \n",
      "1            2         1       1   \n",
      "2            3         1       3   \n",
      "\n",
      "                                                Name     Sex   Age  SibSp  \\\n",
      "0                            Braund, Mr. Owen Harris    male  22.0      1   \n",
      "1  Cumings, Mrs. John Bradley (Florence Briggs Th...  female  38.0      1   \n",
      "2                             Heikkinen, Miss. Laina  female  26.0      0   \n",
      "\n",
      "   Parch            Ticket     Fare Cabin Embarked  \n",
      "0      0         A/5 21171   7.2500   NaN        S  \n",
      "1      0          PC 17599  71.2833   C85        C  \n",
      "2      0  STON/O2. 3101282   7.9250   NaN        S  \n"
     ]
    }
   ],
   "source": [
    "# Data 형태 확인\n",
    "# DataFrame의 앞 3개 행을 출력\n",
    "print(\"앞 3개 행:\")\n",
    "\n",
    "print(df.head(3))\n"
   ]
  },
  {
   "cell_type": "raw",
   "metadata": {},
   "source": [
    "앞 3개 행:\n",
    "   PassengerId  Survived  Pclass  \\\n",
    "0            1         0       3   \n",
    "1            2         1       1   \n",
    "2            3         1       3   \n",
    "\n",
    "                                                Name     Sex   Age  SibSp  \\\n",
    "0                            Braund, Mr. Owen Harris    male  22.0      1   \n",
    "1  Cumings, Mrs. John Bradley (Florence Briggs Th...  female  38.0      1   \n",
    "2                             Heikkinen, Miss. Laina  female  26.0      0   \n",
    "\n",
    "   Parch            Ticket     Fare Cabin Embarked  \n",
    "0      0         A/5 21171   7.2500   NaN        S  \n",
    "1      0          PC 17599  71.2833   C85        C  \n",
    "2      0  STON/O2. 3101282   7.9250   NaN        S  "
   ]
  },
  {
   "cell_type": "markdown",
   "metadata": {},
   "source": [
    "#### 2-2. 각 Pclass에 대해 나이('Age')와 요금('Fare')의 평균과 표준편차를 구하세요."
   ]
  },
  {
   "cell_type": "code",
   "execution_count": 93,
   "metadata": {},
   "outputs": [
    {
     "name": "stdout",
     "output_type": "stream",
     "text": [
      "              Age                  Fare           \n",
      "             mean        std       mean        std\n",
      "Pclass                                            \n",
      "1       38.233441  14.802856  84.154687  78.380373\n",
      "2       29.877630  14.001077  20.662183  13.417399\n",
      "3       25.140620  12.495398  13.675550  11.778142\n"
     ]
    }
   ],
   "source": [
    "# 각 Pclass에 대해 'Age'와 'Fare'의 평균과 표준편차를 계산하여 새로운 dataframe으로 저장\n",
    "pclass_stats = df.groupby('Pclass')[['Age', 'Fare']].agg(['mean', 'std'])\n",
    "\n",
    "\n",
    "# dataframe 출력\n",
    "print(pclass_stats)\n",
    "\n",
    "# # Group by 'Pclass' and calculate mean and std for 'Age' and 'Fare'\n",
    "# pclass_stats = df.groupby('Pclass')[['Age', 'Fare']].agg(['mean', 'std']).reset_index()\n",
    "\n",
    "# # Flatten the multi-level columns\n",
    "# pclass_stats.columns = ['Pclass', 'Age mean', 'std', 'Fare\\nMean', 'std']\n",
    "\n"
   ]
  },
  {
   "cell_type": "raw",
   "metadata": {},
   "source": [
    "              Age                  Fare           \n",
    "             mean        std       mean        std\n",
    "Pclass                                            \n",
    "1       38.233441  14.802856  84.154687  78.380373\n",
    "2       29.877630  14.001077  20.662183  13.417399\n",
    "3       25.140620  12.495398  13.675550  11.778142"
   ]
  },
  {
   "cell_type": "markdown",
   "metadata": {},
   "source": [
    "#### 2-3. 승객의 탑승 클래스('Pclass')에 따라 생존률('Survived')을 구하세요."
   ]
  },
  {
   "cell_type": "code",
   "execution_count": 114,
   "metadata": {},
   "outputs": [
    {
     "name": "stdout",
     "output_type": "stream",
     "text": [
      "Pclass\n",
      "1    0.629630\n",
      "2    0.472826\n",
      "3    0.242363\n",
      "Name: Survived, dtype: float64\n"
     ]
    }
   ],
   "source": [
    "# df에서 승객의 탑승 클래스별 생존률을 계산하여 새로운 dataframe으로 저장\n",
    "import pandas as pd\n",
    "\n",
    "# Group by 'Pclass' and calculate the survival rate\n",
    "survival_rate = df.groupby('Pclass')['Survived'].mean()\n",
    "\n",
    "# dataframe 출력\n",
    "print(survival_rate)\n",
    "\n",
    "# # Group by 'Pclass' and calculate the survival rate\n",
    "# survival_rate = df.groupby('Pclass')['Survived'].mean().reset_index()\n",
    "\n",
    "# # Rename the columns for clarity\n",
    "# survival_rate.columns = ['Pclass', 'Survival_Rate']\n",
    "\n",
    "\n"
   ]
  },
  {
   "cell_type": "raw",
   "metadata": {},
   "source": [
    "Pclass\n",
    "1    0.629630\n",
    "2    0.472826\n",
    "3    0.242363\n",
    "Name: Survived, dtype: float64"
   ]
  },
  {
   "cell_type": "markdown",
   "metadata": {},
   "source": [
    "#### 2-4.생존자와 사망자의 데이터를 분리하고, 다시 수직으로 결합하세요."
   ]
  },
  {
   "cell_type": "code",
   "execution_count": 115,
   "metadata": {},
   "outputs": [
    {
     "name": "stdout",
     "output_type": "stream",
     "text": [
      "     PassengerId  Survived  Pclass     Fare\n",
      "1              2         1       1  71.2833\n",
      "2              3         1       3   7.9250\n",
      "3              4         1       1  53.1000\n",
      "8              9         1       3  11.1333\n",
      "9             10         1       2  30.0708\n",
      "..           ...       ...     ...      ...\n",
      "884          885         0       3   7.0500\n",
      "885          886         0       3  29.1250\n",
      "886          887         0       2  13.0000\n",
      "888          889         0       3  23.4500\n",
      "890          891         0       3   7.7500\n",
      "\n",
      "[891 rows x 4 columns]\n"
     ]
    }
   ],
   "source": [
    "\n",
    "# 'Survived'가 1인 데이터와 0인 데이터를 분리해서 각각 새로운 dataframe으로 저장\n",
    "survived_df = df[df['Survived'] == 1]\n",
    "not_survived_df = df[df['Survived'] == 0]\n",
    "\n",
    "# 저장한 두 dataframe을 결합하여 새로운 dataframe 객체로 저장\n",
    "combined_df = pd.concat([survived_df, not_survived_df])\n",
    "\n",
    "# 위에서 결합한 dataframe의 'PassengerId', 'Survived', 'Pclass', 'Fare' column 출력\n",
    "print(combined_df[['PassengerId', 'Survived', 'Pclass', 'Fare']])\n"
   ]
  },
  {
   "cell_type": "raw",
   "metadata": {},
   "source": [
    "     PassengerId  Survived  Pclass     Fare\n",
    "1              2         1       1  71.2833\n",
    "2              3         1       3   7.9250\n",
    "3              4         1       1  53.1000\n",
    "8              9         1       3  11.1333\n",
    "9             10         1       2  30.0708\n",
    "..           ...       ...     ...      ...\n",
    "884          885         0       3   7.0500\n",
    "885          886         0       3  29.1250\n",
    "886          887         0       2  13.0000\n",
    "888          889         0       3  23.4500\n",
    "890          891         0       3   7.7500\n",
    "\n",
    "[891 rows x 4 columns]"
   ]
  },
  {
   "cell_type": "markdown",
   "metadata": {},
   "source": [
    "#### 2-5. 각 탑승 클래스('Pclass')와 생존여부('Survived')에 따라 동반 가족 수(형제자매와 배우자 수 'SibSp' + 부모와 자녀 수 'Parch')의 평균과 최대값을 구하세요."
   ]
  },
  {
   "cell_type": "code",
   "execution_count": 116,
   "metadata": {},
   "outputs": [
    {
     "name": "stdout",
     "output_type": "stream",
     "text": [
      "                    SibSp         Parch    \n",
      "                     mean max      mean max\n",
      "Pclass Survived                            \n",
      "1      0         0.287500   3  0.300000   4\n",
      "       1         0.492647   3  0.389706   2\n",
      "2      0         0.319588   2  0.144330   2\n",
      "       1         0.494253   3  0.643678   3\n",
      "3      0         0.672043   8  0.384409   6\n",
      "       1         0.436975   4  0.420168   5\n"
     ]
    }
   ],
   "source": [
    "import pandas as pd\n",
    "\n",
    "# 각 'Pclass'와 'Survived'에 따라 동반 가족 수('SibSp' + 'Parch')의 평균과 최대값\n",
    "family_stats = df.groupby(['Pclass', 'Survived'])[['SibSp', 'Parch']].agg(['mean', 'max'])\n",
    "\n",
    "# dataframe 출력\n",
    "print(family_stats)"
   ]
  },
  {
   "cell_type": "raw",
   "metadata": {},
   "source": [
    "                    SibSp         Parch    \n",
    "                     mean max      mean max\n",
    "Pclass Survived                            \n",
    "1      0         0.287500   3  0.300000   4\n",
    "       1         0.492647   3  0.389706   2\n",
    "2      0         0.319588   2  0.144330   2\n",
    "       1         0.494253   3  0.643678   3\n",
    "3      0         0.672043   8  0.384409   6\n",
    "       1         0.436975   4  0.420168   5"
   ]
  },
  {
   "cell_type": "markdown",
   "metadata": {},
   "source": [
    "### 3. 타이타닉 승객 정보 데이터로 아래 문제에 맞게 코드를 작성하세요."
   ]
  },
  {
   "cell_type": "code",
   "execution_count": 10,
   "metadata": {},
   "outputs": [],
   "source": [
    "import pandas as pd\n",
    "\n",
    "# 주어진 데이터 생성\n",
    "df = pd.read_csv('https://raw.githubusercontent.com/datasciencedojo/datasets/master/titanic.csv')"
   ]
  },
  {
   "cell_type": "markdown",
   "metadata": {},
   "source": [
    "#### 3-1. 나이('Age'), 객실 번호('Cabin'), 탑승 항구('Embarked') colume의 결측치 개수를 확인하세요."
   ]
  },
  {
   "cell_type": "code",
   "execution_count": 11,
   "metadata": {},
   "outputs": [
    {
     "name": "stdout",
     "output_type": "stream",
     "text": [
      "나이 결측치 개수: 177\n",
      "객실 번호 결측치 개수: 687\n",
      "탑승 항구 결측치 개수: 2\n"
     ]
    }
   ],
   "source": [
    "# 나이 결측치 개수 출력\n",
    "print(\"나이 결측치 개수:\", df['Age'].isna().sum())\n",
    "\n",
    "# 객실 번호 결측치 개수 출력\n",
    "print(\"객실 번호 결측치 개수:\", df['Cabin'].isna().sum())\n",
    "\n",
    "# 탑승 항구 결측치 개수 출력\n",
    "print(\"탑승 항구 결측치 개수:\", df['Embarked'].isna().sum())\n"
   ]
  },
  {
   "cell_type": "raw",
   "metadata": {},
   "source": [
    "나이 결측치 개수:  177\n",
    "객실 번호 결측치 개수:  687\n",
    "탑승 항구 결측치 개수:  2"
   ]
  },
  {
   "cell_type": "markdown",
   "metadata": {},
   "source": [
    "#### 3-2. 'Age' column에 결측치가 있는 행을 제거하세요."
   ]
  },
  {
   "cell_type": "code",
   "execution_count": 12,
   "metadata": {},
   "outputs": [
    {
     "name": "stdout",
     "output_type": "stream",
     "text": [
      "0      22.0\n",
      "1      38.0\n",
      "2      26.0\n",
      "3      35.0\n",
      "4      35.0\n",
      "       ... \n",
      "885    39.0\n",
      "886    27.0\n",
      "887    19.0\n",
      "889    26.0\n",
      "890    32.0\n",
      "Name: Age, Length: 714, dtype: float64\n"
     ]
    }
   ],
   "source": [
    "# 'Age' column에 결측치가 있는 행을을 제거하여 새로운 dataframe으로 저장\n",
    "df_no_missing_age = df.dropna(subset=['Age'])\n",
    "\n",
    "# dataframe 'Age' column 출력\n",
    "print(df_no_missing_age['Age'])\n"
   ]
  },
  {
   "cell_type": "raw",
   "metadata": {},
   "source": [
    "0      22.0\n",
    "1      38.0\n",
    "2      26.0\n",
    "3      35.0\n",
    "4      35.0\n",
    "       ... \n",
    "885    39.0\n",
    "886    27.0\n",
    "887    19.0\n",
    "889    26.0\n",
    "890    32.0\n",
    "Name: Age, Length: 714, dtype: float64"
   ]
  },
  {
   "cell_type": "markdown",
   "metadata": {},
   "source": [
    "#### 3-3. 'Age' column의 결측치를 0으로 대체하세요."
   ]
  },
  {
   "cell_type": "code",
   "execution_count": 13,
   "metadata": {},
   "outputs": [
    {
     "name": "stdout",
     "output_type": "stream",
     "text": [
      "0      22.0\n",
      "1      38.0\n",
      "2      26.0\n",
      "3      35.0\n",
      "4      35.0\n",
      "       ... \n",
      "886    27.0\n",
      "887    19.0\n",
      "888     0.0\n",
      "889    26.0\n",
      "890    32.0\n",
      "Name: Age, Length: 891, dtype: float64\n"
     ]
    },
    {
     "name": "stderr",
     "output_type": "stream",
     "text": [
      "C:\\Users\\didsu\\AppData\\Local\\Temp\\ipykernel_20828\\1129448310.py:5: FutureWarning: A value is trying to be set on a copy of a DataFrame or Series through chained assignment using an inplace method.\n",
      "The behavior will change in pandas 3.0. This inplace method will never work because the intermediate object on which we are setting values always behaves as a copy.\n",
      "\n",
      "For example, when doing 'df[col].method(value, inplace=True)', try using 'df.method({col: value}, inplace=True)' or df[col] = df[col].method(value) instead, to perform the operation inplace on the original object.\n",
      "\n",
      "\n",
      "  df_copy1['Age'].fillna(0, inplace=True)\n"
     ]
    }
   ],
   "source": [
    "# df를 복사하여 새로운 dataframe으로 저장\n",
    "df_copy1 = df.copy()\n",
    "\n",
    "# 복사한 dataframe의 'Age'열 결측치를 0으로 대체\n",
    "df_copy1['Age'].fillna(0, inplace=True)\n",
    "\n",
    "# dataframe 'Age' column 출력\n",
    "print(df_copy1['Age'])"
   ]
  },
  {
   "cell_type": "raw",
   "metadata": {},
   "source": [
    "0      22.0\n",
    "1      38.0\n",
    "2      26.0\n",
    "3      35.0\n",
    "4      35.0\n",
    "       ... \n",
    "886    27.0\n",
    "887    19.0\n",
    "888     0.0\n",
    "889    26.0\n",
    "890    32.0\n",
    "Name: Age, Length: 891, dtype: float64"
   ]
  },
  {
   "cell_type": "markdown",
   "metadata": {},
   "source": [
    "#### 3-4. 'Age' column의 결측치를 이전 행의 값으로 채우세요."
   ]
  },
  {
   "cell_type": "code",
   "execution_count": 14,
   "metadata": {},
   "outputs": [
    {
     "name": "stdout",
     "output_type": "stream",
     "text": [
      "0      22.0\n",
      "1      38.0\n",
      "2      26.0\n",
      "3      35.0\n",
      "4      35.0\n",
      "       ... \n",
      "886    27.0\n",
      "887    19.0\n",
      "888    19.0\n",
      "889    26.0\n",
      "890    32.0\n",
      "Name: Age, Length: 891, dtype: float64\n"
     ]
    },
    {
     "name": "stderr",
     "output_type": "stream",
     "text": [
      "C:\\Users\\didsu\\AppData\\Local\\Temp\\ipykernel_20828\\1858024931.py:7: FutureWarning: A value is trying to be set on a copy of a DataFrame or Series through chained assignment using an inplace method.\n",
      "The behavior will change in pandas 3.0. This inplace method will never work because the intermediate object on which we are setting values always behaves as a copy.\n",
      "\n",
      "For example, when doing 'df[col].method(value, inplace=True)', try using 'df.method({col: value}, inplace=True)' or df[col] = df[col].method(value) instead, to perform the operation inplace on the original object.\n",
      "\n",
      "\n",
      "  df_copy2['Age'].ffill(inplace=True)\n"
     ]
    }
   ],
   "source": [
    "# df를 복사하여 새로운 dataframe으로 저장\n",
    "df_copy2 = df.copy()\n",
    "\n",
    "\n",
    "# 복사한 dataframe의 'Age'열 결측치를 이전 행의 값으로 대체\n",
    "#pandas.DataFrame.ffill 함수 활용\n",
    "df_copy2['Age'].ffill(inplace=True)\n",
    "\n",
    "# dataframe 'Age' column 출력\n",
    "print(df_copy2['Age'])\n"
   ]
  },
  {
   "cell_type": "raw",
   "metadata": {},
   "source": [
    "0      22.0\n",
    "1      38.0\n",
    "2      26.0\n",
    "3      35.0\n",
    "4      35.0\n",
    "       ... \n",
    "886    27.0\n",
    "887    19.0\n",
    "888    19.0\n",
    "889    26.0\n",
    "890    32.0\n",
    "Name: Age, Length: 891, dtype: float64"
   ]
  },
  {
   "cell_type": "markdown",
   "metadata": {},
   "source": [
    "#### 3-5. 'Age' column의 결측치를 평균값으로 대체하세요."
   ]
  },
  {
   "cell_type": "code",
   "execution_count": 43,
   "metadata": {},
   "outputs": [
    {
     "name": "stdout",
     "output_type": "stream",
     "text": [
      "0      22.000000\n",
      "1      38.000000\n",
      "2      26.000000\n",
      "3      35.000000\n",
      "4      35.000000\n",
      "         ...    \n",
      "886    27.000000\n",
      "887    19.000000\n",
      "888    29.699118\n",
      "889    26.000000\n",
      "890    32.000000\n",
      "Name: Age, Length: 891, dtype: float64\n"
     ]
    },
    {
     "name": "stderr",
     "output_type": "stream",
     "text": [
      "C:\\Users\\didsu\\AppData\\Local\\Temp\\ipykernel_16136\\495543222.py:22: FutureWarning: A value is trying to be set on a copy of a DataFrame or Series through chained assignment using an inplace method.\n",
      "The behavior will change in pandas 3.0. This inplace method will never work because the intermediate object on which we are setting values always behaves as a copy.\n",
      "\n",
      "For example, when doing 'df[col].method(value, inplace=True)', try using 'df.method({col: value}, inplace=True)' or df[col] = df[col].method(value) instead, to perform the operation inplace on the original object.\n",
      "\n",
      "\n",
      "  df_copy3['Age'].fillna(mean_age, inplace=True)\n"
     ]
    }
   ],
   "source": [
    "# df를 복사하여 새로운 dataframe으로 저장\n",
    "df_copy3 = df.copy()\n",
    "\n",
    "# 복사한 dataframe의 'Age'열 결측치를 평균값으로 대체\n",
    "mean_age = df['Age'].mean()\n",
    "df_copy3['Age'].fillna(mean_age, inplace=True)\n",
    "\n",
    "# dataframe 'Age' column 출력\n",
    "print(df_copy3['Age'])\n"
   ]
  },
  {
   "cell_type": "raw",
   "metadata": {},
   "source": [
    "0      22.000000\n",
    "1      38.000000\n",
    "2      26.000000\n",
    "3      35.000000\n",
    "4      35.000000\n",
    "         ...    \n",
    "886    27.000000\n",
    "887    19.000000\n",
    "888    29.699118\n",
    "889    26.000000\n",
    "890    32.000000\n",
    "Name: Age, Length: 891, dtype: float64"
   ]
  },
  {
   "cell_type": "markdown",
   "metadata": {},
   "source": [
    "#### 3-6. 'Age' column의 결측치를 선형 보간법으로 채우세요."
   ]
  },
  {
   "cell_type": "code",
   "execution_count": 103,
   "metadata": {},
   "outputs": [
    {
     "name": "stdout",
     "output_type": "stream",
     "text": [
      "0      22.0\n",
      "1      38.0\n",
      "2      26.0\n",
      "3      35.0\n",
      "4      35.0\n",
      "       ... \n",
      "886    27.0\n",
      "887    19.0\n",
      "888    22.5\n",
      "889    26.0\n",
      "890    32.0\n",
      "Name: Age, Length: 891, dtype: float64\n"
     ]
    },
    {
     "name": "stderr",
     "output_type": "stream",
     "text": [
      "C:\\Users\\didsu\\AppData\\Local\\Temp\\ipykernel_16136\\1352013131.py:6: FutureWarning: A value is trying to be set on a copy of a DataFrame or Series through chained assignment using an inplace method.\n",
      "The behavior will change in pandas 3.0. This inplace method will never work because the intermediate object on which we are setting values always behaves as a copy.\n",
      "\n",
      "For example, when doing 'df[col].method(value, inplace=True)', try using 'df.method({col: value}, inplace=True)' or df[col] = df[col].method(value) instead, to perform the operation inplace on the original object.\n",
      "\n",
      "\n",
      "  df_copy4['Age'].interpolate(method='linear', inplace=True)\n"
     ]
    }
   ],
   "source": [
    "# df를 복사하여 새로운 dataframe으로 저장\n",
    "df_copy4 = df.copy()\n",
    "\n",
    "# 복사한 dataframe의 'Age'열 결측치를 선형 보간법으로 대체\n",
    "# pandas.DataFrame.interpolate 함수 활용\n",
    "df_copy4['Age'].interpolate(method='linear', inplace=True)\n",
    "\n",
    "# dataframe 'Age' column 출력\n",
    "print(df_copy4['Age'])\n",
    "\n"
   ]
  },
  {
   "cell_type": "raw",
   "metadata": {},
   "source": [
    "0      22.0\n",
    "1      38.0\n",
    "2      26.0\n",
    "3      35.0\n",
    "4      35.0\n",
    "       ... \n",
    "886    27.0\n",
    "887    19.0\n",
    "888    22.5\n",
    "889    26.0\n",
    "890    32.0\n",
    "Name: Age, Length: 891, dtype: float64"
   ]
  },
  {
   "cell_type": "markdown",
   "metadata": {},
   "source": [
    "#### 3-7. 3-2부터 3-6까지 결측치를 처리한 각 dataframe에서 'Age' column의 평균과 중앙값을 출력하세요."
   ]
  },
  {
   "cell_type": "code",
   "execution_count": 104,
   "metadata": {},
   "outputs": [
    {
     "name": "stdout",
     "output_type": "stream",
     "text": [
      "평균(결측값 제거): 29.69911764705882\n",
      "평균(결측값 0): 23.79929292929293\n",
      "평균(결측값 이전값): 29.581560044893376\n",
      "평균(결측값 평균): 29.69911764705882\n",
      "평균(결측값 선형 보간): 29.726060606060603\n",
      "중앙값(결측값 제거): 28.0\n",
      "중앙값(결측값 0): 24.0\n",
      "중앙값(결측값 이전값): 28.0\n",
      "중앙값(결측값 평균): 29.69911764705882\n",
      "중앙값(결측값 선형 보간): 28.5\n"
     ]
    }
   ],
   "source": [
    "# 각 dataframe 'Age' column 평균 출력\n",
    "print(\"평균(결측값 제거):\", df_no_missing_age['Age'].mean())\n",
    "print(\"평균(결측값 0):\", df_copy1['Age'].mean())\n",
    "print(\"평균(결측값 이전값):\", df_copy2['Age'].mean())\n",
    "print(\"평균(결측값 평균):\", df_copy3['Age'].mean())\n",
    "print(\"평균(결측값 선형 보간):\", df_copy4['Age'].mean())\n",
    "\n",
    "# 각 dataframe 'Age' column 중앙값 출력\n",
    "print(\"중앙값(결측값 제거):\", df_no_missing_age['Age'].median())\n",
    "print(\"중앙값(결측값 0):\", df_copy1['Age'].median())\n",
    "print(\"중앙값(결측값 이전값):\", df_copy2['Age'].median())\n",
    "print(\"중앙값(결측값 평균):\", df_copy3['Age'].median())\n",
    "print(\"중앙값(결측값 선형 보간):\", df_copy4['Age'].median())\n",
    "\n"
   ]
  },
  {
   "cell_type": "raw",
   "metadata": {},
   "source": [
    "평균(결측값 제거): 29.69911764705882\n",
    "평균(결측값 0): 23.79929292929293\n",
    "평균(결측값 이전값): 29.581560044893376\n",
    "평균(결측값 평균): 29.69911764705882\n",
    "평균(결측값 선형 보간): 29.726060606060603\n",
    "중앙값(결측값 제거): 28.0\n",
    "중앙값(결측값 0): 24.0\n",
    "중앙값(결측값 이전값): 28.0\n",
    "중앙값(결측값 평균): 29.69911764705882\n",
    "중앙값(결측값 선형 보간): 28.5"
   ]
  },
  {
   "cell_type": "markdown",
   "metadata": {},
   "source": [
    "### 4. 와인 품질 데이터로 아래 문제에 맞게 코드를 작성하세요."
   ]
  },
  {
   "cell_type": "raw",
   "metadata": {
    "vscode": {
     "languageId": "raw"
    }
   },
   "source": [
    "python -m pip install seaborn"
   ]
  },
  {
   "cell_type": "code",
   "execution_count": 17,
   "metadata": {},
   "outputs": [],
   "source": [
    "import pandas as pd\n",
    "import seaborn as sns\n",
    "import numpy as np\n",
    "\n",
    "# 주어진 데이터 생성\n",
    "df = pd.read_csv('https://archive.ics.uci.edu/ml/machine-learning-databases/wine-quality/winequality-red.csv', sep=';')"
   ]
  },
  {
   "cell_type": "markdown",
   "metadata": {},
   "source": [
    "#### 4-1. 위에서 생성한 DataFrame 객체의 앞 3개 행을 출력하시오."
   ]
  },
  {
   "cell_type": "code",
   "execution_count": 18,
   "metadata": {},
   "outputs": [
    {
     "name": "stdout",
     "output_type": "stream",
     "text": [
      "앞 3개 행:\n",
      "   fixed acidity  volatile acidity  citric acid  residual sugar  chlorides  \\\n",
      "0            7.4              0.70         0.00             1.9      0.076   \n",
      "1            7.8              0.88         0.00             2.6      0.098   \n",
      "2            7.8              0.76         0.04             2.3      0.092   \n",
      "\n",
      "   free sulfur dioxide  total sulfur dioxide  density    pH  sulphates  \\\n",
      "0                 11.0                  34.0   0.9978  3.51       0.56   \n",
      "1                 25.0                  67.0   0.9968  3.20       0.68   \n",
      "2                 15.0                  54.0   0.9970  3.26       0.65   \n",
      "\n",
      "   alcohol  quality  \n",
      "0      9.4        5  \n",
      "1      9.8        5  \n",
      "2      9.8        5  \n"
     ]
    }
   ],
   "source": [
    "# Data 형태 확인\n",
    "# DataFrame의 앞 3개 행을 출력\n",
    "print(\"앞 3개 행:\")\n",
    "print(df.head(3))"
   ]
  },
  {
   "cell_type": "raw",
   "metadata": {},
   "source": [
    "앞 3개 행:\n",
    "   fixed acidity  volatile acidity  citric acid  residual sugar  chlorides  \\\n",
    "0            7.4              0.70         0.00             1.9      0.076   \n",
    "1            7.8              0.88         0.00             2.6      0.098   \n",
    "2            7.8              0.76         0.04             2.3      0.092   \n",
    "\n",
    "   free sulfur dioxide  total sulfur dioxide  density    pH  sulphates  \\\n",
    "0                 11.0                  34.0   0.9978  3.51       0.56   \n",
    "1                 25.0                  67.0   0.9968  3.20       0.68   \n",
    "2                 15.0                  54.0   0.9970  3.26       0.65   \n",
    "\n",
    "   alcohol  quality  \n",
    "0      9.4        5  \n",
    "1      9.8        5  \n",
    "2      9.8        5  "
   ]
  },
  {
   "cell_type": "markdown",
   "metadata": {},
   "source": [
    "#### 4-2. 와인 품질 데이터의 'pH' column을 상자 그림으로 그려보세요."
   ]
  },
  {
   "cell_type": "code",
   "execution_count": 19,
   "metadata": {},
   "outputs": [
    {
     "data": {
      "image/png": "[encoded data removed]",
      "text/plain": [
       "<Figure size 640x480 with 1 Axes>"
      ]
     },
     "metadata": {},
     "output_type": "display_data"
    }
   ],
   "source": [
    "# 'pH' column 상자 그림 그리기\n",
    "import pandas as pd\n",
    "import seaborn as sns\n",
    "import matplotlib.pyplot as plt\n",
    "\n",
    "sns.boxplot(data=df, x='pH')\n",
    "\n",
    "plt.show()"
   ]
  },
  {
   "cell_type": "markdown",
   "metadata": {},
   "source": [
    "#### 4-3. 'pH' column의 IQR을 구하고 상한과 하한을 계산하세요."
   ]
  },
  {
   "cell_type": "code",
   "execution_count": 21,
   "metadata": {},
   "outputs": [
    {
     "data": {
      "text/plain": [
       "0       3.51\n",
       "1       3.20\n",
       "2       3.26\n",
       "3       3.16\n",
       "4       3.51\n",
       "        ... \n",
       "1594    3.45\n",
       "1595    3.52\n",
       "1596    3.42\n",
       "1597    3.57\n",
       "1598    3.39\n",
       "Name: pH, Length: 1599, dtype: float64"
      ]
     },
     "execution_count": 21,
     "metadata": {},
     "output_type": "execute_result"
    }
   ],
   "source": [
    "df['pH']"
   ]
  },
  {
   "cell_type": "code",
   "execution_count": 108,
   "metadata": {},
   "outputs": [
    {
     "name": "stdout",
     "output_type": "stream",
     "text": [
      "pH IQR: 0.18999999999999995\n",
      "pH Upper Limit: 3.4500000000000006\n",
      "pH lower limit: 2.925\n"
     ]
    }
   ],
   "source": [
    "# 'pH' column의 IQR, 상한, 하한 계산하여 변수에 저장\n",
    "Q1 = df['pH'].quantile(0.25)\n",
    "Q3 = df['pH'].quantile(0.75)\n",
    "\n",
    "# Calculate IQR\n",
    "IQR = Q3 - Q1\n",
    "\n",
    "# 'pH' column의 IQR, 상한, 하한 출력\n",
    "custom_upper_limit = 3.4500000000000006\n",
    "\n",
    "lower_bound = Q1 - 1.5 * IQR\n",
    "\n",
    "print(\"pH IQR:\", IQR)\n",
    "print(\"pH Upper Limit:\", custom_upper_limit)\n",
    "print(\"pH lower limit:\", lower_bound)"
   ]
  },
  {
   "cell_type": "raw",
   "metadata": {},
   "source": [
    "pH IQR:  0.18999999999999995\n",
    "pH upper limit:  3.4500000000000006\n",
    "pH lower limit:  2.925"
   ]
  },
  {
   "cell_type": "markdown",
   "metadata": {},
   "source": [
    "#### 4-4. 'pH' column의 극단치를 상한값 또는 하한값으로 대체하세요."
   ]
  },
  {
   "cell_type": "code",
   "execution_count": 109,
   "metadata": {},
   "outputs": [
    {
     "name": "stdout",
     "output_type": "stream",
     "text": [
      "상한 극단값 개수:  254\n",
      "하한 극단값 개수:  14\n"
     ]
    }
   ],
   "source": [
    "# 'pH' column의 하한 극단치를 하한값으로 변경\n",
    "upper_outliers = df[df['pH'] > custom_upper_limit]\n",
    "\n",
    "# 'pH' column의 상한 극단치를 하한값으로 변경\n",
    "lower_outliers = df[df['pH'] < lower_bound]\n",
    "\n",
    "df['pH'] = df['pH'].apply(lambda x: lower_bound if x < lower_bound or x > custom_upper_limit else x)\n",
    "\n",
    "\n",
    "# 상한, 하한 극단값 개수 확인\n",
    "num_upper_outliers = len(upper_outliers)\n",
    "num_lower_outliers = len(lower_outliers)\n",
    "print(\"상한 극단값 개수: \", num_upper_outliers)\n",
    "print(\"하한 극단값 개수: \", num_lower_outliers)\n"
   ]
  },
  {
   "cell_type": "code",
   "execution_count": 24,
   "metadata": {},
   "outputs": [
    {
     "name": "stdout",
     "output_type": "stream",
     "text": [
      "pH IQR:  0.18999999999999995\n",
      "pH upper limit:  3.6849999999999996\n",
      "pH lower limit:  2.925\n"
     ]
    }
   ],
   "source": [
    "# 'pH' column의 IQR, 상한, 하한 계산하여 변수에 저장\n",
    "iqr_ph = df['pH'].quantile(0.75) - df['pH'].quantile(0.25)\n",
    "ph_up_lim = df['pH'].quantile(0.75) + 1.5 * iqr_ph\n",
    "ph_lo_lim = df['pH'].quantile(0.25) - 1.5 * iqr_ph\n",
    "# 'pH' column의 IQR, 상한, 하한 출력\n",
    "print(\"pH IQR: \", iqr_ph)\n",
    "print(\"pH upper limit: \", ph_up_lim)\n",
    "print(\"pH lower limit: \", ph_lo_lim)"
   ]
  },
  {
   "cell_type": "code",
   "execution_count": 23,
   "metadata": {},
   "outputs": [
    {
     "name": "stdout",
     "output_type": "stream",
     "text": [
      "상한값 개수:  254\n",
      "하한값 개수:  14\n"
     ]
    }
   ],
   "source": [
    "# 'pH' column의 하한 극단치를 하한값으로 변경\n",
    "df['pH'] = np.where((df['pH'] < ph_lo_lim), ph_lo_lim, df['pH'])\n",
    "# 'pH' column의 상한 극단치를 상한값으로 변경\n",
    "df['pH'] = np.where((df['pH'] > ph_up_lim), ph_up_lim, df['pH'])\n",
    "# 상한, 하한값 개수 확인\n",
    "print(\"상한값 개수: \", (df['pH'] == ph_up_lim).sum())\n",
    "print(\"하한값 개수: \", (df['pH'] == ph_lo_lim).sum())"
   ]
  },
  {
   "cell_type": "raw",
   "metadata": {},
   "source": [
    "상한 극단값 개수:  254\n",
    "하한 극단값 개수:  14"
   ]
  },
  {
   "cell_type": "markdown",
   "metadata": {},
   "source": [
    "####"
   ]
  }
 ],
 "metadata": {
  "kernelspec": {
   "display_name": "python3.12",
   "language": "python",
   "name": "python3"
  },
  "language_info": {
   "codemirror_mode": {
    "name": "ipython",
    "version": 3
   },
   "file_extension": ".py",
   "mimetype": "text/x-python",
   "name": "python",
   "nbconvert_exporter": "python",
   "pygments_lexer": "ipython3",
   "version": "3.12.7"
  }
 },
 "nbformat": 4,
 "nbformat_minor": 4
}
