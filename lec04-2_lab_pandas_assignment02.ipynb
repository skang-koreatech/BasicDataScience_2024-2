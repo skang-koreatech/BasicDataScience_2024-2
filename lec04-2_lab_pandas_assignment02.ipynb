{
 "cells": [
  {
   "cell_type": "markdown",
   "metadata": {},
   "source": [
    "## 기초데이터과학 (01분반) \n",
    "\n",
    "## Programming assignment 02"
   ]
  },
  {
   "cell_type": "markdown",
   "metadata": {},
   "source": [
    "### 1. Pandas Series를 활용하여 결측치를 찾고 합산, 평균을 구하시오."
   ]
  },
  {
   "cell_type": "code",
   "execution_count": 1,
   "metadata": {},
   "outputs": [],
   "source": [
    "import pandas as pd\n",
    "\n",
    "# Series 객체를 생성하기 위해 주어진 데이터\n",
    "d = [100, 200, None, 150, None, 300, 250]\n",
    "i = ['A', 'B', 'C', 'D', 'E', 'F', 'G']"
   ]
  },
  {
   "cell_type": "code",
   "execution_count": 8,
   "metadata": {},
   "outputs": [
    {
     "data": {
      "text/plain": [
       "A    100.0\n",
       "B    200.0\n",
       "C      NaN\n",
       "D    150.0\n",
       "E      NaN\n",
       "F    300.0\n",
       "G    250.0\n",
       "dtype: float64"
      ]
     },
     "execution_count": 8,
     "metadata": {},
     "output_type": "execute_result"
    }
   ],
   "source": [
    "# d를 value로 i를 index로 하는 Series 객체 생성\n",
    "data = pd.Series(d, index=i)\n",
    "data"
   ]
  },
  {
   "cell_type": "markdown",
   "metadata": {},
   "source": [
    "#### 1-1. 위에서 생성한 Series 객체에서 결측치가 있는 값들을 찾고 출력하시오."
   ]
  },
  {
   "cell_type": "code",
   "execution_count": 4,
   "metadata": {},
   "outputs": [
    {
     "name": "stdout",
     "output_type": "stream",
     "text": [
      "결측치가 있는 값들:\n",
      "C   NaN\n",
      "E   NaN\n",
      "dtype: float64\n"
     ]
    }
   ],
   "source": [
    "# 주어진 Series 중 결측치가 있는 값들을 찾고 출력\n",
    "print(\"결측치가 있는 값들:\")\n",
    "\n",
    "# 코드 작성\n",
    "true_isna=data.isna()\n",
    "print(data[true_isna])"
   ]
  },
  {
   "cell_type": "raw",
   "metadata": {},
   "source": [
    "결측치가 있는 값들:\n",
    "C   NaN\n",
    "E   NaN\n",
    "dtype: float64\n"
   ]
  },
  {
   "cell_type": "markdown",
   "metadata": {},
   "source": [
    "#### 1-2. 위에서 생성한 Series 객체에서 결측치가 없는 값들을 찾고 출력하시오."
   ]
  },
  {
   "cell_type": "code",
   "execution_count": 11,
   "metadata": {},
   "outputs": [
    {
     "name": "stdout",
     "output_type": "stream",
     "text": [
      "결측치가 없는 값들:\n",
      "A    100.0\n",
      "B    200.0\n",
      "D    150.0\n",
      "F    300.0\n",
      "G    250.0\n",
      "dtype: float64\n"
     ]
    }
   ],
   "source": [
    "# 주어진 Series 중 결측치가 없는 값들을 찾고 출력\n",
    "print(\"결측치가 없는 값들:\")\n",
    "data_notnull=data.notnull()\n",
    "# 코드 작성\n",
    "print(data[data_notnull])"
   ]
  },
  {
   "cell_type": "raw",
   "metadata": {},
   "source": [
    "결측치가 없는 값들:\n",
    "A    100.0\n",
    "B    200.0\n",
    "D    150.0\n",
    "F    300.0\n",
    "G    250.0\n",
    "dtype: float64\n"
   ]
  },
  {
   "cell_type": "markdown",
   "metadata": {},
   "source": [
    "#### 1-3. 위에서 생성한 Series 객체에서 결측치가 있는 값의 개수를 구하고 출력하시오."
   ]
  },
  {
   "cell_type": "code",
   "execution_count": 24,
   "metadata": {},
   "outputs": [
    {
     "name": "stdout",
     "output_type": "stream",
     "text": [
      "결측치가 있는 값의 개수 : 2\n"
     ]
    }
   ],
   "source": [
    "# 결측치가 있는 값의 개수 구하고 출력\n",
    "data_null = data.isnull()\n",
    "\n",
    "sum_data_null=data_null.sum()\n",
    "# 시도 중에 인식을 못하는 경우의 코드가 있었다. 예를 들어\n",
    "# sum_data_null = data[data_null].sum()을 하는 경우인데 \n",
    "# 이 경우에는 실제 값의 개수를 가져와서 문제가 된 것 같기도 하고..\n",
    "# 근데 count() 함수를 쓰기도 했는데 안된 이유는 뭘까\n",
    "# count()의 경우에는 조건이 아닌 모든 행들의 개수를 구한다고 하더라고\n",
    "# 코드 작성\n",
    "print(f\"결측치가 있는 값의 개수 : {sum_data_null}\")"
   ]
  },
  {
   "cell_type": "raw",
   "metadata": {},
   "source": [
    "결측치가 있는 값의 개수: 2\n"
   ]
  },
  {
   "cell_type": "markdown",
   "metadata": {},
   "source": [
    "#### 1-4. 위에서 생성한 Series 객체에서 결측치가 없는 값들의 평균을 구하고 출력하시오."
   ]
  },
  {
   "cell_type": "code",
   "execution_count": 39,
   "metadata": {},
   "outputs": [
    {
     "name": "stdout",
     "output_type": "stream",
     "text": [
      "결측치가 없는 값들의 평균 : 200.0\n"
     ]
    }
   ],
   "source": [
    "# 결측치가 없는 값들의 평균을 구하고 출력\n",
    "data_mean_notnull=data[data.notnull()].mean()\n",
    "\n",
    "# 코드 작성\n",
    "print(f\"결측치가 없는 값들의 평균 : {data_mean_notnull}\")"
   ]
  },
  {
   "cell_type": "raw",
   "metadata": {},
   "source": [
    "결측치가 없는 값들의 평균: 200.0\n"
   ]
  },
  {
   "cell_type": "markdown",
   "metadata": {},
   "source": [
    "### 2. 다음과 같이 주어진 상품 데이터를 이용하여 아래 문제에 맞게 코드를 작성하시오. "
   ]
  },
  {
   "cell_type": "code",
   "execution_count": 5,
   "metadata": {},
   "outputs": [
    {
     "name": "stdout",
     "output_type": "stream",
     "text": [
      "Default:\n",
      "  Product  Price  Quantity     Category\n",
      "0       A    100        10  Electronics\n",
      "1       B    200         5     Clothing\n",
      "2       C    150         8  Electronics\n",
      "3       D    300         6  Electronics\n",
      "4       E    250         9     Clothing\n",
      "5       F    130        15  Electronics\n",
      "6       G    120        12     Clothing\n",
      "7       H    180         7  Electronics\n",
      "8       I    220        10     Clothing\n",
      "9       J    270         8     Clothing\n",
      "\n"
     ]
    }
   ],
   "source": [
    "import pandas as pd\n",
    "\n",
    "# 주어진 데이터를 이용하여 데이터 프레임 객체를 생성하고 출력\n",
    "data = {\n",
    "    'Product': ['A', 'B', 'C', 'D', 'E', 'F', 'G', 'H', 'I', 'J'],\n",
    "    'Price': [100, 200, 150, 300, 250, 130, 120, 180, 220, 270],\n",
    "    'Quantity': [10, 5, 8, 6, 9, 15, 12, 7, 10, 8],\n",
    "    'Category': ['Electronics', 'Clothing', 'Electronics', 'Electronics', 'Clothing', 'Electronics', 'Clothing', 'Electronics', 'Clothing', 'Clothing']\n",
    "}\n",
    "df = pd.DataFrame(data)\n",
    "print(\"Default:\")\n",
    "print(df)\n",
    "print()"
   ]
  },
  {
   "cell_type": "raw",
   "metadata": {},
   "source": [
    "Default:\n",
    "  Product  Price  Quantity     Category\n",
    "0       A    100        10  Electronics\n",
    "1       B    200         5     Clothing\n",
    "2       C    150         8  Electronics\n",
    "3       D    300         6  Electronics\n",
    "4       E    250         9     Clothing\n",
    "5       F    130        15  Electronics\n",
    "6       G    120        12     Clothing\n",
    "7       H    180         7  Electronics\n",
    "8       I    220        10     Clothing\n",
    "9       J    270         8     Clothing"
   ]
  },
  {
   "cell_type": "markdown",
   "metadata": {},
   "source": [
    "#### 2-1. 위에서 생성한 DataFrame 객체의 행 인덱스를 'A', 'B', 'C', 'D', 'E', 'F', 'G', 'H', 'I', 'J'로 설정하여 출력하시오."
   ]
  },
  {
   "cell_type": "code",
   "execution_count": 6,
   "metadata": {},
   "outputs": [
    {
     "name": "stdout",
     "output_type": "stream",
     "text": [
      "First Processing:\n",
      "  Product  Price  Quantity     Category\n",
      "A       A    100        10  Electronics\n",
      "B       B    200         5     Clothing\n",
      "C       C    150         8  Electronics\n",
      "D       D    300         6  Electronics\n",
      "E       E    250         9     Clothing\n",
      "F       F    130        15  Electronics\n",
      "G       G    120        12     Clothing\n",
      "H       H    180         7  Electronics\n",
      "I       I    220        10     Clothing\n",
      "J       J    270         8     Clothing\n"
     ]
    }
   ],
   "source": [
    "# DataFrame의 행 인덱스를 'A', 'B', 'C', 'D', 'E', 'F', 'G', 'H', 'I', 'J'로 설정\n",
    "# Product 변수(열)의 값이 A, B, ... J 이므로 이 값을 이용\n",
    "\n",
    "\n",
    "# DataFrame 객체의 사본 생성\n",
    "df_new = df.copy()               # 코드 작성\n",
    "\n",
    "# df_new 객체의 행 인덱스를 Product 변수의 값으로 설정\n",
    "# 변수 이름이 함께 추출되지 않도록 pandas.DataFrame.to_numpy 함수 활용\n",
    "\n",
    "df_new.index = df_new[\"Product\"].to_numpy()          # 코드 작성\n",
    "\n",
    "# DataFrame 출력\n",
    "print(\"First Processing:\")\n",
    "print(df_new)\n",
    "# 코드 작성"
   ]
  },
  {
   "cell_type": "raw",
   "metadata": {},
   "source": [
    "First Processing:\n",
    "  Product  Price  Quantity     Category\n",
    "A       A    100        10  Electronics\n",
    "B       B    200         5     Clothing\n",
    "C       C    150         8  Electronics\n",
    "D       D    300         6  Electronics\n",
    "E       E    250         9     Clothing\n",
    "F       F    130        15  Electronics\n",
    "G       G    120        12     Clothing\n",
    "H       H    180         7  Electronics\n",
    "I       I    220        10     Clothing\n",
    "J       J    270         8     Clothing"
   ]
  },
  {
   "cell_type": "markdown",
   "metadata": {},
   "source": [
    "#### 2-2. 2-1의 DataFrame 객체의 Product 변수의 값을 아래 주어진 리스트를 이용하여 변경하여 출력하시오."
   ]
  },
  {
   "cell_type": "code",
   "execution_count": 7,
   "metadata": {},
   "outputs": [
    {
     "name": "stdout",
     "output_type": "stream",
     "text": [
      "Second Processing:\n",
      "      Product  Price  Quantity     Category\n",
      "A      Laptop    100        10  Electronics\n",
      "B      Jacket    200         5     Clothing\n",
      "C  Smartphone    150         8  Electronics\n",
      "D  Headphones    300         6  Electronics\n",
      "E     Sweater    250         9     Clothing\n",
      "F      Tablet    130        15  Electronics\n",
      "G       Scarf    120        12     Clothing\n",
      "H      Camera    180         7  Electronics\n",
      "I       Jeans    220        10     Clothing\n",
      "J         Hat    270         8     Clothing\n"
     ]
    }
   ],
   "source": [
    "# DataFrame의 'Product' 변수의 값을 아래 주어진 d를 이용하여 변경\n",
    "d = ['Laptop', 'Jacket', 'Smartphone', 'Headphones', 'Sweater', 'Tablet', 'Scarf', 'Camera', 'Jeans', 'Hat']\n",
    "\n",
    "# 코드 작성\n",
    "df_new[\"Product\"] = d\n",
    "# DataFrame 출력\n",
    "print(\"Second Processing:\")\n",
    "print(df_new)\n",
    "# 코드 작성"
   ]
  },
  {
   "cell_type": "raw",
   "metadata": {},
   "source": [
    "Second Processing:\n",
    "      Product  Price  Quantity     Category\n",
    "A      Laptop    100        10  Electronics\n",
    "B      Jacket    200         5     Clothing\n",
    "C  Smartphone    150         8  Electronics\n",
    "D  Headphones    300         6  Electronics\n",
    "E     Sweater    250         9     Clothing\n",
    "F      Tablet    130        15  Electronics\n",
    "G       Scarf    120        12     Clothing\n",
    "H      Camera    180         7  Electronics\n",
    "I       Jeans    220        10     Clothing\n",
    "J         Hat    270         8     Clothing"
   ]
  },
  {
   "cell_type": "markdown",
   "metadata": {},
   "source": [
    "#### 2-3. 2-2의 DataFrame 객체에  Price, Quantity 변수 값의 순위를 구하고 이를 'Price_rank', 'Quantity_rank' 변수로 추가하여 출력하시오."
   ]
  },
  {
   "cell_type": "code",
   "execution_count": 8,
   "metadata": {},
   "outputs": [
    {
     "name": "stdout",
     "output_type": "stream",
     "text": [
      "Third Processing:\n",
      "      Product  Price  Quantity     Category  Price_rank  Quantity_rank\n",
      "A      Laptop    100        10  Electronics        10.0            3.5\n",
      "B      Jacket    200         5     Clothing         5.0           10.0\n",
      "C  Smartphone    150         8  Electronics         7.0            6.5\n",
      "D  Headphones    300         6  Electronics         1.0            9.0\n",
      "E     Sweater    250         9     Clothing         3.0            5.0\n",
      "F      Tablet    130        15  Electronics         8.0            1.0\n",
      "G       Scarf    120        12     Clothing         9.0            2.0\n",
      "H      Camera    180         7  Electronics         6.0            8.0\n",
      "I       Jeans    220        10     Clothing         4.0            3.5\n",
      "J         Hat    270         8     Clothing         2.0            6.5\n"
     ]
    }
   ],
   "source": [
    "# DataFrame의 열 'Price', 'Quantity'의 순위를 나타내는 'Price_', 'Quantity_rank' 변수를 추가\n",
    "# DataFrame 객체의 어떤 변수(열) 값의 순위를 구하는 것은 pandas.DataFrame.rank 함수 활용\n",
    "\n",
    "# 'Price_rank' 열 추가 코드 작성\n",
    "df_new[\"Price_rank\"] = df_new[\"Price\"].rank(ascending=False,method='max')\n",
    "\n",
    "# 'Quantity_rank' 열 추가 코드 작성\n",
    "df_new[\"Quantity_rank\"] = df_new[\"Quantity\"].rank(ascending=False,method='average')\n",
    "\n",
    "# df_new=df_new.drop(columns = 'Price_rank')\n",
    "# df_new=df_new.drop(columns = 'Quantity_rank')\n",
    "\n",
    "# DataFrame 출력\n",
    "print(\"Third Processing:\")\n",
    "print(df_new)\n",
    "# 코드 작성"
   ]
  },
  {
   "cell_type": "raw",
   "metadata": {},
   "source": [
    "Third Processing:\n",
    "      Product  Price  Quantity     Category  Price_rank  Quantity_rank\n",
    "A      Laptop    100        10  Electronics        10.0            3.5\n",
    "B      Jacket    200         5     Clothing         5.0           10.0\n",
    "C  Smartphone    150         8  Electronics         7.0            6.5\n",
    "D  Headphones    300         6  Electronics         1.0            9.0\n",
    "E     Sweater    250         9     Clothing         3.0            5.0\n",
    "F      Tablet    130        15  Electronics         8.0            1.0\n",
    "G       Scarf    120        12     Clothing         9.0            2.0\n",
    "H      Camera    180         7  Electronics         6.0            8.0\n",
    "I       Jeans    220        10     Clothing         4.0            3.5\n",
    "J         Hat    270         8     Clothing         2.0            6.5"
   ]
  },
  {
   "cell_type": "markdown",
   "metadata": {},
   "source": [
    "#### 2-4. 2-3의 DataFrame 객체에서 열 'Price_rank', 'Quantity_rank'를 각각 'Price', 'Quantity'의 뒤로 이동하여 출력하시오."
   ]
  },
  {
   "cell_type": "code",
   "execution_count": 9,
   "metadata": {},
   "outputs": [
    {
     "name": "stdout",
     "output_type": "stream",
     "text": [
      "Index(['Product', 'Price', 'Quantity', 'Category', 'Price_rank',\n",
      "       'Quantity_rank'],\n",
      "      dtype='object')\n",
      "Fourth Processing:\n",
      "      Product  Price  Price_rank  Quantity  Quantity_rank     Category\n",
      "A      Laptop    100        10.0        10            3.5  Electronics\n",
      "B      Jacket    200         5.0         5           10.0     Clothing\n",
      "C  Smartphone    150         7.0         8            6.5  Electronics\n",
      "D  Headphones    300         1.0         6            9.0  Electronics\n",
      "E     Sweater    250         3.0         9            5.0     Clothing\n",
      "F      Tablet    130         8.0        15            1.0  Electronics\n",
      "G       Scarf    120         9.0        12            2.0     Clothing\n",
      "H      Camera    180         6.0         7            8.0  Electronics\n",
      "I       Jeans    220         4.0        10            3.5     Clothing\n",
      "J         Hat    270         2.0         8            6.5     Clothing\n"
     ]
    }
   ],
   "source": [
    "# DataFrame의 열 'Price_rank', 'Quantity_rank'를 각각 'Price', 'Quantity'의 뒤로 이동\n",
    "\n",
    "# 코드 작성\n",
    "print(df_new.columns)\n",
    "order_new = [\"Product\",\"Price\",\"Price_rank\",\"Quantity\",\"Quantity_rank\",\"Category\"]\n",
    "\n",
    "df_new=df_new.reindex(columns=order_new)\n",
    "# 위의 방법 아니라면 아래 방법으로\n",
    "df_new = df_new[order_new]\n",
    "\n",
    "# DataFrame 출력\n",
    "print(\"Fourth Processing:\")\n",
    "print(df_new)\n",
    "# 코드 작성"
   ]
  },
  {
   "cell_type": "raw",
   "metadata": {},
   "source": [
    "fourth Processing:\n",
    "      Product  Price  Price_rank  Quantity  Quantity_rank     Category\n",
    "A      Laptop    100        10.0        10            3.5  Electronics\n",
    "B      Jacket    200         5.0         5           10.0     Clothing\n",
    "C  Smartphone    150         7.0         8            6.5  Electronics\n",
    "D  Headphones    300         1.0         6            9.0  Electronics\n",
    "E     Sweater    250         3.0         9            5.0     Clothing\n",
    "F      Tablet    130         8.0        15            1.0  Electronics\n",
    "G       Scarf    120         9.0        12            2.0     Clothing\n",
    "H      Camera    180         6.0         7            8.0  Electronics\n",
    "I       Jeans    220         4.0        10            3.5     Clothing\n",
    "J         Hat    270         2.0         8            6.5     Clothing\n"
   ]
  },
  {
   "cell_type": "markdown",
   "metadata": {},
   "source": [
    "#### 2-5. 2-4의 DataFrame 객체를 카테고리 별로 분리하여 출력하시오."
   ]
  },
  {
   "cell_type": "code",
   "execution_count": 17,
   "metadata": {},
   "outputs": [
    {
     "name": "stdout",
     "output_type": "stream",
     "text": [
      "Last Processing:\n",
      "Category: Clothing\n",
      "   Product  Price  Price_rank  Quantity  Quantity_rank  Category\n",
      "B   Jacket    200         5.0         5           10.0  Clothing\n",
      "E  Sweater    250         3.0         9            5.0  Clothing\n",
      "G    Scarf    120         9.0        12            2.0  Clothing\n",
      "I    Jeans    220         4.0        10            3.5  Clothing\n",
      "J      Hat    270         2.0         8            6.5  Clothing \n",
      "\n",
      "Category: Electronics\n",
      "      Product  Price  Price_rank  Quantity  Quantity_rank     Category\n",
      "A      Laptop    100        10.0        10            3.5  Electronics\n",
      "C  Smartphone    150         7.0         8            6.5  Electronics\n",
      "D  Headphones    300         1.0         6            9.0  Electronics\n",
      "F      Tablet    130         8.0        15            1.0  Electronics\n",
      "H      Camera    180         6.0         7            8.0  Electronics \n",
      "\n"
     ]
    }
   ],
   "source": [
    "# 카테고리별로 분리\n",
    "# pandas.DataFrame.groupby 함수 활용\n",
    "grouped = df_new.groupby('Category') # 괄호 안에 위의 2-4에서 생성한 DataFrame 객체 이름 작성\n",
    "\n",
    "# 카테고리별 DataFrame 출력\n",
    "print(\"Last Processing:\")\n",
    "for category, group in grouped:\n",
    "    print(f\"Category: {category}\")\n",
    "    print(group, \"\\n\")\n",
    "    "
   ]
  },
  {
   "cell_type": "raw",
   "metadata": {},
   "source": [
    "Last Processing:\n",
    "Category: Clothing\n",
    "   Product  Price  Price_rank  Quantity  Quantity_rank  Category\n",
    "B   Jacket    200         5.0         5           10.0  Clothing\n",
    "E  Sweater    250         3.0         9            5.0  Clothing\n",
    "G    Scarf    120         9.0        12            2.0  Clothing\n",
    "I    Jeans    220         4.0        10            3.5  Clothing\n",
    "J      Hat    270         2.0         8            6.5  Clothing \n",
    "\n",
    "Category: Electronics\n",
    "      Product  Price  Price_rank  Quantity  Quantity_rank     Category\n",
    "A      Laptop    100        10.0        10            3.5  Electronics\n",
    "C  Smartphone    150         7.0         8            6.5  Electronics\n",
    "D  Headphones    300         1.0         6            9.0  Electronics\n",
    "F      Tablet    130         8.0        15            1.0  Electronics\n",
    "H      Camera    180         6.0         7            8.0  Electronics "
   ]
  },
  {
   "cell_type": "markdown",
   "metadata": {},
   "source": [
    "### 3. 다음에 주어진 미국의 아기 이름 데이터로 아래 문제에 맞게 코드를 작성하시오. "
   ]
  },
  {
   "cell_type": "code",
   "execution_count": 189,
   "metadata": {},
   "outputs": [],
   "source": [
    "import pandas as pd\n",
    "\n",
    "# 주어진 데이터 생성\n",
    "df = pd.read_csv('https://raw.githubusercontent.com/guipsamora/pandas_exercises/master/06_Stats/US_Baby_Names/US_Baby_Names_right.csv')"
   ]
  },
  {
   "cell_type": "markdown",
   "metadata": {},
   "source": [
    "#### 3-1. 위에서 생성한 DataFrame 객체의 앞 3개 행을 출력하시오."
   ]
  },
  {
   "cell_type": "code",
   "execution_count": 192,
   "metadata": {},
   "outputs": [
    {
     "name": "stdout",
     "output_type": "stream",
     "text": [
      "앞 3개 행:\n",
      "   Unnamed: 0     Id     Name  Year Gender State  Count\n",
      "0       11349  11350     Emma  2004      F    AK     62\n",
      "1       11350  11351  Madison  2004      F    AK     48\n",
      "2       11351  11352   Hannah  2004      F    AK     46\n"
     ]
    }
   ],
   "source": [
    "# Data 형태 확인\n",
    "# DataFrame의 앞 3개 행을 출력\n",
    "print(\"앞 3개 행:\")\n",
    "print(df.head(3))\n",
    "# 코드 작성"
   ]
  },
  {
   "cell_type": "raw",
   "metadata": {},
   "source": [
    "앞 3개 행:\n",
    "   Unnamed: 0     Id     Name  Year Gender State  Count\n",
    "0       11349  11350     Emma  2004      F    AK     62\n",
    "1       11350  11351  Madison  2004      F    AK     48\n",
    "2       11351  11352   Hannah  2004      F    AK     46"
   ]
  },
  {
   "cell_type": "markdown",
   "metadata": {},
   "source": [
    "#### 3-2. DataFrame 객체의 앞 행과 열 개수를 출력하시오."
   ]
  },
  {
   "cell_type": "code",
   "execution_count": 191,
   "metadata": {},
   "outputs": [
    {
     "name": "stdout",
     "output_type": "stream",
     "text": [
      "행과 열 개수:\n",
      "(1016395, 7)\n"
     ]
    }
   ],
   "source": [
    "# DataFrame의 행과 열 개수를 출력\n",
    "print(\"행과 열 개수:\")\n",
    "print(df.shape)\n",
    "# 코드 작성"
   ]
  },
  {
   "cell_type": "raw",
   "metadata": {},
   "source": [
    "행과 열 개수:\n",
    "(1016395, 7)"
   ]
  },
  {
   "cell_type": "markdown",
   "metadata": {},
   "source": [
    "#### 3-3. DataFrame 객체에서 State가 'AK'이고, Count가 50 이상인 데이터를 추출하여 출력하시오."
   ]
  },
  {
   "cell_type": "code",
   "execution_count": 193,
   "metadata": {},
   "outputs": [
    {
     "name": "stdout",
     "output_type": "stream",
     "text": [
      "      Unnamed: 0     Id       Name  Year Gender State  Count\n",
      "0          11349  11350       Emma  2004      F    AK     62\n",
      "204        11553  11554    Madison  2005      F    AK     53\n",
      "639        11988  11989   Isabella  2007      F    AK     52\n",
      "838        12187  12188       Emma  2008      F    AK     51\n",
      "1063       12412  12413   Isabella  2009      F    AK     57\n",
      "1275       12624  12625     Sophia  2010      F    AK     60\n",
      "1276       12625  12626       Emma  2010      F    AK     51\n",
      "1277       12626  12627   Isabella  2010      F    AK     51\n",
      "1497       12846  12847     Olivia  2011      F    AK     60\n",
      "1498       12847  12848       Emma  2011      F    AK     56\n",
      "1499       12848  12849   Isabella  2011      F    AK     50\n",
      "1732       13081  13082       Emma  2012      F    AK     57\n",
      "1733       13082  13083     Sophia  2012      F    AK     56\n",
      "1948       13297  13298       Emma  2013      F    AK     57\n",
      "1949       13298  13299     Sophia  2013      F    AK     50\n",
      "2173       13522  13523       Emma  2014      F    AK     50\n",
      "2404       24076  24077      Ethan  2004      M    AK     65\n",
      "2405       24077  24078     Joseph  2004      M    AK     63\n",
      "2406       24078  24079      James  2004      M    AK     59\n",
      "2407       24079  24080      Jacob  2004      M    AK     54\n",
      "2408       24080  24081     Samuel  2004      M    AK     54\n",
      "2409       24081  24082      Tyler  2004      M    AK     54\n",
      "2610       24282  24283      Ethan  2005      M    AK     63\n",
      "2611       24283  24284      Jacob  2005      M    AK     58\n",
      "2612       24284  24285     Joshua  2005      M    AK     55\n",
      "2613       24285  24286    Michael  2005      M    AK     52\n",
      "2826       24498  24499      James  2006      M    AK     67\n",
      "2827       24499  24500      Jacob  2006      M    AK     55\n",
      "2828       24500  24501    Michael  2006      M    AK     55\n",
      "2829       24501  24502     Andrew  2006      M    AK     52\n",
      "2830       24502  24503      Ethan  2006      M    AK     52\n",
      "2831       24503  24504      Logan  2006      M    AK     51\n",
      "3043       24715  24716      Aiden  2007      M    AK     58\n",
      "3044       24716  24717      Ethan  2007      M    AK     53\n",
      "3045       24717  24718      Logan  2007      M    AK     53\n",
      "3046       24718  24719  Alexander  2007      M    AK     52\n",
      "3047       24719  24720    Michael  2007      M    AK     52\n",
      "3270       24942  24943      James  2008      M    AK     67\n",
      "3271       24943  24944      Jacob  2008      M    AK     60\n",
      "3272       24944  24945    Michael  2008      M    AK     58\n",
      "3273       24945  24946      Ethan  2008      M    AK     53\n",
      "3274       24946  24947      Tyler  2008      M    AK     50\n",
      "3507       25179  25180    Michael  2009      M    AK     58\n",
      "3508       25180  25181      Ethan  2009      M    AK     57\n",
      "3744       25416  25417    William  2010      M    AK     57\n",
      "3745       25417  25418      James  2010      M    AK     51\n",
      "3746       25418  25419    Michael  2010      M    AK     51\n",
      "3747       25419  25420      Logan  2010      M    AK     50\n",
      "3984       25656  25657      Mason  2011      M    AK     58\n",
      "3985       25657  25658      James  2011      M    AK     52\n",
      "3986       25658  25659    William  2011      M    AK     52\n",
      "4224       25896  25897      James  2012      M    AK     52\n",
      "4476       26148  26149       Liam  2013      M    AK     63\n",
      "4731       26403  26404       Liam  2014      M    AK     65\n",
      "4732       26404  26405      James  2014      M    AK     53\n"
     ]
    }
   ],
   "source": [
    "# State가 'AK'이고, Count가 50 이상인 데이터를 추출\n",
    "filtered_data =  df[(df[\"State\"]==\"AK\") & (df[\"Count\"]>=50)]          # 코드 작성\n",
    "\n",
    "# 추출한 데이터 출력\n",
    "# df[filtered_data]\n",
    "print(filtered_data)\n",
    "# 코드 작성"
   ]
  },
  {
   "cell_type": "raw",
   "metadata": {},
   "source": [
    "   Unnamed: 0        Id       Name  Year Gender State  Count\n",
    "0          11349  11350       Emma  2004      F    AK     62\n",
    "204        11553  11554    Madison  2005      F    AK     53\n",
    "639        11988  11989   Isabella  2007      F    AK     52\n",
    "838        12187  12188       Emma  2008      F    AK     51\n",
    "1063       12412  12413   Isabella  2009      F    AK     57\n",
    "1275       12624  12625     Sophia  2010      F    AK     60\n",
    "1276       12625  12626       Emma  2010      F    AK     51\n",
    "1277       12626  12627   Isabella  2010      F    AK     51\n",
    "1497       12846  12847     Olivia  2011      F    AK     60\n",
    "1498       12847  12848       Emma  2011      F    AK     56\n",
    "1499       12848  12849   Isabella  2011      F    AK     50\n",
    "1732       13081  13082       Emma  2012      F    AK     57\n",
    "1733       13082  13083     Sophia  2012      F    AK     56\n",
    "1948       13297  13298       Emma  2013      F    AK     57\n",
    "1949       13298  13299     Sophia  2013      F    AK     50\n",
    "2173       13522  13523       Emma  2014      F    AK     50\n",
    "2404       24076  24077      Ethan  2004      M    AK     65\n",
    "2405       24077  24078     Joseph  2004      M    AK     63\n",
    "2406       24078  24079      James  2004      M    AK     59\n",
    "2407       24079  24080      Jacob  2004      M    AK     54\n",
    "2408       24080  24081     Samuel  2004      M    AK     54\n",
    "2409       24081  24082      Tyler  2004      M    AK     54\n",
    "2610       24282  24283      Ethan  2005      M    AK     63\n",
    "2611       24283  24284      Jacob  2005      M    AK     58\n",
    "2612       24284  24285     Joshua  2005      M    AK     55\n",
    "2613       24285  24286    Michael  2005      M    AK     52\n",
    "2826       24498  24499      James  2006      M    AK     67\n",
    "2827       24499  24500      Jacob  2006      M    AK     55\n",
    "2828       24500  24501    Michael  2006      M    AK     55\n",
    "2829       24501  24502     Andrew  2006      M    AK     52\n",
    "2830       24502  24503      Ethan  2006      M    AK     52\n",
    "2831       24503  24504      Logan  2006      M    AK     51\n",
    "3043       24715  24716      Aiden  2007      M    AK     58\n",
    "3044       24716  24717      Ethan  2007      M    AK     53\n",
    "3045       24717  24718      Logan  2007      M    AK     53\n",
    "3046       24718  24719  Alexander  2007      M    AK     52\n",
    "3047       24719  24720    Michael  2007      M    AK     52\n",
    "3270       24942  24943      James  2008      M    AK     67\n",
    "3271       24943  24944      Jacob  2008      M    AK     60\n",
    "3272       24944  24945    Michael  2008      M    AK     58\n",
    "3273       24945  24946      Ethan  2008      M    AK     53\n",
    "3274       24946  24947      Tyler  2008      M    AK     50\n",
    "3507       25179  25180    Michael  2009      M    AK     58\n",
    "3508       25180  25181      Ethan  2009      M    AK     57\n",
    "3744       25416  25417    William  2010      M    AK     57\n",
    "3745       25417  25418      James  2010      M    AK     51\n",
    "3746       25418  25419    Michael  2010      M    AK     51\n",
    "3747       25419  25420      Logan  2010      M    AK     50\n",
    "3984       25656  25657      Mason  2011      M    AK     58\n",
    "3985       25657  25658      James  2011      M    AK     52\n",
    "3986       25658  25659    William  2011      M    AK     52\n",
    "4224       25896  25897      James  2012      M    AK     52\n",
    "4476       26148  26149       Liam  2013      M    AK     63\n",
    "4731       26403  26404       Liam  2014      M    AK     65\n",
    "4732       26404  26405      James  2014      M    AK     53"
   ]
  },
  {
   "cell_type": "markdown",
   "metadata": {},
   "source": [
    "#### 3-4. 3-3에서 추출한 데이터에서 Gender가 'F'인 데이터를 추출하여 출력하시오."
   ]
  },
  {
   "cell_type": "code",
   "execution_count": 194,
   "metadata": {},
   "outputs": [
    {
     "name": "stdout",
     "output_type": "stream",
     "text": [
      "      Unnamed: 0     Id      Name  Year Gender State  Count\n",
      "0          11349  11350      Emma  2004      F    AK     62\n",
      "204        11553  11554   Madison  2005      F    AK     53\n",
      "639        11988  11989  Isabella  2007      F    AK     52\n",
      "838        12187  12188      Emma  2008      F    AK     51\n",
      "1063       12412  12413  Isabella  2009      F    AK     57\n",
      "1275       12624  12625    Sophia  2010      F    AK     60\n",
      "1276       12625  12626      Emma  2010      F    AK     51\n",
      "1277       12626  12627  Isabella  2010      F    AK     51\n",
      "1497       12846  12847    Olivia  2011      F    AK     60\n",
      "1498       12847  12848      Emma  2011      F    AK     56\n",
      "1499       12848  12849  Isabella  2011      F    AK     50\n",
      "1732       13081  13082      Emma  2012      F    AK     57\n",
      "1733       13082  13083    Sophia  2012      F    AK     56\n",
      "1948       13297  13298      Emma  2013      F    AK     57\n",
      "1949       13298  13299    Sophia  2013      F    AK     50\n",
      "2173       13522  13523      Emma  2014      F    AK     50\n"
     ]
    },
    {
     "name": "stderr",
     "output_type": "stream",
     "text": [
      "C:\\Users\\didsu\\AppData\\Local\\Temp\\ipykernel_23480\\1479819697.py:2: UserWarning: Boolean Series key will be reindexed to match DataFrame index.\n",
      "  female_data = filtered_data[df[\"Gender\"]==\"F\"]              # 코드 작성\n"
     ]
    }
   ],
   "source": [
    "# 3-3에서 추출한 데이터 중 Gender가 'F'인 데이터를 추출\n",
    "female_data = filtered_data[df[\"Gender\"]==\"F\"]              # 코드 작성\n",
    "\n",
    "# 추출한 데이터 출력\n",
    "print(female_data)\n",
    "# 코드 작성\n"
   ]
  },
  {
   "cell_type": "raw",
   "metadata": {},
   "source": [
    "      Unnamed: 0     Id      Name  Year Gender State  Count\n",
    "0          11349  11350      Emma  2004      F    AK     62\n",
    "204        11553  11554   Madison  2005      F    AK     53\n",
    "639        11988  11989  Isabella  2007      F    AK     52\n",
    "838        12187  12188      Emma  2008      F    AK     51\n",
    "1063       12412  12413  Isabella  2009      F    AK     57\n",
    "1275       12624  12625    Sophia  2010      F    AK     60\n",
    "1276       12625  12626      Emma  2010      F    AK     51\n",
    "1277       12626  12627  Isabella  2010      F    AK     51\n",
    "1497       12846  12847    Olivia  2011      F    AK     60\n",
    "1498       12847  12848      Emma  2011      F    AK     56\n",
    "1499       12848  12849  Isabella  2011      F    AK     50\n",
    "1732       13081  13082      Emma  2012      F    AK     57\n",
    "1733       13082  13083    Sophia  2012      F    AK     56\n",
    "1948       13297  13298      Emma  2013      F    AK     57\n",
    "1949       13298  13299    Sophia  2013      F    AK     50\n",
    "2173       13522  13523      Emma  2014      F    AK     50"
   ]
  },
  {
   "cell_type": "markdown",
   "metadata": {},
   "source": [
    "#### 3-5. 3-4에서 추출한 데이터에서 Count 기준으로 내림차순 정렬하여 출력하시오."
   ]
  },
  {
   "cell_type": "code",
   "execution_count": 195,
   "metadata": {},
   "outputs": [
    {
     "name": "stdout",
     "output_type": "stream",
     "text": [
      "      Unnamed: 0     Id       Name  Year Gender State  Count\n",
      "2826       24498  24499      James  2006      M    AK     67\n",
      "3270       24942  24943      James  2008      M    AK     67\n",
      "2404       24076  24077      Ethan  2004      M    AK     65\n",
      "4731       26403  26404       Liam  2014      M    AK     65\n",
      "4476       26148  26149       Liam  2013      M    AK     63\n",
      "2405       24077  24078     Joseph  2004      M    AK     63\n",
      "2610       24282  24283      Ethan  2005      M    AK     63\n",
      "0          11349  11350       Emma  2004      F    AK     62\n",
      "1497       12846  12847     Olivia  2011      F    AK     60\n",
      "1275       12624  12625     Sophia  2010      F    AK     60\n",
      "3271       24943  24944      Jacob  2008      M    AK     60\n",
      "2406       24078  24079      James  2004      M    AK     59\n",
      "2611       24283  24284      Jacob  2005      M    AK     58\n",
      "3272       24944  24945    Michael  2008      M    AK     58\n",
      "3043       24715  24716      Aiden  2007      M    AK     58\n",
      "3984       25656  25657      Mason  2011      M    AK     58\n",
      "3507       25179  25180    Michael  2009      M    AK     58\n",
      "1063       12412  12413   Isabella  2009      F    AK     57\n",
      "1732       13081  13082       Emma  2012      F    AK     57\n",
      "3508       25180  25181      Ethan  2009      M    AK     57\n",
      "3744       25416  25417    William  2010      M    AK     57\n",
      "1948       13297  13298       Emma  2013      F    AK     57\n",
      "1498       12847  12848       Emma  2011      F    AK     56\n",
      "1733       13082  13083     Sophia  2012      F    AK     56\n",
      "2612       24284  24285     Joshua  2005      M    AK     55\n",
      "2827       24499  24500      Jacob  2006      M    AK     55\n",
      "2828       24500  24501    Michael  2006      M    AK     55\n",
      "2407       24079  24080      Jacob  2004      M    AK     54\n",
      "2409       24081  24082      Tyler  2004      M    AK     54\n",
      "2408       24080  24081     Samuel  2004      M    AK     54\n",
      "204        11553  11554    Madison  2005      F    AK     53\n",
      "4732       26404  26405      James  2014      M    AK     53\n",
      "3273       24945  24946      Ethan  2008      M    AK     53\n",
      "3044       24716  24717      Ethan  2007      M    AK     53\n",
      "3045       24717  24718      Logan  2007      M    AK     53\n",
      "2829       24501  24502     Andrew  2006      M    AK     52\n",
      "2613       24285  24286    Michael  2005      M    AK     52\n",
      "639        11988  11989   Isabella  2007      F    AK     52\n",
      "3046       24718  24719  Alexander  2007      M    AK     52\n",
      "4224       25896  25897      James  2012      M    AK     52\n",
      "3985       25657  25658      James  2011      M    AK     52\n",
      "3986       25658  25659    William  2011      M    AK     52\n",
      "2830       24502  24503      Ethan  2006      M    AK     52\n",
      "3047       24719  24720    Michael  2007      M    AK     52\n",
      "1276       12625  12626       Emma  2010      F    AK     51\n",
      "838        12187  12188       Emma  2008      F    AK     51\n",
      "1277       12626  12627   Isabella  2010      F    AK     51\n",
      "3745       25417  25418      James  2010      M    AK     51\n",
      "3746       25418  25419    Michael  2010      M    AK     51\n",
      "2831       24503  24504      Logan  2006      M    AK     51\n",
      "1499       12848  12849   Isabella  2011      F    AK     50\n",
      "2173       13522  13523       Emma  2014      F    AK     50\n",
      "1949       13298  13299     Sophia  2013      F    AK     50\n",
      "3274       24946  24947      Tyler  2008      M    AK     50\n",
      "3747       25419  25420      Logan  2010      M    AK     50\n"
     ]
    }
   ],
   "source": [
    "# 3-4에서 추출한 데이터를 Count 기준으로 내림차순 정렬\n",
    "# sorted_data = filtered_data[\"Count\"].rank(ascending=False,method='max')      # 코드 작성\n",
    "# datafarme_filtered_data = pd.DataFrame(filtered_data)\n",
    "# 위의 과정을 거친 이유는 sort_values를 사용하려면 dataFrame으로 변환이 필요하기 때문임.\n",
    "\n",
    "filtered_data = pd.DataFrame(filtered_data)\n",
    "sorted_data = filtered_data.sort_values(by=\"Count\", ascending=False)\n",
    "print(sorted_data)\n",
    "# 위 코드에서 많은 에러가 있었는데 예를 들어서 \n",
    "# filtered_data = pd.DataFrame(filtered_data) 이렇게 하는게 아닌\n",
    "# ex_data_copy = pd.DataFrame(filtered_data) 이런식으로 새로 copy를 한다면\n",
    "# 에러가 나오고 완전 값이 다르게 나오더라고\n",
    "\n",
    "# sorted_data = datafarme_filtered_data.sort_values(by=\"Count\", ascending=False)      # 코드 작성\n",
    "# # sorted_data = df.sort_values(by=\"Count\", ascending=False)\n",
    "\n",
    "# print(sorted_data)\n",
    "# # 코드 작성"
   ]
  },
  {
   "cell_type": "raw",
   "metadata": {},
   "source": [
    "      Unnamed: 0     Id      Name  Year Gender State  Count\n",
    "0          11349  11350      Emma  2004      F    AK     62\n",
    "1275       12624  12625    Sophia  2010      F    AK     60\n",
    "1497       12846  12847    Olivia  2011      F    AK     60\n",
    "1063       12412  12413  Isabella  2009      F    AK     57\n",
    "1732       13081  13082      Emma  2012      F    AK     57\n",
    "1948       13297  13298      Emma  2013      F    AK     57\n",
    "1498       12847  12848      Emma  2011      F    AK     56\n",
    "1733       13082  13083    Sophia  2012      F    AK     56\n",
    "204        11553  11554   Madison  2005      F    AK     53\n",
    "639        11988  11989  Isabella  2007      F    AK     52\n",
    "838        12187  12188      Emma  2008      F    AK     51\n",
    "1276       12625  12626      Emma  2010      F    AK     51\n",
    "1277       12626  12627  Isabella  2010      F    AK     51\n",
    "1499       12848  12849  Isabella  2011      F    AK     50\n",
    "1949       13298  13299    Sophia  2013      F    AK     50\n",
    "2173       13522  13523      Emma  2014      F    AK     50"
   ]
  },
  {
   "cell_type": "markdown",
   "metadata": {},
   "source": [
    "#### 3-6. 3-5에서 정렬한 데이터에서 Name과 Count 열만 추출하여 출력하시오."
   ]
  },
  {
   "cell_type": "code",
   "execution_count": 202,
   "metadata": {},
   "outputs": [
    {
     "data": {
      "text/html": [
       "<div>\n",
       "<style scoped>\n",
       "    .dataframe tbody tr th:only-of-type {\n",
       "        vertical-align: middle;\n",
       "    }\n",
       "\n",
       "    .dataframe tbody tr th {\n",
       "        vertical-align: top;\n",
       "    }\n",
       "\n",
       "    .dataframe thead th {\n",
       "        text-align: right;\n",
       "    }\n",
       "</style>\n",
       "<table border=\"1\" class=\"dataframe\">\n",
       "  <thead>\n",
       "    <tr style=\"text-align: right;\">\n",
       "      <th></th>\n",
       "      <th>Name</th>\n",
       "      <th>Count</th>\n",
       "    </tr>\n",
       "  </thead>\n",
       "  <tbody>\n",
       "    <tr>\n",
       "      <th>2826</th>\n",
       "      <td>James</td>\n",
       "      <td>67</td>\n",
       "    </tr>\n",
       "    <tr>\n",
       "      <th>3270</th>\n",
       "      <td>James</td>\n",
       "      <td>67</td>\n",
       "    </tr>\n",
       "    <tr>\n",
       "      <th>2404</th>\n",
       "      <td>Ethan</td>\n",
       "      <td>65</td>\n",
       "    </tr>\n",
       "    <tr>\n",
       "      <th>4731</th>\n",
       "      <td>Liam</td>\n",
       "      <td>65</td>\n",
       "    </tr>\n",
       "    <tr>\n",
       "      <th>4476</th>\n",
       "      <td>Liam</td>\n",
       "      <td>63</td>\n",
       "    </tr>\n",
       "    <tr>\n",
       "      <th>2405</th>\n",
       "      <td>Joseph</td>\n",
       "      <td>63</td>\n",
       "    </tr>\n",
       "    <tr>\n",
       "      <th>2610</th>\n",
       "      <td>Ethan</td>\n",
       "      <td>63</td>\n",
       "    </tr>\n",
       "    <tr>\n",
       "      <th>0</th>\n",
       "      <td>Emma</td>\n",
       "      <td>62</td>\n",
       "    </tr>\n",
       "    <tr>\n",
       "      <th>1497</th>\n",
       "      <td>Olivia</td>\n",
       "      <td>60</td>\n",
       "    </tr>\n",
       "    <tr>\n",
       "      <th>1275</th>\n",
       "      <td>Sophia</td>\n",
       "      <td>60</td>\n",
       "    </tr>\n",
       "    <tr>\n",
       "      <th>3271</th>\n",
       "      <td>Jacob</td>\n",
       "      <td>60</td>\n",
       "    </tr>\n",
       "    <tr>\n",
       "      <th>2406</th>\n",
       "      <td>James</td>\n",
       "      <td>59</td>\n",
       "    </tr>\n",
       "    <tr>\n",
       "      <th>2611</th>\n",
       "      <td>Jacob</td>\n",
       "      <td>58</td>\n",
       "    </tr>\n",
       "    <tr>\n",
       "      <th>3272</th>\n",
       "      <td>Michael</td>\n",
       "      <td>58</td>\n",
       "    </tr>\n",
       "    <tr>\n",
       "      <th>3043</th>\n",
       "      <td>Aiden</td>\n",
       "      <td>58</td>\n",
       "    </tr>\n",
       "    <tr>\n",
       "      <th>3984</th>\n",
       "      <td>Mason</td>\n",
       "      <td>58</td>\n",
       "    </tr>\n",
       "    <tr>\n",
       "      <th>3507</th>\n",
       "      <td>Michael</td>\n",
       "      <td>58</td>\n",
       "    </tr>\n",
       "    <tr>\n",
       "      <th>1063</th>\n",
       "      <td>Isabella</td>\n",
       "      <td>57</td>\n",
       "    </tr>\n",
       "    <tr>\n",
       "      <th>1732</th>\n",
       "      <td>Emma</td>\n",
       "      <td>57</td>\n",
       "    </tr>\n",
       "    <tr>\n",
       "      <th>3508</th>\n",
       "      <td>Ethan</td>\n",
       "      <td>57</td>\n",
       "    </tr>\n",
       "    <tr>\n",
       "      <th>3744</th>\n",
       "      <td>William</td>\n",
       "      <td>57</td>\n",
       "    </tr>\n",
       "    <tr>\n",
       "      <th>1948</th>\n",
       "      <td>Emma</td>\n",
       "      <td>57</td>\n",
       "    </tr>\n",
       "    <tr>\n",
       "      <th>1498</th>\n",
       "      <td>Emma</td>\n",
       "      <td>56</td>\n",
       "    </tr>\n",
       "    <tr>\n",
       "      <th>1733</th>\n",
       "      <td>Sophia</td>\n",
       "      <td>56</td>\n",
       "    </tr>\n",
       "    <tr>\n",
       "      <th>2612</th>\n",
       "      <td>Joshua</td>\n",
       "      <td>55</td>\n",
       "    </tr>\n",
       "    <tr>\n",
       "      <th>2827</th>\n",
       "      <td>Jacob</td>\n",
       "      <td>55</td>\n",
       "    </tr>\n",
       "    <tr>\n",
       "      <th>2828</th>\n",
       "      <td>Michael</td>\n",
       "      <td>55</td>\n",
       "    </tr>\n",
       "    <tr>\n",
       "      <th>2407</th>\n",
       "      <td>Jacob</td>\n",
       "      <td>54</td>\n",
       "    </tr>\n",
       "    <tr>\n",
       "      <th>2409</th>\n",
       "      <td>Tyler</td>\n",
       "      <td>54</td>\n",
       "    </tr>\n",
       "    <tr>\n",
       "      <th>2408</th>\n",
       "      <td>Samuel</td>\n",
       "      <td>54</td>\n",
       "    </tr>\n",
       "    <tr>\n",
       "      <th>204</th>\n",
       "      <td>Madison</td>\n",
       "      <td>53</td>\n",
       "    </tr>\n",
       "    <tr>\n",
       "      <th>4732</th>\n",
       "      <td>James</td>\n",
       "      <td>53</td>\n",
       "    </tr>\n",
       "    <tr>\n",
       "      <th>3273</th>\n",
       "      <td>Ethan</td>\n",
       "      <td>53</td>\n",
       "    </tr>\n",
       "    <tr>\n",
       "      <th>3044</th>\n",
       "      <td>Ethan</td>\n",
       "      <td>53</td>\n",
       "    </tr>\n",
       "    <tr>\n",
       "      <th>3045</th>\n",
       "      <td>Logan</td>\n",
       "      <td>53</td>\n",
       "    </tr>\n",
       "    <tr>\n",
       "      <th>2829</th>\n",
       "      <td>Andrew</td>\n",
       "      <td>52</td>\n",
       "    </tr>\n",
       "    <tr>\n",
       "      <th>2613</th>\n",
       "      <td>Michael</td>\n",
       "      <td>52</td>\n",
       "    </tr>\n",
       "    <tr>\n",
       "      <th>639</th>\n",
       "      <td>Isabella</td>\n",
       "      <td>52</td>\n",
       "    </tr>\n",
       "    <tr>\n",
       "      <th>3046</th>\n",
       "      <td>Alexander</td>\n",
       "      <td>52</td>\n",
       "    </tr>\n",
       "    <tr>\n",
       "      <th>4224</th>\n",
       "      <td>James</td>\n",
       "      <td>52</td>\n",
       "    </tr>\n",
       "    <tr>\n",
       "      <th>3985</th>\n",
       "      <td>James</td>\n",
       "      <td>52</td>\n",
       "    </tr>\n",
       "    <tr>\n",
       "      <th>3986</th>\n",
       "      <td>William</td>\n",
       "      <td>52</td>\n",
       "    </tr>\n",
       "    <tr>\n",
       "      <th>2830</th>\n",
       "      <td>Ethan</td>\n",
       "      <td>52</td>\n",
       "    </tr>\n",
       "    <tr>\n",
       "      <th>3047</th>\n",
       "      <td>Michael</td>\n",
       "      <td>52</td>\n",
       "    </tr>\n",
       "    <tr>\n",
       "      <th>1276</th>\n",
       "      <td>Emma</td>\n",
       "      <td>51</td>\n",
       "    </tr>\n",
       "    <tr>\n",
       "      <th>838</th>\n",
       "      <td>Emma</td>\n",
       "      <td>51</td>\n",
       "    </tr>\n",
       "    <tr>\n",
       "      <th>1277</th>\n",
       "      <td>Isabella</td>\n",
       "      <td>51</td>\n",
       "    </tr>\n",
       "    <tr>\n",
       "      <th>3745</th>\n",
       "      <td>James</td>\n",
       "      <td>51</td>\n",
       "    </tr>\n",
       "    <tr>\n",
       "      <th>3746</th>\n",
       "      <td>Michael</td>\n",
       "      <td>51</td>\n",
       "    </tr>\n",
       "    <tr>\n",
       "      <th>2831</th>\n",
       "      <td>Logan</td>\n",
       "      <td>51</td>\n",
       "    </tr>\n",
       "    <tr>\n",
       "      <th>1499</th>\n",
       "      <td>Isabella</td>\n",
       "      <td>50</td>\n",
       "    </tr>\n",
       "    <tr>\n",
       "      <th>2173</th>\n",
       "      <td>Emma</td>\n",
       "      <td>50</td>\n",
       "    </tr>\n",
       "    <tr>\n",
       "      <th>1949</th>\n",
       "      <td>Sophia</td>\n",
       "      <td>50</td>\n",
       "    </tr>\n",
       "    <tr>\n",
       "      <th>3274</th>\n",
       "      <td>Tyler</td>\n",
       "      <td>50</td>\n",
       "    </tr>\n",
       "    <tr>\n",
       "      <th>3747</th>\n",
       "      <td>Logan</td>\n",
       "      <td>50</td>\n",
       "    </tr>\n",
       "  </tbody>\n",
       "</table>\n",
       "</div>"
      ],
      "text/plain": [
       "           Name  Count\n",
       "2826      James     67\n",
       "3270      James     67\n",
       "2404      Ethan     65\n",
       "4731       Liam     65\n",
       "4476       Liam     63\n",
       "2405     Joseph     63\n",
       "2610      Ethan     63\n",
       "0          Emma     62\n",
       "1497     Olivia     60\n",
       "1275     Sophia     60\n",
       "3271      Jacob     60\n",
       "2406      James     59\n",
       "2611      Jacob     58\n",
       "3272    Michael     58\n",
       "3043      Aiden     58\n",
       "3984      Mason     58\n",
       "3507    Michael     58\n",
       "1063   Isabella     57\n",
       "1732       Emma     57\n",
       "3508      Ethan     57\n",
       "3744    William     57\n",
       "1948       Emma     57\n",
       "1498       Emma     56\n",
       "1733     Sophia     56\n",
       "2612     Joshua     55\n",
       "2827      Jacob     55\n",
       "2828    Michael     55\n",
       "2407      Jacob     54\n",
       "2409      Tyler     54\n",
       "2408     Samuel     54\n",
       "204     Madison     53\n",
       "4732      James     53\n",
       "3273      Ethan     53\n",
       "3044      Ethan     53\n",
       "3045      Logan     53\n",
       "2829     Andrew     52\n",
       "2613    Michael     52\n",
       "639    Isabella     52\n",
       "3046  Alexander     52\n",
       "4224      James     52\n",
       "3985      James     52\n",
       "3986    William     52\n",
       "2830      Ethan     52\n",
       "3047    Michael     52\n",
       "1276       Emma     51\n",
       "838        Emma     51\n",
       "1277   Isabella     51\n",
       "3745      James     51\n",
       "3746    Michael     51\n",
       "2831      Logan     51\n",
       "1499   Isabella     50\n",
       "2173       Emma     50\n",
       "1949     Sophia     50\n",
       "3274      Tyler     50\n",
       "3747      Logan     50"
      ]
     },
     "execution_count": 202,
     "metadata": {},
     "output_type": "execute_result"
    }
   ],
   "source": [
    "# 'Name'과 'Count' 열만 추출\n",
    "name_count_data = sorted_data[[\"Name\",\"Count\"]]                # 코드 작성\n",
    "\n",
    "# 추출한 데이터 출력\n",
    "name_count_data\n",
    "# 코드 작성"
   ]
  },
  {
   "cell_type": "raw",
   "metadata": {},
   "source": [
    "          Name  Count\n",
    "0         Emma     62\n",
    "1275    Sophia     60\n",
    "1497    Olivia     60\n",
    "1063  Isabella     57\n",
    "1732      Emma     57\n",
    "1948      Emma     57\n",
    "1498      Emma     56\n",
    "1733    Sophia     56\n",
    "204    Madison     53\n",
    "639   Isabella     52\n",
    "838       Emma     51\n",
    "1276      Emma     51\n",
    "1277  Isabella     51\n",
    "1499  Isabella     50\n",
    "1949    Sophia     50\n",
    "2173      Emma     50"
   ]
  },
  {
   "cell_type": "markdown",
   "metadata": {},
   "source": [
    "### 4. 미국의 아기 이름 데이터로 동일한 State와 Name을 가진 중복된 데이터를 제거하고 Count를 기준으로 내림차순 정렬하시오."
   ]
  },
  {
   "cell_type": "code",
   "execution_count": 218,
   "metadata": {},
   "outputs": [],
   "source": [
    "import pandas as pd\n",
    "\n",
    "# 주어진 데이터 생성\n",
    "df = pd.read_csv('https://raw.githubusercontent.com/guipsamora/pandas_exercises/master/06_Stats/US_Baby_Names/US_Baby_Names_right.csv')"
   ]
  },
  {
   "cell_type": "markdown",
   "metadata": {},
   "source": [
    "#### 4-1. Name 변수의 값이 Emma인 데이터를 출력하시오."
   ]
  },
  {
   "cell_type": "code",
   "execution_count": 207,
   "metadata": {},
   "outputs": [],
   "source": [
    "# 데이터 중복 체크하기\n",
    "# 'Name' 속성이 'Emma'인 데이터 추출\n",
    "NM_emma = df[df[\"Name\"]==\"Emma\"]\n",
    "# 코드 작성\n",
    "\n",
    "\n",
    "# 추출한 데이터 출력\n",
    "NM_emma\n",
    "# 코드 작성"
   ]
  },
  {
   "cell_type": "raw",
   "metadata": {},
   "source": [
    "         Unnamed: 0       Id  Name  Year Gender State  Count\n",
    "0             11349    11350  Emma  2004      F    AK     62\n",
    "205           11554    11555  Emma  2005      F    AK     49\n",
    "418           11767    11768  Emma  2006      F    AK     49\n",
    "644           11993    11994  Emma  2007      F    AK     41\n",
    "838           12187    12188  Emma  2008      F    AK     51\n",
    "...             ...      ...   ...   ...    ...   ...    ...\n",
    "1013854     5633487  5633488  Emma  2010      F    WY     23\n",
    "1013983     5633616  5633617  Emma  2011      F    WY     43\n",
    "1014104     5633737  5633738  Emma  2012      F    WY     40\n",
    "1014222     5633855  5633856  Emma  2013      F    WY     30\n",
    "1014362     5633995  5633996  Emma  2014      F    WY     32\n",
    "\n",
    "[566 rows x 7 columns]"
   ]
  },
  {
   "cell_type": "markdown",
   "metadata": {},
   "source": [
    "#### 4-2. State 별로 중복된 Name을 제거하고 출력하시오."
   ]
  },
  {
   "cell_type": "code",
   "execution_count": 219,
   "metadata": {},
   "outputs": [
    {
     "name": "stdout",
     "output_type": "stream",
     "text": [
      "         Unnamed: 0       Id     Name  Year Gender State  Count\n",
      "0             11349    11350     Emma  2004      F    AK     62\n",
      "1             11350    11351  Madison  2004      F    AK     48\n",
      "2             11351    11352   Hannah  2004      F    AK     46\n",
      "3             11352    11353    Grace  2004      F    AK     44\n",
      "4             11353    11354    Emily  2004      F    AK     41\n",
      "...             ...      ...      ...   ...    ...   ...    ...\n",
      "1016379     5647410  5647411    Kyson  2014      M    WY      5\n",
      "1016385     5647416  5647417     Odin  2014      M    WY      5\n",
      "1016387     5647418  5647419  Raymond  2014      M    WY      5\n",
      "1016392     5647423  5647424     Tyce  2014      M    WY      5\n",
      "1016394     5647425  5647426   Waylon  2014      M    WY      5\n",
      "\n",
      "[167628 rows x 7 columns]\n"
     ]
    }
   ],
   "source": [
    "# # State 별로 중복된 Name 제거\n",
    "# # pandas.DataFrame.drop_duplicates 함수 활용\n",
    "# filtered_dupli_state_NM = (NM_emma[\"State\"]==\"Name\")\n",
    "# # duplic_NM_emma = NM_emma[filtered_dupli_state_NM].drop_duplicates()\n",
    "# duplic_NM_emma = NM_emma.drop_duplicates(subset=[\"State\",\"Name\"])\n",
    "# # 코드 작성\n",
    "\n",
    "\n",
    "# # 중복 제거된 데이터 출력\n",
    "# print(duplic_NM_emma)\n",
    "# # 코드 작성\n",
    "# State와 Name 기준으로 중복된 행을 제거\n",
    "duplic_NM = df.drop_duplicates(subset=[\"State\", \"Name\"])\n",
    "\n",
    "# 중복 제거된 데이터 출력\n",
    "print(duplic_NM)\n"
   ]
  },
  {
   "cell_type": "raw",
   "metadata": {},
   "source": [
    "         Unnamed: 0       Id     Name  Year Gender State  Count\n",
    "0             11349    11350     Emma  2004      F    AK     62\n",
    "1             11350    11351  Madison  2004      F    AK     48\n",
    "2             11351    11352   Hannah  2004      F    AK     46\n",
    "3             11352    11353    Grace  2004      F    AK     44\n",
    "4             11353    11354    Emily  2004      F    AK     41\n",
    "...             ...      ...      ...   ...    ...   ...    ...\n",
    "1016379     5647410  5647411    Kyson  2014      M    WY      5\n",
    "1016385     5647416  5647417     Odin  2014      M    WY      5\n",
    "1016387     5647418  5647419  Raymond  2014      M    WY      5\n",
    "1016392     5647423  5647424     Tyce  2014      M    WY      5\n",
    "1016394     5647425  5647426   Waylon  2014      M    WY      5\n",
    "\n",
    "[167628 rows x 7 columns]"
   ]
  },
  {
   "cell_type": "markdown",
   "metadata": {},
   "source": [
    "#### 4-3. Count 값을 기준으로 내림차순 정렬하여 State, Name, Count 변수 값만 출력하시오."
   ]
  },
  {
   "cell_type": "code",
   "execution_count": 222,
   "metadata": {},
   "outputs": [
    {
     "name": "stdout",
     "output_type": "stream",
     "text": [
      "       State      Name  Count\n",
      "107416    CA    Daniel   4167\n",
      "110097    CA    Daniel   3914\n",
      "115739    CA    Daniel   3865\n",
      "112872    CA    Daniel   3826\n",
      "107417    CA   Anthony   3805\n",
      "...      ...       ...    ...\n",
      "394428    LA     Amira      5\n",
      "394429    LA  Amiracle      5\n",
      "394430    LA     Amyra      5\n",
      "394431    LA  Analeigh      5\n",
      "394432    LA   Anistyn      5\n",
      "\n",
      "[1016395 rows x 3 columns]\n"
     ]
    }
   ],
   "source": [
    "# Count 기준으로 내림차순 정렬\n",
    "sorted_cnt = df.sort_values(ascending=False, by = \"Count\" )\n",
    "# 코드 작성\n",
    "\n",
    "\n",
    "# 'State', 'Name', 'Count' 변수(열)만 출력\n",
    "final_values = sorted_cnt[[\"State\",\"Name\",\"Count\"]]\n",
    "print(final_values)\n",
    "# 코드 작성"
   ]
  },
  {
   "cell_type": "raw",
   "metadata": {},
   "source": [
    "       State       Name  Count\n",
    "62272     CA      Emily   3416\n",
    "107420    CA      Jacob   3336\n",
    "62273     CA     Ashley   2926\n",
    "107425    CA    Matthew   2863\n",
    "62274     CA   Samantha   2489\n",
    "...      ...        ...    ...\n",
    "673621    NY  Remington      5\n",
    "673611    NY      Pippa      5\n",
    "673608    NY    Pandora      5\n",
    "673605    NY      Nuala      5\n",
    "673679    NY      Zahro      5\n",
    "\n",
    "[167628 rows x 3 columns]"
   ]
  },
  {
   "cell_type": "markdown",
   "metadata": {},
   "source": [
    "### 5. 치폴레(chipotle) 판매 기록을 담고 있는 데이터를 이용하여 'Steak Burrito'와 'Chicken Bowl'의 평균 판매 가격을 계산할 수 있도록 아래 문제에 맞게 코드를 작성하시오."
   ]
  },
  {
   "cell_type": "code",
   "execution_count": 304,
   "metadata": {},
   "outputs": [],
   "source": [
    "import pandas as pd\n",
    "\n",
    "# 주어진 데이터 생성\n",
    "chipotle_url = 'https://raw.githubusercontent.com/justmarkham/DAT8/master/data/chipotle.tsv'\n",
    "chipo = pd.read_csv(chipotle_url, sep = '\\t')"
   ]
  },
  {
   "cell_type": "code",
   "execution_count": 305,
   "metadata": {},
   "outputs": [
    {
     "name": "stdout",
     "output_type": "stream",
     "text": [
      "<class 'pandas.core.frame.DataFrame'>\n",
      "RangeIndex: 4622 entries, 0 to 4621\n",
      "Data columns (total 5 columns):\n",
      " #   Column              Non-Null Count  Dtype \n",
      "---  ------              --------------  ----- \n",
      " 0   order_id            4622 non-null   int64 \n",
      " 1   quantity            4622 non-null   int64 \n",
      " 2   item_name           4622 non-null   object\n",
      " 3   choice_description  3376 non-null   object\n",
      " 4   item_price          4622 non-null   object\n",
      "dtypes: int64(2), object(3)\n",
      "memory usage: 180.7+ KB\n"
     ]
    }
   ],
   "source": [
    "# 데이터의 변수(열) 속성 출력\n",
    "chipo.info()"
   ]
  },
  {
   "cell_type": "markdown",
   "metadata": {},
   "source": [
    "#### 5.1 위에서 생성한 DataFrame 객체의 앞 5개 행을 출력하시오. "
   ]
  },
  {
   "cell_type": "code",
   "execution_count": 306,
   "metadata": {},
   "outputs": [
    {
     "name": "stdout",
     "output_type": "stream",
     "text": [
      "앞 5개 행:\n",
      "   order_id  quantity                              item_name  \\\n",
      "0         1         1           Chips and Fresh Tomato Salsa   \n",
      "1         1         1                                   Izze   \n",
      "2         1         1                       Nantucket Nectar   \n",
      "3         1         1  Chips and Tomatillo-Green Chili Salsa   \n",
      "4         2         2                           Chicken Bowl   \n",
      "\n",
      "                                  choice_description item_price  \n",
      "0                                                NaN     $2.39   \n",
      "1                                       [Clementine]     $3.39   \n",
      "2                                            [Apple]     $3.39   \n",
      "3                                                NaN     $2.39   \n",
      "4  [Tomatillo-Red Chili Salsa (Hot), [Black Beans...    $16.98   \n"
     ]
    }
   ],
   "source": [
    "# Data 형태 확인\n",
    "# DataFrame chipo의 앞 5개 행을 출력\n",
    "print(\"앞 5개 행:\")\n",
    "print(chipo.head(5))\n",
    "# 코드 작성"
   ]
  },
  {
   "cell_type": "raw",
   "metadata": {},
   "source": [
    "앞 5개 행:\n",
    "   order_id  quantity                              item_name  \\\n",
    "0         1         1           Chips and Fresh Tomato Salsa   \n",
    "1         1         1                                   Izze   \n",
    "2         1         1                       Nantucket Nectar   \n",
    "3         1         1  Chips and Tomatillo-Green Chili Salsa   \n",
    "4         2         2                           Chicken Bowl   \n",
    "\n",
    "                                  choice_description item_price  \n",
    "0                                                NaN     $2.39   \n",
    "1                                       [Clementine]     $3.39   \n",
    "2                                            [Apple]     $3.39   \n",
    "3                                                NaN     $2.39   \n",
    "4  [Tomatillo-Red Chili Salsa (Hot), [Black Beans...    $16.98   "
   ]
  },
  {
   "cell_type": "markdown",
   "metadata": {},
   "source": [
    "#### 5.2 위의 DataFrame에서 item_name 값이 'Steak Burrito'인 데이터와 'Chicken Bowl'인 데이터를 추출하시오."
   ]
  },
  {
   "cell_type": "code",
   "execution_count": 307,
   "metadata": {},
   "outputs": [
    {
     "name": "stdout",
     "output_type": "stream",
     "text": [
      "      order_id  quantity      item_name  \\\n",
      "7            4         1  Steak Burrito   \n",
      "9            5         1  Steak Burrito   \n",
      "31          16         1  Steak Burrito   \n",
      "43          20         1  Steak Burrito   \n",
      "46          21         1  Steak Burrito   \n",
      "...        ...       ...            ...   \n",
      "4546      1807         1  Steak Burrito   \n",
      "4607      1829         1  Steak Burrito   \n",
      "4610      1830         1  Steak Burrito   \n",
      "4617      1833         1  Steak Burrito   \n",
      "4618      1833         1  Steak Burrito   \n",
      "\n",
      "                                     choice_description item_price  \n",
      "7     [Tomatillo Red Chili Salsa, [Fajita Vegetables...    $11.75   \n",
      "9     [Fresh Tomato Salsa, [Rice, Black Beans, Pinto...     $9.25   \n",
      "31    [[Roasted Chili Corn Salsa (Medium), Fresh Tom...     $8.99   \n",
      "43    [Fresh Tomato Salsa, [Rice, Pinto Beans, Chees...    $11.75   \n",
      "46    [Tomatillo-Red Chili Salsa (Hot), [Rice, Fajit...     $8.99   \n",
      "...                                                 ...        ...  \n",
      "4546  [Fresh Tomato Salsa, [Rice, Black Beans, Cheese]]     $9.25   \n",
      "4607  [Tomatillo Green Chili Salsa, [Rice, Cheese, S...    $11.75   \n",
      "4610  [Fresh Tomato Salsa, [Rice, Sour Cream, Cheese...    $11.75   \n",
      "4617  [Fresh Tomato Salsa, [Rice, Black Beans, Sour ...    $11.75   \n",
      "4618  [Fresh Tomato Salsa, [Rice, Sour Cream, Cheese...    $11.75   \n",
      "\n",
      "[368 rows x 5 columns]\n",
      "      order_id  quantity     item_name  \\\n",
      "4            2         2  Chicken Bowl   \n",
      "5            3         1  Chicken Bowl   \n",
      "13           7         1  Chicken Bowl   \n",
      "19          10         1  Chicken Bowl   \n",
      "26          13         1  Chicken Bowl   \n",
      "...        ...       ...           ...   \n",
      "4590      1825         1  Chicken Bowl   \n",
      "4591      1825         1  Chicken Bowl   \n",
      "4595      1826         1  Chicken Bowl   \n",
      "4599      1827         1  Chicken Bowl   \n",
      "4604      1828         1  Chicken Bowl   \n",
      "\n",
      "                                     choice_description item_price  \n",
      "4     [Tomatillo-Red Chili Salsa (Hot), [Black Beans...    $16.98   \n",
      "5     [Fresh Tomato Salsa (Mild), [Rice, Cheese, Sou...    $10.98   \n",
      "13    [Fresh Tomato Salsa, [Fajita Vegetables, Rice,...    $11.25   \n",
      "19    [Tomatillo Red Chili Salsa, [Fajita Vegetables...     $8.75   \n",
      "26    [Roasted Chili Corn Salsa (Medium), [Pinto Bea...     $8.49   \n",
      "...                                                 ...        ...  \n",
      "4590  [Roasted Chili Corn Salsa, [Rice, Black Beans,...    $11.25   \n",
      "4591  [Tomatillo Red Chili Salsa, [Rice, Black Beans...     $8.75   \n",
      "4595  [Tomatillo Green Chili Salsa, [Rice, Black Bea...     $8.75   \n",
      "4599      [Roasted Chili Corn Salsa, [Cheese, Lettuce]]     $8.75   \n",
      "4604  [Fresh Tomato Salsa, [Rice, Black Beans, Chees...     $8.75   \n",
      "\n",
      "[726 rows x 5 columns]\n"
     ]
    }
   ],
   "source": [
    "# chipo 데이터에서 item_name이 'Steak Burrito'와 'Chicken Bowl'인 데이터 추출\n",
    "steak_burrito = chipo[chipo[\"item_name\"]==\"Steak Burrito\"]                # 코드 작성\n",
    "chicken_bowl = chipo[chipo[\"item_name\"]==\"Chicken Bowl\"]                 # 코드 작성\n",
    "\n",
    "# 결과 출력\n",
    "print(steak_burrito)\n",
    "print(chicken_bowl)\n",
    "# 코드 작성"
   ]
  },
  {
   "cell_type": "raw",
   "metadata": {},
   "source": [
    "      order_id  quantity      item_name  \\\n",
    "7            4         1  Steak Burrito   \n",
    "9            5         1  Steak Burrito   \n",
    "31          16         1  Steak Burrito   \n",
    "43          20         1  Steak Burrito   \n",
    "46          21         1  Steak Burrito   \n",
    "...        ...       ...            ...   \n",
    "4546      1807         1  Steak Burrito   \n",
    "4607      1829         1  Steak Burrito   \n",
    "4610      1830         1  Steak Burrito   \n",
    "4617      1833         1  Steak Burrito   \n",
    "4618      1833         1  Steak Burrito   \n",
    "\n",
    "                                     choice_description item_price  \n",
    "7     [Tomatillo Red Chili Salsa, [Fajita Vegetables...    $11.75   \n",
    "9     [Fresh Tomato Salsa, [Rice, Black Beans, Pinto...     $9.25   \n",
    "31    [[Roasted Chili Corn Salsa (Medium), Fresh Tom...     $8.99   \n",
    "43    [Fresh Tomato Salsa, [Rice, Pinto Beans, Chees...    $11.75   \n",
    "46    [Tomatillo-Red Chili Salsa (Hot), [Rice, Fajit...     $8.99   \n",
    "...                                                 ...        ...  \n",
    "4546  [Fresh Tomato Salsa, [Rice, Black Beans, Cheese]]     $9.25   \n",
    "4607  [Tomatillo Green Chili Salsa, [Rice, Cheese, S...    $11.75   \n",
    "4610  [Fresh Tomato Salsa, [Rice, Sour Cream, Cheese...    $11.75   \n",
    "4617  [Fresh Tomato Salsa, [Rice, Black Beans, Sour ...    $11.75   \n",
    "4618  [Fresh Tomato Salsa, [Rice, Sour Cream, Cheese...    $11.75   \n",
    "\n",
    "[368 rows x 5 columns]\n",
    "      order_id  quantity     item_name  \\\n",
    "4            2         2  Chicken Bowl   \n",
    "5            3         1  Chicken Bowl   \n",
    "13           7         1  Chicken Bowl   \n",
    "19          10         1  Chicken Bowl   \n",
    "26          13         1  Chicken Bowl   \n",
    "...        ...       ...           ...   \n",
    "4590      1825         1  Chicken Bowl   \n",
    "4591      1825         1  Chicken Bowl   \n",
    "4595      1826         1  Chicken Bowl   \n",
    "4599      1827         1  Chicken Bowl   \n",
    "4604      1828         1  Chicken Bowl   \n",
    "\n",
    "                                     choice_description item_price  \n",
    "4     [Tomatillo-Red Chili Salsa (Hot), [Black Beans...    $16.98   \n",
    "5     [Fresh Tomato Salsa (Mild), [Rice, Cheese, Sou...    $10.98   \n",
    "13    [Fresh Tomato Salsa, [Fajita Vegetables, Rice,...    $11.25   \n",
    "19    [Tomatillo Red Chili Salsa, [Fajita Vegetables...     $8.75   \n",
    "26    [Roasted Chili Corn Salsa (Medium), [Pinto Bea...     $8.49   \n",
    "...                                                 ...        ...  \n",
    "4590  [Roasted Chili Corn Salsa, [Rice, Black Beans,...    $11.25   \n",
    "4591  [Tomatillo Red Chili Salsa, [Rice, Black Beans...     $8.75   \n",
    "4595  [Tomatillo Green Chili Salsa, [Rice, Black Bea...     $8.75   \n",
    "4599      [Roasted Chili Corn Salsa, [Cheese, Lettuce]]     $8.75   \n",
    "4604  [Fresh Tomato Salsa, [Rice, Black Beans, Chees...     $8.75   \n",
    "\n",
    "[726 rows x 5 columns]"
   ]
  },
  {
   "cell_type": "markdown",
   "metadata": {},
   "source": [
    "#### 5.3 'item_price' 값이 실수형 데이터가 아니므로 연산이 가능하도록 item_price 값에서 '$'를 제거하고 자료형을 float로 변환하여 출력하시오."
   ]
  },
  {
   "cell_type": "markdown",
   "metadata": {},
   "source": []
  },
  {
   "cell_type": "code",
   "execution_count": 308,
   "metadata": {},
   "outputs": [
    {
     "name": "stdout",
     "output_type": "stream",
     "text": [
      "7       11.75\n",
      "9        9.25\n",
      "31       8.99\n",
      "43      11.75\n",
      "46       8.99\n",
      "        ...  \n",
      "4546     9.25\n",
      "4607    11.75\n",
      "4610    11.75\n",
      "4617    11.75\n",
      "4618    11.75\n",
      "Name: item_price_numeric, Length: 368, dtype: float64\n",
      "4       16.98\n",
      "5       10.98\n",
      "13      11.25\n",
      "19       8.75\n",
      "26       8.49\n",
      "        ...  \n",
      "4590    11.25\n",
      "4591     8.75\n",
      "4595     8.75\n",
      "4599     8.75\n",
      "4604     8.75\n",
      "Name: item_price_numeric, Length: 726, dtype: float64\n"
     ]
    }
   ],
   "source": [
    "# 'Steak Burrito'와 'Chicken Bowl' 데이터의 사본 생성\n",
    "steak_burrito_numeric = steak_burrito.copy()\n",
    "chicken_bowl_numeric = chicken_bowl.copy()\n",
    "\n",
    "# 계산을 위해서 'item_price' 값에서 '$'를 제거하고 자료형을 float로 변환\n",
    "# '$' 제거는 pandas.Series.str.replace 함수 활용\n",
    "# 자료형 변환은 pandas.DataFrame.astype 함수 활용\n",
    "\n",
    "steak_burrito_numeric['item_price_numeric'] = steak_burrito_numeric['item_price'].str.replace(\"$\", \"\").astype(float)\n",
    "chicken_bowl_numeric['item_price_numeric'] = chicken_bowl_numeric['item_price'].str.replace(\"$\", \"\").astype(float)\n",
    "\n",
    "# 'Steak Burrito' 데이터의 'item_price_numeric' 열만 출력\n",
    "print(steak_burrito_numeric['item_price_numeric'])\n",
    "\n",
    "# 'Chicken Bowl' 데이터의 'item_price_numeric' 열만 출력\n",
    "print(chicken_bowl_numeric['item_price_numeric'])\n"
   ]
  },
  {
   "cell_type": "code",
   "execution_count": 309,
   "metadata": {},
   "outputs": [
    {
     "name": "stdout",
     "output_type": "stream",
     "text": [
      "7       11.75\n",
      "9        9.25\n",
      "31       8.99\n",
      "43      11.75\n",
      "46       8.99\n",
      "        ...  \n",
      "4546     9.25\n",
      "4607    11.75\n",
      "4610    11.75\n",
      "4617    11.75\n",
      "4618    11.75\n",
      "Name: item_price_numeric, Length: 368, dtype: float64\n",
      "4       16.98\n",
      "5       10.98\n",
      "13      11.25\n",
      "19       8.75\n",
      "26       8.49\n",
      "        ...  \n",
      "4590    11.25\n",
      "4591     8.75\n",
      "4595     8.75\n",
      "4599     8.75\n",
      "4604     8.75\n",
      "Name: item_price_numeric, Length: 726, dtype: float64\n"
     ]
    }
   ],
   "source": [
    "# 'Steak Burrito'와 'Chicken Bowl' 데이터의 사본 생성\n",
    "steak_burrito_numeric = steak_burrito.copy()\n",
    "chicken_bowl_numeric = chicken_bowl.copy()\n",
    "\n",
    "# 계산을 위해서 'item_price' 값에서 '$'를 제거하고 자료형을 float로 \n",
    "# 변환한 값을 'item_price_numeric' 변수로 추가\n",
    "# '$' 제거는 pandas.Series.str.replace 함수 활용\n",
    "# 자료형 변환은 pandas.DataFrame.astype 함수 활용\n",
    "\n",
    "steak_burrito_numeric['item_price_numeric'] = steak_burrito_numeric['item_price'].str.replace(\"$\",\"\").astype(float)                      # 코드 작성\n",
    "\n",
    "chicken_bowl_numeric['item_price_numeric'] = chicken_bowl_numeric['item_price'].str.replace(\"$\",\"\").astype(float)                         # 코드 작성\n",
    "\n",
    "# steak_burrito_numeric = pd.DataFrame(steak_burrito_numeric)\n",
    "# chicken_bowl_numeric = pd.DataFrame(chicken_bowl_numeric)\n",
    "#위의 경우에는 DataFrame으로 변환하는 과정임\n",
    "\n",
    "# steak_burrito_numeric = steak_burrito_numeric['item_price_numeric'].astype(float)\n",
    "# chicken_bowl_numeric = chicken_bowl_numeric['item_price_numeric'].astype(float)\n",
    "\n",
    "# 'Steak Burrito' 데이터의 'item_price_numeric' 열만 출력\n",
    "print(steak_burrito_numeric['item_price_numeric'])\n",
    "\n",
    "# 'Chicken Bowl' 데이터의 'item_price_numeric' 열만 출력\n",
    "print(chicken_bowl_numeric['item_price_numeric'])\n",
    "\n",
    "# 코드 작성"
   ]
  },
  {
   "cell_type": "raw",
   "metadata": {},
   "source": [
    "7       11.75\n",
    "9        9.25\n",
    "31       8.99\n",
    "43      11.75\n",
    "46       8.99\n",
    "        ...  \n",
    "4546     9.25\n",
    "4607    11.75\n",
    "4610    11.75\n",
    "4617    11.75\n",
    "4618    11.75\n",
    "Name: item_price_numeric, Length: 368, dtype: float64\n",
    "4       16.98\n",
    "5       10.98\n",
    "13      11.25\n",
    "19       8.75\n",
    "26       8.49\n",
    "        ...  \n",
    "4590    11.25\n",
    "4591     8.75\n",
    "4595     8.75\n",
    "4599     8.75\n",
    "4604     8.75\n",
    "Name: item_price_numeric, Length: 726, dtype: float64"
   ]
  },
  {
   "cell_type": "markdown",
   "metadata": {},
   "source": [
    "#### 5.4 'Steak Burrito'와 'Chicken Bowl'의 총 판매 금액을 계산하여 출력하시오."
   ]
  },
  {
   "cell_type": "code",
   "execution_count": 310,
   "metadata": {},
   "outputs": [
    {
     "name": "stdout",
     "output_type": "stream",
     "text": [
      "Steak Burrito의 총 판매 금액 : 3851.4300000000003\n",
      "Chicken Bowl의 총 판매 금액 : 7342.7300000000005\n",
      "결과가 소수점 13자리까지 나오는건 Python의 부동소수점 연산(floating-point arithmetic) 때문입니다.\n"
     ]
    }
   ],
   "source": [
    "# 'Steak Burrito'의 총 판매 금액 계산\n",
    "# filtered_Steak_Burrito = (steak_burrito_numeric[\"item_name\"]==\"Steak Burrito\")\n",
    "filtered_Steak_Burrito = steak_burrito_numeric[steak_burrito_numeric[\"item_name\"]==\"Steak Burrito\"]\n",
    "\n",
    "filtered_chicken_bowl = chicken_bowl_numeric[chicken_bowl_numeric[\"item_name\"]==\"Chicken Bowl\"]\n",
    "\n",
    "sum_Steak_Burrito=filtered_Steak_Burrito[\"item_price\"].str.replace(\"$\",\"\").astype(float).sum()\n",
    "print(f\"Steak Burrito의 총 판매 금액 : {sum_Steak_Burrito}\")\n",
    "# 코드 작성\n",
    "# sum_Steak_Burrito = steak_burrito_numeric[steak_burrito_numeric[filtered_Steak_Burrito]].astype(float).sum()\n",
    "\n",
    "# # 'Chicken Bowl'의 총 판매 금액 계산\n",
    "# filtered_Chicken_Bowl = (chicken_bowl_numeric[\"item_name\"]==\"Chicken Bowl\")\n",
    "# # 코드 작성\n",
    "# sum_Chicken_Bowl = chicken_bowl_numeric[filtered_Chicken_Bowl].astype(float).sum()\n",
    "\n",
    "# .astype(float).sum()\n",
    "sum_Chicken_Bowl=filtered_chicken_bowl[\"item_price\"].str.replace(\"$\",\"\").astype(float).sum()\n",
    "print(f\"Chicken Bowl의 총 판매 금액 : {sum_Chicken_Bowl}\")\n",
    "print(\"결과가 소수점 13자리까지 나오는건 Python의 부동소수점 연산(floating-point arithmetic) 때문입니다.\")\n",
    "\n",
    "# 계산 결과 출력\n",
    "# print(sum_Steak_Burrito)\n",
    "# print(sum_Chicken_Bowl)\n",
    "# 코드 작성\n"
   ]
  },
  {
   "cell_type": "raw",
   "metadata": {},
   "source": [
    "'Steak Burrito'의 총 판매 금액: 3851.4300000000003\n",
    "'Chicken Bowl'의 총 판매 금액: 7342.7300000000005\n",
    "# 결과가 소수점 13자리까지 나오는건 Python의 부동소수점 연산(floating-point arithmetic) 때문입니다."
   ]
  },
  {
   "cell_type": "markdown",
   "metadata": {},
   "source": [
    "#### 5.5 'Steak Burrito'와 'Chicken Bowl'의 총 판매 수량을 계산하여 출력하시오."
   ]
  },
  {
   "cell_type": "code",
   "execution_count": 311,
   "metadata": {},
   "outputs": [
    {
     "name": "stdout",
     "output_type": "stream",
     "text": [
      "386\n",
      "761\n"
     ]
    }
   ],
   "source": [
    "# 'Steak Burrito'의 총 판매 수량 계산\n",
    "sum_cnt_Steak_Burrito = steak_burrito_numeric[steak_burrito_numeric[\"item_name\"]==\"Steak Burrito\"]\n",
    "sum_cnt_Steak_Burrito=sum_cnt_Steak_Burrito[\"quantity\"].sum()\n",
    "print(sum_cnt_Steak_Burrito)\n",
    "\n",
    "# 코드 작성\n",
    "\n",
    "\n",
    "# 'Chicken Bowl'의 총 판매 수량 계산\n",
    "sum_cnt_chicken_bowl = chicken_bowl_numeric[chicken_bowl_numeric[\"item_name\"]==\"Chicken Bowl\"]\n",
    "sum_cnt_chicken_bowl=sum_cnt_chicken_bowl[\"quantity\"].sum()\n",
    "\n",
    "# 코드 작성\n",
    "\n",
    "\n",
    "# 계산 결과 출력\n",
    "print(sum_cnt_chicken_bowl)\n",
    "# 코드 작성"
   ]
  },
  {
   "cell_type": "raw",
   "metadata": {},
   "source": [
    "'Steak Burrito'의 총 판매 수량: 386\n",
    "'Chicken Bowl'의 총 판매 수량: 761"
   ]
  },
  {
   "cell_type": "markdown",
   "metadata": {},
   "source": [
    "#### 5.6 'Steak Burrito'와 'Chicken Bowl'의 평균 판매 가격을 계산하여 출력하시오."
   ]
  },
  {
   "cell_type": "code",
   "execution_count": 314,
   "metadata": {},
   "outputs": [
    {
     "name": "stdout",
     "output_type": "stream",
     "text": [
      "9.98\n",
      "9.65\n"
     ]
    }
   ],
   "source": [
    "# 'Steak Burrito'의 평균 가격 계산\n",
    "# 총 판매 금액을 총 판매 수량으로 나누고 round() 함수를 이용해 소수점 둘째 자리까지 구함\n",
    "dived_steak=(sum_Steak_Burrito/sum_cnt_Steak_Burrito)\n",
    "mean_steak_price=dived_steak.round(2)\n",
    "# 코드 작성\n",
    "\n",
    "\n",
    "# 'Chicken Bowl'의 평균 가격 계산\n",
    "# 총 판매 금액을 총 판매 수량으로 나누고 round() 함수를 이용해 소수점 둘째 자리까지 구함\n",
    "dived_chicken=(sum_Chicken_Bowl/sum_cnt_chicken_bowl)\n",
    "mean_chicken_price=dived_chicken.round(2)\n",
    "\n",
    "# sum_Chicken_Bowl\n",
    "# 코드 작성\n",
    "\n",
    "\n",
    "# 계산 결과 출력\n",
    "print(mean_steak_price)\n",
    "print(mean_chicken_price)\n",
    "# 코드 작성"
   ]
  },
  {
   "cell_type": "raw",
   "metadata": {},
   "source": [
    "'Steak Burrito'의 평균 판매 가격: $9.98 \n",
    "'Chicken Bowl'의 평균 판매 가격: $9.65 "
   ]
  }
 ],
 "metadata": {
  "kernelspec": {
   "display_name": "python3.12",
   "language": "python",
   "name": "python3"
  },
  "language_info": {
   "codemirror_mode": {
    "name": "ipython",
    "version": 3
   },
   "file_extension": ".py",
   "mimetype": "text/x-python",
   "name": "python",
   "nbconvert_exporter": "python",
   "pygments_lexer": "ipython3",
   "version": "3.12.7"
  }
 },
 "nbformat": 4,
 "nbformat_minor": 4
}
