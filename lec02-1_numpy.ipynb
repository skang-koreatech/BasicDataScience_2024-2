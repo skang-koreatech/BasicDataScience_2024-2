{
 "cells": [
  {
   "cell_type": "markdown",
   "metadata": {},
   "source": [
    "# 기초데이터과학 (01분반)\n",
    "## 02-1. 데이터 가공: NumPy 활용"
   ]
  },
  {
   "cell_type": "markdown",
   "metadata": {},
   "source": [
    "### Acknowledgement\n",
    "\n",
    "#### 이 자료는 다음 서적의 내용을 바탕으로 작성되었음\n",
    "- 파이썬 라이브러리를 활용한 데이터 분석. 한빛미디어\n",
    "- 예제 중심의 파이썬 입문. 인포앤북"
   ]
  },
  {
   "cell_type": "markdown",
   "metadata": {},
   "source": [
    "### NumPy\n",
    "- 데이터 분석과 산술 연산을 하는 데 사용되는 기본적인 필수 패키지 중 하나\n",
    "  - 'Numerical Python'의 약어\n",
    "- 기본적으로 배열의 구조로 되어 있음\n",
    "  - 파이썬의 과학 계산을 위한 패키지 라이브러리들은 NumPy 배열 객체를 기반으로 동작하는 경우가 많음\n",
    "- NumPy에서 제공하는 것\n",
    "  - 효율적인 다차원 배열인 ndarray는 빠른 배열 계산 기능 제공\n",
    "  - 반복문을 작성할 필요 없이 전체 데이터 배열을 빠르게 계산할 수 있는 표준 수학 함수 제공\n",
    "  - 배열 데이터를 디스크에 쓰거나 읽을 수 있는 도구와 메모리에 적재된 파일을 다루는 도구 제공\n",
    "  - 선형대수, 난수 생성기, 푸리에 변환 기능 제공\n",
    "  - C, C++, 포트란으로 작성한 코드를 연결할 수 있는 C API\n",
    "- NumPy 자체는 모델링이나 과학 계산을 위한 기능을 제공하지 않아서 먼저 NumPy 배열과 배열 기반 연산에 대한 이해를 한 다음 pandas 같은 배열 기반 도구를 사용하면 더 효율적임"
   ]
  },
  {
   "cell_type": "markdown",
   "metadata": {},
   "source": [
    "#### NumPy의 중요한 장점\n",
    "- 대용량 데이터 배열을 효율적으로 다룰 수 있도록 설계됨\n",
    "  - NumPy가 파이썬 산술 계산 영역에서 중요한 위치를 차지하는 이유 중 하나\n",
    "  - NumPy는 내부적으로 데이터를 다른 내장 파이썬 객체와 구분된 연속된 메모리 블록에 저장함\n",
    "  - NumPy의 각종 알고리즘은 모두 C로 작성되어 타입 검사나 다른 오버헤드 없이 메모리를 직접 조작할 수 있음\n",
    "  - NumPy 배열은 내장 파이썬의 연속 자료형보다 훨씬 더 적은 메모리를 사용함\n",
    "  - NumPy 연산은 파이썬 반복문을 사용하지 않고 전체 배열에 대한 복잡한 계산을 수행할 수 있음\n"
   ]
  },
  {
   "cell_type": "markdown",
   "metadata": {},
   "source": [
    "- NumPy 배열과 파이썬 리스트의 성능 비교\n",
    "  - 백만개의 정수를 원소로 갖는 NumPy 배열과 파이썬 리스트를 생성하고 각 원소에 2를 곱한 값을 원소로 갖는 새로운 NumPy 배열과 파이썬 리스트를 만드는 데 걸리는 시간 비교"
   ]
  },
  {
   "cell_type": "code",
   "execution_count": 1,
   "metadata": {},
   "outputs": [],
   "source": [
    "import numpy as np\n",
    "my_arr = np.arange(1000000)\n",
    "my_list = list(range(1000000))"
   ]
  },
  {
   "cell_type": "code",
   "execution_count": 6,
   "metadata": {},
   "outputs": [
    {
     "name": "stdout",
     "output_type": "stream",
     "text": [
      "CPU times: total: 31.2 ms\n",
      "Wall time: 31.9 ms\n"
     ]
    }
   ],
   "source": [
    "%time for _ in range(10): my_arr2 = my_arr * 2"
   ]
  },
  {
   "cell_type": "code",
   "execution_count": 7,
   "metadata": {},
   "outputs": [
    {
     "name": "stdout",
     "output_type": "stream",
     "text": [
      "CPU times: total: 1.02 s\n",
      "Wall time: 1.04 s\n"
     ]
    }
   ],
   "source": [
    "%time for _ in range(10): my_list2 = [x * 2 for x in my_list]"
   ]
  },
  {
   "cell_type": "markdown",
   "metadata": {},
   "source": [
    "### NumPy ndarray: 다차원 배열 객체"
   ]
  },
  {
   "cell_type": "markdown",
   "metadata": {},
   "source": [
    "#### ndarray\n",
    "- NumPy의 핵심 기능 중 하나로 N차원의 배열 객체를 나타냄\n",
    "  - 파이썬에서 사용할 수 있는 대규모 데이터 집합을 담을 수 있는 빠르고 유연한 자료구조\n",
    "  - 스칼라 원소간의 연산에 사용하는 문법과 비슷한 방식을 사용해서 전체 데이터 블록에 수학 연산을 수행할 수 있도록 해줌\n",
    "  - https://numpy.org/doc/stable/reference/arrays.ndarray.html\n"
   ]
  },
  {
   "cell_type": "markdown",
   "metadata": {},
   "source": [
    "#### ndarray 생성하기\n",
    "- array 함수 이용\n",
    "  - 시퀀스 타입 객체를 넘겨받아 넘겨받은 데이터가 들어 있는 새로운 numpy 배열 생성"
   ]
  },
  {
   "cell_type": "code",
   "execution_count": 5,
   "metadata": {},
   "outputs": [
    {
     "data": {
      "text/plain": [
       "array([6. , 7.5, 8. , 0. , 1. ])"
      ]
     },
     "execution_count": 5,
     "metadata": {},
     "output_type": "execute_result"
    }
   ],
   "source": [
    "import numpy as np # 이하 코드에서는 import 생략\n",
    "\n",
    "data1 = [6, 7.5, 8, 0, 1]\n",
    "# 일차원 리스트를 이용하여 ndarray 생성\n",
    "arr1 = np.array(data1)\n",
    "arr1"
   ]
  },
  {
   "cell_type": "code",
   "execution_count": 6,
   "metadata": {},
   "outputs": [
    {
     "data": {
      "text/plain": [
       "array([[1, 2, 3, 4],\n",
       "       [5, 6, 7, 8]])"
      ]
     },
     "execution_count": 6,
     "metadata": {},
     "output_type": "execute_result"
    }
   ],
   "source": [
    "data2 = [[1,2,3,4], [5,6,7,8]]\n",
    "# 2차원 리스트(같은 길이를 가지는 리스트를 원소로 갖는)를 이용하여 2차원 ndarray 생성\n",
    "arr2 = np.array(data2)\n",
    "arr2"
   ]
  },
  {
   "cell_type": "markdown",
   "metadata": {},
   "source": [
    "- ndarray 속성\n",
    "  - ndarray.ndim\n",
    "    - 배열의 차원의 수\n",
    "  - ndarray.shape\n",
    "    - 배열의 형상 정보(차원 혹은 축) - 각 차원의 요소 개수를 튜플의 형태로 나타냄\n",
    "    - 2차원 배열 n행 m열이라면 shape은 (n, m)\n",
    "  - ndarray.size\n",
    "    - 배열의 요소 수\n",
    "  - ndarray.dtype\n",
    "    - 배열 요소의 자료형\n",
    "    - int8, uint8, int16, uint16, int32, uint32, int64, uint64: 정수형\n",
    "    - float16, float32, float64, float128: 부동소수점형\n",
    "    - complex64, complex128, complex256: 각가 2개의 32, 64, 128비트 부동소수점형을 가지는 복소수형\n",
    "    - bool: 논리형\n",
    "    - 유니코드 형"
   ]
  },
  {
   "cell_type": "code",
   "execution_count": 7,
   "metadata": {},
   "outputs": [
    {
     "data": {
      "text/plain": [
       "dtype('float64')"
      ]
     },
     "execution_count": 7,
     "metadata": {},
     "output_type": "execute_result"
    }
   ],
   "source": [
    "# 명시적으로 지정하지 않는 한 np.array는 생성될 때 적절한 자료형을 추론함\n",
    "arr1.dtype"
   ]
  },
  {
   "cell_type": "code",
   "execution_count": 9,
   "metadata": {},
   "outputs": [
    {
     "data": {
      "text/plain": [
       "dtype('int32')"
      ]
     },
     "execution_count": 9,
     "metadata": {},
     "output_type": "execute_result"
    }
   ],
   "source": [
    "arr2.dtype"
   ]
  },
  {
   "cell_type": "code",
   "execution_count": 10,
   "metadata": {},
   "outputs": [
    {
     "data": {
      "text/plain": [
       "2"
      ]
     },
     "execution_count": 10,
     "metadata": {},
     "output_type": "execute_result"
    }
   ],
   "source": [
    "arr2.ndim"
   ]
  },
  {
   "cell_type": "code",
   "execution_count": 11,
   "metadata": {},
   "outputs": [
    {
     "data": {
      "text/plain": [
       "(2, 4)"
      ]
     },
     "execution_count": 11,
     "metadata": {},
     "output_type": "execute_result"
    }
   ],
   "source": [
    "arr2.shape"
   ]
  },
  {
   "cell_type": "code",
   "execution_count": 10,
   "metadata": {},
   "outputs": [
    {
     "data": {
      "text/plain": [
       "array(['abc', 'be', 'c'], dtype='<U3')"
      ]
     },
     "execution_count": 10,
     "metadata": {},
     "output_type": "execute_result"
    }
   ],
   "source": [
    "data3 = ['abc', 'be', 'c']\n",
    "arr3 = np.array(data3)\n",
    "arr3"
   ]
  },
  {
   "cell_type": "markdown",
   "metadata": {},
   "source": [
    "- NumPy의 random.randn 함수 이용\n",
    "  - 표준편차가 1이고 평균이 0인 정규분포에서 표본 추출"
   ]
  },
  {
   "cell_type": "code",
   "execution_count": 26,
   "metadata": {},
   "outputs": [
    {
     "data": {
      "text/plain": [
       "array([[-0.17197519, -0.69128152, -0.49052255],\n",
       "       [ 0.5259702 , -1.53828328,  0.1623995 ]])"
      ]
     },
     "execution_count": 26,
     "metadata": {},
     "output_type": "execute_result"
    }
   ],
   "source": [
    "np.random.randn(2,3)"
   ]
  },
  {
   "cell_type": "markdown",
   "metadata": {},
   "source": [
    "- 배열의 형상(shape) 바꾸기\n",
    "  - reshape"
   ]
  },
  {
   "cell_type": "code",
   "execution_count": 31,
   "metadata": {},
   "outputs": [
    {
     "name": "stdout",
     "output_type": "stream",
     "text": [
      "[[1 2 3 4]\n",
      " [5 6 7 8]]\n",
      "(2, 4)\n",
      "[[1 2]\n",
      " [3 4]\n",
      " [5 6]\n",
      " [7 8]]\n",
      "(4, 2)\n"
     ]
    }
   ],
   "source": [
    "data2 = [[1,2,3,4], [5,6,7,8]]\n",
    "arr2 = np.array(data2)\n",
    "print(arr2)\n",
    "print(arr2.shape)\n",
    "\n",
    "arr3 = arr2.reshape(4,2)\n",
    "print(arr3)\n",
    "print(arr3.shape)"
   ]
  },
  {
   "cell_type": "markdown",
   "metadata": {},
   "source": [
    "#### ndarray 객체 초기화하기\n",
    "- arange, ones, zeros, empty, full, eye"
   ]
  },
  {
   "cell_type": "markdown",
   "metadata": {},
   "source": [
    "- arange\n",
    "  - 파이썬의 range 함수의 배열 버전"
   ]
  },
  {
   "cell_type": "code",
   "execution_count": 12,
   "metadata": {},
   "outputs": [
    {
     "data": {
      "text/plain": [
       "array([ 0,  1,  2,  3,  4,  5,  6,  7,  8,  9, 10, 11, 12, 13, 14])"
      ]
     },
     "execution_count": 12,
     "metadata": {},
     "output_type": "execute_result"
    }
   ],
   "source": [
    "np.arange(15)"
   ]
  },
  {
   "cell_type": "code",
   "execution_count": 14,
   "metadata": {},
   "outputs": [
    {
     "name": "stdout",
     "output_type": "stream",
     "text": [
      "[ 10  20  30  40  50  60  70  80  90 100 110 120]\n"
     ]
    }
   ],
   "source": [
    "np.arange(10, 121, 10)\n",
    "print(np.arange(10, 121, 10))"
   ]
  },
  {
   "cell_type": "markdown",
   "metadata": {},
   "source": [
    "- ones, zeros\n",
    "  - 모든 원소를 1/0으로 채운 배열을 반환\n",
    "  - 기본적으로는 float64 타입\n",
    "  - dtype을 명시하면 해당 타입으로 생성"
   ]
  },
  {
   "cell_type": "code",
   "execution_count": 15,
   "metadata": {},
   "outputs": [
    {
     "data": {
      "text/plain": [
       "array([1., 1., 1., 1., 1.])"
      ]
     },
     "execution_count": 15,
     "metadata": {},
     "output_type": "execute_result"
    }
   ],
   "source": [
    "np.ones(5)"
   ]
  },
  {
   "cell_type": "code",
   "execution_count": 18,
   "metadata": {},
   "outputs": [
    {
     "data": {
      "text/plain": [
       "array([ True,  True,  True,  True,  True,  True,  True,  True])"
      ]
     },
     "execution_count": 18,
     "metadata": {},
     "output_type": "execute_result"
    }
   ],
   "source": [
    "np.ones(8, dtype=np.bool)"
   ]
  },
  {
   "cell_type": "code",
   "execution_count": 11,
   "metadata": {},
   "outputs": [
    {
     "data": {
      "text/plain": [
       "array([[1., 1., 1.],\n",
       "       [1., 1., 1.],\n",
       "       [1., 1., 1.]])"
      ]
     },
     "execution_count": 11,
     "metadata": {},
     "output_type": "execute_result"
    }
   ],
   "source": [
    "np.ones((3,3))"
   ]
  },
  {
   "cell_type": "code",
   "execution_count": 13,
   "metadata": {},
   "outputs": [
    {
     "data": {
      "text/plain": [
       "array([[1, 1, 1],\n",
       "       [1, 1, 1],\n",
       "       [1, 1, 1]], dtype=uint32)"
      ]
     },
     "execution_count": 13,
     "metadata": {},
     "output_type": "execute_result"
    }
   ],
   "source": [
    "np.ones((3,3), dtype=np.uint32)"
   ]
  },
  {
   "cell_type": "code",
   "execution_count": 17,
   "metadata": {},
   "outputs": [
    {
     "data": {
      "text/plain": [
       "array([[[1, 1],\n",
       "        [1, 1]],\n",
       "\n",
       "       [[1, 1],\n",
       "        [1, 1]]])"
      ]
     },
     "execution_count": 17,
     "metadata": {},
     "output_type": "execute_result"
    }
   ],
   "source": [
    "np.ones((2,2,2), dtype=np.int32)"
   ]
  },
  {
   "cell_type": "code",
   "execution_count": 19,
   "metadata": {},
   "outputs": [
    {
     "name": "stdout",
     "output_type": "stream",
     "text": [
      "[0. 0. 0. 0. 0. 0. 0.]\n",
      "float64\n"
     ]
    }
   ],
   "source": [
    "d1 = np.zeros(7)\n",
    "print(d1)\n",
    "print(d1.dtype)"
   ]
  },
  {
   "cell_type": "code",
   "execution_count": 21,
   "metadata": {},
   "outputs": [
    {
     "name": "stdout",
     "output_type": "stream",
     "text": [
      "[[0 0]\n",
      " [0 0]\n",
      " [0 0]]\n"
     ]
    }
   ],
   "source": [
    "d2 = np.zeros((3,2), dtype=np.int32)\n",
    "print(d2)"
   ]
  },
  {
   "cell_type": "markdown",
   "metadata": {},
   "source": [
    "- eye, identity\n",
    "  - N x N 크기의 단위행렬을 생성 (좌상단에서 우하단을 잇는 대각선은 1로 채우고 나머지는 0)"
   ]
  },
  {
   "cell_type": "code",
   "execution_count": 22,
   "metadata": {},
   "outputs": [
    {
     "data": {
      "text/plain": [
       "array([[1., 0., 0.],\n",
       "       [0., 1., 0.],\n",
       "       [0., 0., 1.]])"
      ]
     },
     "execution_count": 22,
     "metadata": {},
     "output_type": "execute_result"
    }
   ],
   "source": [
    "np.eye(3)"
   ]
  },
  {
   "cell_type": "code",
   "execution_count": 23,
   "metadata": {},
   "outputs": [
    {
     "data": {
      "text/plain": [
       "array([[1., 0., 0., 0., 0.],\n",
       "       [0., 1., 0., 0., 0.],\n",
       "       [0., 0., 1., 0., 0.],\n",
       "       [0., 0., 0., 1., 0.],\n",
       "       [0., 0., 0., 0., 1.]])"
      ]
     },
     "execution_count": 23,
     "metadata": {},
     "output_type": "execute_result"
    }
   ],
   "source": [
    "np.identity(5)"
   ]
  },
  {
   "cell_type": "code",
   "execution_count": 25,
   "metadata": {},
   "outputs": [
    {
     "data": {
      "text/plain": [
       "array([[1, 0, 0, 0],\n",
       "       [0, 1, 0, 0],\n",
       "       [0, 0, 1, 0],\n",
       "       [0, 0, 0, 1]], dtype=uint16)"
      ]
     },
     "execution_count": 25,
     "metadata": {},
     "output_type": "execute_result"
    }
   ],
   "source": [
    "np.eye(4, dtype=np.uint16)"
   ]
  },
  {
   "cell_type": "markdown",
   "metadata": {},
   "source": [
    "### 연습문제\n",
    "-  다음과 같은 1차원 numpy 배열을 만들어 출력하기\n",
    "  - [0,2,4,6,8,10,12,14,16,18,20,22,24,28]\n",
    "  \n",
    "- 위 1차원 배열을 (3, 5) shape의 2차원 배열로 만들기"
   ]
  },
  {
   "cell_type": "code",
   "execution_count": 9,
   "metadata": {},
   "outputs": [
    {
     "name": "stdout",
     "output_type": "stream",
     "text": [
      "[[1 2 3 4]\n",
      " [5 6 7 8]]\n",
      "(2, 4)\n",
      "[[1 2]\n",
      " [3 4]\n",
      " [5 6]\n",
      " [7 8]]\n",
      "(4, 2)\n"
     ]
    }
   ],
   "source": [
    "data2 = [[1,2,3,4], [5,6,7,8]]\n",
    "arr2 = np.array(data2)\n",
    "print(arr2)\n",
    "print(arr2.shape)\n",
    "\n",
    "arr3 = arr2.reshape(4,2)\n",
    "print(arr3)\n",
    "print(arr3.shape)"
   ]
  },
  {
   "cell_type": "code",
   "execution_count": 14,
   "metadata": {},
   "outputs": [
    {
     "name": "stdout",
     "output_type": "stream",
     "text": [
      "(15,)\n"
     ]
    }
   ],
   "source": [
    "# 1차원 배열 생성\n",
    "arr1=np.arange(0,30,2)\n",
    "print(arr1.shape)"
   ]
  },
  {
   "cell_type": "code",
   "execution_count": 13,
   "metadata": {},
   "outputs": [
    {
     "name": "stdout",
     "output_type": "stream",
     "text": [
      "(3, 5)\n"
     ]
    }
   ],
   "source": [
    "# (3,5)의 2차원 배열로 변환\n",
    "arr2 = arr1.reshape(3,5)\n",
    "print(arr2.shape)"
   ]
  },
  {
   "cell_type": "markdown",
   "metadata": {},
   "source": [
    "#### 인덱싱과 슬라이싱"
   ]
  },
  {
   "cell_type": "markdown",
   "metadata": {},
   "source": [
    "- 1차원 배열"
   ]
  },
  {
   "cell_type": "code",
   "execution_count": 32,
   "metadata": {},
   "outputs": [
    {
     "data": {
      "text/plain": [
       "array([0, 1, 2, 3, 4, 5, 6, 7, 8, 9])"
      ]
     },
     "execution_count": 32,
     "metadata": {},
     "output_type": "execute_result"
    }
   ],
   "source": [
    "arr = np.arange(10)\n",
    "arr"
   ]
  },
  {
   "cell_type": "code",
   "execution_count": 33,
   "metadata": {},
   "outputs": [
    {
     "data": {
      "text/plain": [
       "5"
      ]
     },
     "execution_count": 33,
     "metadata": {},
     "output_type": "execute_result"
    }
   ],
   "source": [
    "arr[5]"
   ]
  },
  {
   "cell_type": "code",
   "execution_count": 34,
   "metadata": {},
   "outputs": [
    {
     "data": {
      "text/plain": [
       "array([5, 6, 7])"
      ]
     },
     "execution_count": 34,
     "metadata": {},
     "output_type": "execute_result"
    }
   ],
   "source": [
    "arr[5:8]"
   ]
  },
  {
   "cell_type": "code",
   "execution_count": 35,
   "metadata": {},
   "outputs": [
    {
     "data": {
      "text/plain": [
       "array([ 0,  1,  2,  3,  4, 12, 12, 12,  8,  9])"
      ]
     },
     "execution_count": 35,
     "metadata": {},
     "output_type": "execute_result"
    }
   ],
   "source": [
    "arr[5:8] = 12\n",
    "arr"
   ]
  },
  {
   "cell_type": "markdown",
   "metadata": {},
   "source": [
    "- 1차원 배열의 인덱싱, 슬라이싱은 파이썬의 리스트와 유사하게 동작\n",
    "- 리스트와의 중요한 차이점\n",
    "  - 배열 조각은 원본 배열의 뷰\n",
    "  - 데이터는 복사되지 않고 뷰에 대한 변경은 그대로 원본 배열에 반영됨\n",
    "  - 만약 뷰 대신 슬라이스의 복사본을 얻고자 한다면 copy() 함수를 사용해서 배열을 복사해야 함"
   ]
  },
  {
   "cell_type": "code",
   "execution_count": 36,
   "metadata": {},
   "outputs": [
    {
     "data": {
      "text/plain": [
       "array([12, 12, 12])"
      ]
     },
     "execution_count": 36,
     "metadata": {},
     "output_type": "execute_result"
    }
   ],
   "source": [
    "arr_slice = arr[5:8]\n",
    "arr_slice"
   ]
  },
  {
   "cell_type": "code",
   "execution_count": 37,
   "metadata": {},
   "outputs": [
    {
     "data": {
      "text/plain": [
       "array([   0,    1,    2,    3,    4,   12, 1234,   12,    8,    9])"
      ]
     },
     "execution_count": 37,
     "metadata": {},
     "output_type": "execute_result"
    }
   ],
   "source": [
    "arr_slice[1] = 1234\n",
    "arr"
   ]
  },
  {
   "cell_type": "code",
   "execution_count": 38,
   "metadata": {},
   "outputs": [
    {
     "data": {
      "text/plain": [
       "array([ 0,  1,  2,  3,  4, 64, 64, 64,  8,  9])"
      ]
     },
     "execution_count": 38,
     "metadata": {},
     "output_type": "execute_result"
    }
   ],
   "source": [
    "arr_slice[:] = 64\n",
    "arr"
   ]
  },
  {
   "cell_type": "code",
   "execution_count": 39,
   "metadata": {},
   "outputs": [
    {
     "data": {
      "text/plain": [
       "array([64, 64, 64])"
      ]
     },
     "execution_count": 39,
     "metadata": {},
     "output_type": "execute_result"
    }
   ],
   "source": [
    "a2 = arr[5:8].copy()\n",
    "a2"
   ]
  },
  {
   "cell_type": "code",
   "execution_count": 40,
   "metadata": {},
   "outputs": [
    {
     "data": {
      "text/plain": [
       "array([ 0,  1,  2,  3,  4, 64, 64, 64,  8,  9])"
      ]
     },
     "execution_count": 40,
     "metadata": {},
     "output_type": "execute_result"
    }
   ],
   "source": [
    "a2[:] = 128\n",
    "arr"
   ]
  },
  {
   "cell_type": "code",
   "execution_count": 41,
   "metadata": {},
   "outputs": [
    {
     "data": {
      "text/plain": [
       "array([128, 128, 128])"
      ]
     },
     "execution_count": 41,
     "metadata": {},
     "output_type": "execute_result"
    }
   ],
   "source": [
    "a2"
   ]
  },
  {
   "cell_type": "code",
   "execution_count": 8,
   "metadata": {},
   "outputs": [
    {
     "name": "stdout",
     "output_type": "stream",
     "text": [
      "[3, 4]\n"
     ]
    }
   ],
   "source": [
    "# 리스트 슬라이싱의 경우\n",
    "\n",
    "l1 = [1,2,3,4,5]\n",
    "l2 = l1[2:4]\n",
    "print(l2)"
   ]
  },
  {
   "cell_type": "code",
   "execution_count": 9,
   "metadata": {},
   "outputs": [
    {
     "name": "stdout",
     "output_type": "stream",
     "text": [
      "[100, 4]\n"
     ]
    }
   ],
   "source": [
    "l2[0] = 100\n",
    "print(l2)"
   ]
  },
  {
   "cell_type": "code",
   "execution_count": 10,
   "metadata": {},
   "outputs": [
    {
     "name": "stdout",
     "output_type": "stream",
     "text": [
      "[1, 2, 3, 4, 5]\n"
     ]
    }
   ],
   "source": [
    "print(l1)"
   ]
  },
  {
   "cell_type": "markdown",
   "metadata": {},
   "source": [
    "- 다차원 배열\n"
   ]
  },
  {
   "cell_type": "code",
   "execution_count": 42,
   "metadata": {},
   "outputs": [
    {
     "data": {
      "text/plain": [
       "array([7, 8, 9])"
      ]
     },
     "execution_count": 42,
     "metadata": {},
     "output_type": "execute_result"
    }
   ],
   "source": [
    "# 2차원 배열\n",
    "arr2d = np.array([[1,2,3],[4,5,6],[7,8,9]])\n",
    "arr2d[2] # 한 행 전체"
   ]
  },
  {
   "cell_type": "code",
   "execution_count": 43,
   "metadata": {},
   "outputs": [
    {
     "data": {
      "text/plain": [
       "7"
      ]
     },
     "execution_count": 43,
     "metadata": {},
     "output_type": "execute_result"
    }
   ],
   "source": [
    "arr2d[2][0] # 해당 행, 열의 원소"
   ]
  },
  {
   "cell_type": "code",
   "execution_count": 44,
   "metadata": {},
   "outputs": [
    {
     "data": {
      "text/plain": [
       "7"
      ]
     },
     "execution_count": 44,
     "metadata": {},
     "output_type": "execute_result"
    }
   ],
   "source": [
    "arr2d[2, 0]"
   ]
  },
  {
   "cell_type": "code",
   "execution_count": 45,
   "metadata": {},
   "outputs": [
    {
     "data": {
      "text/plain": [
       "array([[1, 2, 3],\n",
       "       [4, 5, 6]])"
      ]
     },
     "execution_count": 45,
     "metadata": {},
     "output_type": "execute_result"
    }
   ],
   "source": [
    "arr2d[:2] # 0번 축을 기준으로 슬라이싱 - 0번, 1번 행 선택"
   ]
  },
  {
   "cell_type": "code",
   "execution_count": 47,
   "metadata": {},
   "outputs": [
    {
     "name": "stdout",
     "output_type": "stream",
     "text": [
      "[[1 2 3]\n",
      " [4 5 6]\n",
      " [7 8 9]]\n"
     ]
    },
    {
     "data": {
      "text/plain": [
       "array([[2, 3],\n",
       "       [5, 6]])"
      ]
     },
     "execution_count": 47,
     "metadata": {},
     "output_type": "execute_result"
    }
   ],
   "source": [
    "print(arr2d)\n",
    "arr2d[:2, 1:] # 0번 축에 대해서는 0,1번 행 선택, 1번 축에 대해서는 1번 이후 열 선택"
   ]
  },
  {
   "cell_type": "code",
   "execution_count": 48,
   "metadata": {},
   "outputs": [
    {
     "data": {
      "text/plain": [
       "array([4, 5])"
      ]
     },
     "execution_count": 48,
     "metadata": {},
     "output_type": "execute_result"
    }
   ],
   "source": [
    "arr2d[1, :2] # 0번 축의 1번 행 선택, 1번 축의 0, 1번 열 선택\n",
    "# 인덱싱과 슬라이싱을 같이 사용 - 1차원 배열이 됨"
   ]
  },
  {
   "cell_type": "code",
   "execution_count": 49,
   "metadata": {},
   "outputs": [
    {
     "data": {
      "text/plain": [
       "array([3, 6])"
      ]
     },
     "execution_count": 49,
     "metadata": {},
     "output_type": "execute_result"
    }
   ],
   "source": [
    "arr2d[:2, 2] # 0번 축의 0, 1번 행, 1번 축의 2번 열 선택\n",
    "# 인덱싱과 슬라이싱을 같이 사용 - 1차원 배열이 됨"
   ]
  },
  {
   "cell_type": "code",
   "execution_count": 50,
   "metadata": {},
   "outputs": [
    {
     "data": {
      "text/plain": [
       "array([[3],\n",
       "       [6]])"
      ]
     },
     "execution_count": 50,
     "metadata": {},
     "output_type": "execute_result"
    }
   ],
   "source": [
    "arr2d[:2, 2:] # 0번 축의 0, 1번 행, 1번 축의 2번 열\n",
    "# 각 축별로 슬라이싱 사용 - 2차원 배열 그대로 유지"
   ]
  },
  {
   "cell_type": "markdown",
   "metadata": {},
   "source": [
    "### 연습문제\n",
    "- 가장자리 원소만 1이고 그 안의 원소는 모두 0인 2차원 배열 생성하기"
   ]
  },
  {
   "cell_type": "code",
   "execution_count": 89,
   "metadata": {},
   "outputs": [
    {
     "name": "stdout",
     "output_type": "stream",
     "text": [
      "[[1. 1. 1. 1. 1.]\n",
      " [1. 0. 0. 0. 1.]\n",
      " [1. 0. 0. 0. 1.]\n",
      " [1. 0. 0. 0. 1.]\n",
      " [1. 1. 1. 1. 1.]]\n"
     ]
    }
   ],
   "source": [
    "# 5x5 2차원 배열로 생성\n",
    "\n",
    "# 2차원 배열을 1로 초기화하여 생성\n",
    "\n",
    "# 슬라이싱 연산으로 내부 원소를 0으로 변경\n"
   ]
  },
  {
   "cell_type": "markdown",
   "metadata": {},
   "source": [
    "### NumPy 배열 다루기"
   ]
  },
  {
   "cell_type": "markdown",
   "metadata": {},
   "source": [
    "#### 배열의 산술 연산\n",
    "- 벡터화\n",
    "  - for 문을 사용하지 않고 데이터에 대한 산술 연산을 일괄 처리할 수 있음\n",
    "  - 같은 크기의 배열 간의 산술 연산은 배열의 각 원소 단위로 적용됨"
   ]
  },
  {
   "cell_type": "code",
   "execution_count": 54,
   "metadata": {},
   "outputs": [
    {
     "name": "stdout",
     "output_type": "stream",
     "text": [
      "[[ 2.  4.  6.]\n",
      " [ 8. 10. 12.]]\n",
      "[[0. 0. 0.]\n",
      " [0. 0. 0.]]\n",
      "[[ 1.  4.  9.]\n",
      " [16. 25. 36.]]\n",
      "[[1.         0.5        0.33333333]\n",
      " [0.25       0.2        0.16666667]]\n"
     ]
    }
   ],
   "source": [
    "a = np.array([[1., 2., 3.], [4.,5.,6.]])\n",
    "print(2*a)\n",
    "print(a-a)\n",
    "print(a*a)\n",
    "print(1/a)"
   ]
  },
  {
   "cell_type": "code",
   "execution_count": 12,
   "metadata": {},
   "outputs": [
    {
     "name": "stdout",
     "output_type": "stream",
     "text": [
      "[1, 2, 3, 4, 5, 1, 2, 3, 4, 5]\n"
     ]
    },
    {
     "ename": "TypeError",
     "evalue": "can't multiply sequence by non-int of type 'list'",
     "output_type": "error",
     "traceback": [
      "\u001b[1;31m---------------------------------------------------------------------------\u001b[0m",
      "\u001b[1;31mTypeError\u001b[0m                                 Traceback (most recent call last)",
      "Cell \u001b[1;32mIn[12], line 5\u001b[0m\n\u001b[0;32m      3\u001b[0m lst2 \u001b[38;5;241m=\u001b[39m [\u001b[38;5;241m10\u001b[39m,\u001b[38;5;241m20\u001b[39m,\u001b[38;5;241m30\u001b[39m,\u001b[38;5;241m40\u001b[39m,\u001b[38;5;241m50\u001b[39m]\n\u001b[0;32m      4\u001b[0m \u001b[38;5;28mprint\u001b[39m(\u001b[38;5;241m2\u001b[39m\u001b[38;5;241m*\u001b[39mlst1)\n\u001b[1;32m----> 5\u001b[0m \u001b[38;5;28mprint\u001b[39m(lst1 \u001b[38;5;241m*\u001b[39m lst2)\n",
      "\u001b[1;31mTypeError\u001b[0m: can't multiply sequence by non-int of type 'list'"
     ]
    }
   ],
   "source": [
    "# 리스트의 경우\n",
    "\n",
    "lst1 = [1,2,3,4,5]\n",
    "lst2 = [10,20,30,40,50]\n",
    "\n",
    "print(2*lst1) # 리스트에 * 연산을 적용하면 리스트 반복\n",
    "\n",
    "print(lst1 * lst2) # 리스트끼리 * 연산 불가능"
   ]
  },
  {
   "cell_type": "code",
   "execution_count": 55,
   "metadata": {},
   "outputs": [
    {
     "name": "stdout",
     "output_type": "stream",
     "text": [
      "[[ True False  True]\n",
      " [False  True False]]\n"
     ]
    }
   ],
   "source": [
    "b = np.array([[0., 4., 1.], [7.,2.,12.]])\n",
    "print(a>b)"
   ]
  },
  {
   "cell_type": "markdown",
   "metadata": {},
   "source": [
    "#### 통계 메소드 사용\n",
    "- 배열 전체 혹은 배열의 한 축을 따르는 데이터에 대한 통계를 계산\n",
    "  - 합계, 평균, 표준편차, 최대값, 최소값 등\n",
    "  - sum: 배열 전체 혹은 특정 축에 대한 모든 원소의 합. 크기가 0인 배열에 대한 sum 결과는 0\n",
    "  - mean: 산술 평균. 크기가 0인 배열에 대한 mean 결과는 NaN\n",
    "  - std, var: 표준편차와 분산\n",
    "  - min, max: 최소값과 최대값\n",
    "  - argmin, argmax: 최소 원소의 색인(인덱스) 값과 최대 원소의 색인(인덱스) 값\n",
    "  - cumsum: 각 원소의 누적합\n",
    "  - cumprod: 각 원소의 누적곱"
   ]
  },
  {
   "cell_type": "code",
   "execution_count": 13,
   "metadata": {},
   "outputs": [
    {
     "name": "stdout",
     "output_type": "stream",
     "text": [
      "1002\n",
      "83.5\n",
      "100\n",
      "65\n",
      "\n",
      "[243 265 246 248]\n",
      "[243 265 246 248]\n",
      "\n",
      "[341 315 346]\n",
      "[85.25 78.75 86.5 ]\n",
      "\n",
      "[ 98 100  90  93]\n",
      "[ 93  88 100]\n",
      "\n",
      "[2 2 0 0]\n",
      "[1 0 2]\n"
     ]
    }
   ],
   "source": [
    "data = np.array([[80, 78, 90, 93],\n",
    "                 [65, 87, 88, 75], \n",
    "                 [98, 100, 68, 80]])\n",
    "\n",
    "# 전체 원소의 합, 평균, 최대값, 최소값\n",
    "print(data.sum())\n",
    "print(data.mean())\n",
    "print(data.max())\n",
    "print(data.min())\n",
    "print()\n",
    "\n",
    "print(data.sum(0)) # 동일한 열의 원소들끼리 합\n",
    "print(data.sum(axis=0)) # 동일한 열의 원소들끼리 합\n",
    "print()\n",
    "\n",
    "print(data.sum(1)) # 동일한 행의 원소들끼리 합\n",
    "print(data.mean(1)) # 동일한 행의 원소들끼리 평균\n",
    "print()\n",
    "\n",
    "print(data.max(axis=0)) # 동일한 열의 원소들끼리 비교하여 그 중 최대값\n",
    "print(data.max(axis=1)) # 동일한 행의 원소들끼리 비교하여 그 중 최대값\n",
    "print()\n",
    "\n",
    "index1 = np.argmax(data, axis=0) # 동일한 열의 원소 중 최대값의 인덱스\n",
    "print(index1)\n",
    "\n",
    "index2 = np.argmin(data, axis=1) # 동일한 행의 원소 중 최소값의 인덱스\n",
    "print(index2)"
   ]
  },
  {
   "cell_type": "code",
   "execution_count": 64,
   "metadata": {},
   "outputs": [
    {
     "name": "stdout",
     "output_type": "stream",
     "text": [
      "[ 1  3  6 10 15 21 28]\n",
      "[   1    2    6   24  120  720 5040]\n"
     ]
    }
   ],
   "source": [
    "arr = np.array([1,2,3,4,5,6,7])\n",
    "print(arr.cumsum()) # 중간 계산값을 담고 있는 배열 반환\n",
    "print(arr.cumprod())"
   ]
  },
  {
   "cell_type": "markdown",
   "metadata": {},
   "source": [
    "#### 배열에 조건식 사용\n",
    "- 특정 조건을 만족하는 요소 값의 개수를 세거나, 조건을 만족하는 요소의 값을 특정 값으로 변경할 수 있음"
   ]
  },
  {
   "cell_type": "code",
   "execution_count": 14,
   "metadata": {},
   "outputs": [
    {
     "name": "stdout",
     "output_type": "stream",
     "text": [
      "[[ 0.26789541 -0.27353191  1.55095121 -0.49547887]\n",
      " [-0.04768179  0.07509686  1.128544   -0.47865908]\n",
      " [-1.56899799 -1.80447735  1.57789557  2.37527777]]\n"
     ]
    }
   ],
   "source": [
    "data = np.random.randn(3,4) # 3행 4열의 2차원 배열 생성 (배열의 원소는 평균 0, 표준편차 1인 정규분포에서 랜덤한 값을 뽑음)\n",
    "print(data)"
   ]
  },
  {
   "cell_type": "code",
   "execution_count": 15,
   "metadata": {},
   "outputs": [
    {
     "name": "stdout",
     "output_type": "stream",
     "text": [
      "[[ True False  True False]\n",
      " [False  True  True False]\n",
      " [False False  True  True]]\n"
     ]
    }
   ],
   "source": [
    "print(data > 0) # 양수이면 True, 음수이면 False"
   ]
  },
  {
   "cell_type": "code",
   "execution_count": 16,
   "metadata": {},
   "outputs": [
    {
     "name": "stdout",
     "output_type": "stream",
     "text": [
      "6\n"
     ]
    }
   ],
   "source": [
    "total = (data < 0).sum()   # 음수의 원소 개수\n",
    "print(total)"
   ]
  },
  {
   "cell_type": "code",
   "execution_count": 17,
   "metadata": {},
   "outputs": [
    {
     "name": "stdout",
     "output_type": "stream",
     "text": [
      "[[ 1 -1  1 -1]\n",
      " [-1  1  1 -1]\n",
      " [-1 -1  1  1]]\n"
     ]
    }
   ],
   "source": [
    "data2 = np.where(data > 0, 1, -1) # 원소 값이 0보다 크면 1, 그렇지 않으면 -1\n",
    "print(data2)"
   ]
  },
  {
   "cell_type": "code",
   "execution_count": 18,
   "metadata": {},
   "outputs": [
    {
     "name": "stdout",
     "output_type": "stream",
     "text": [
      "[[ 5.         -0.27353191  5.         -0.49547887]\n",
      " [-0.04768179  5.          5.         -0.47865908]\n",
      " [-1.56899799 -1.80447735  5.          5.        ]]\n"
     ]
    }
   ],
   "source": [
    "data3 = np.where(data > 0, 5, data) # 원소 값이 0보다 크면 5, 그렇지 않으면 원래 값 그대로\n",
    "print(data3)"
   ]
  },
  {
   "cell_type": "markdown",
   "metadata": {},
   "source": [
    "#### 배열의 요소 정렬\n",
    "- sort 함수"
   ]
  },
  {
   "cell_type": "code",
   "execution_count": 19,
   "metadata": {},
   "outputs": [
    {
     "name": "stdout",
     "output_type": "stream",
     "text": [
      "[ 0.08447948  1.42229988  2.05621564  0.1224029   1.13736258 -0.23964273]\n",
      "\n",
      "[-0.23964273  0.08447948  0.1224029   1.13736258  1.42229988  2.05621564]\n"
     ]
    }
   ],
   "source": [
    "arr = np.random.randn(6)\n",
    "print(arr)\n",
    "print()\n",
    "\n",
    "arr.sort()\n",
    "print(arr)"
   ]
  },
  {
   "cell_type": "code",
   "execution_count": 69,
   "metadata": {},
   "outputs": [
    {
     "name": "stdout",
     "output_type": "stream",
     "text": [
      "[[-16  10  -5   2]\n",
      " [ -2  20   8   3]\n",
      " [ 13  22  17  33]]\n",
      "\n",
      "[[-16  -5   2  10]\n",
      " [ -2   3   8  20]\n",
      " [ 13  17  22  33]]\n"
     ]
    }
   ],
   "source": [
    "data = np.array([[13, 22, 17, 2],\n",
    "                 [-2, 20, 8, 3], \n",
    "                 [-16, 10, -5, 33]])\n",
    "\n",
    "data.sort(0) # 각 열의 요소를 오름차순으로 정렬\n",
    "print(data)\n",
    "print()\n",
    "\n",
    "data.sort(1) # 각 행의 요소를 오름차순으로 정렬\n",
    "print(data)"
   ]
  },
  {
   "cell_type": "markdown",
   "metadata": {},
   "source": [
    "#### 배열에 열과 행 삽입\n",
    "- insert 함수"
   ]
  },
  {
   "cell_type": "code",
   "execution_count": 20,
   "metadata": {},
   "outputs": [
    {
     "name": "stdout",
     "output_type": "stream",
     "text": [
      "[ 0  1  2  3  4  5  6  7  8  9 10 11 12 13 14 15 16 17 18 19]\n",
      "[ 0  1  2  0  3  4  5  6  7  8  9 10 11 12 13 14 15 16 17 18 19]\n"
     ]
    }
   ],
   "source": [
    "a = np.arange(20)\n",
    "print(a)\n",
    "\n",
    "b = np.insert(a, 3, 0) # 배열 a의 3번 인덱스 위치에 0을 삽입\n",
    "print(b)"
   ]
  },
  {
   "cell_type": "code",
   "execution_count": 21,
   "metadata": {},
   "outputs": [
    {
     "name": "stdout",
     "output_type": "stream",
     "text": [
      "[[1 1 1]\n",
      " [2 2 2]\n",
      " [3 3 3]]\n",
      "\n"
     ]
    }
   ],
   "source": [
    "x = np.array([[1, 1, 1], [2, 2, 2], [3, 3, 3]])\n",
    "print(x)\n",
    "print()"
   ]
  },
  {
   "cell_type": "code",
   "execution_count": 22,
   "metadata": {},
   "outputs": [
    {
     "name": "stdout",
     "output_type": "stream",
     "text": [
      "[[1 1 1]\n",
      " [0 0 0]\n",
      " [2 2 2]\n",
      " [3 3 3]]\n",
      "[[1 0 1 1]\n",
      " [2 0 2 2]\n",
      " [3 0 3 3]]\n"
     ]
    }
   ],
   "source": [
    "y = np.insert(x, 1, 0, axis=0) # 배열 x의 0번 축(행 기준)의 인덱스 1의 위치에 모든 원소값이 0인 행 삽입\n",
    "print(y)\n",
    "\n",
    "y = np.insert(x, 1, 0, axis=1) # 배열 x의 1번 축(열 기준)의 인덱스 1의 위치에 모든 원소값이 0인 열 삽입\n",
    "print(y)"
   ]
  },
  {
   "cell_type": "markdown",
   "metadata": {},
   "source": [
    "### 연습문제\n",
    "- 학생 5명의 국어, 영어, 수학 세 과목의 시험 점수가 있다고 가정하고 이 점수의 표준 점수를 계산하기\n",
    "  - 국어 점수 [95, 90, 80, 75, 90]\n",
    "  - 영어 점수 [70, 95, 85, 90, 100]\n",
    "  - 수학 점수 [90, 80, 85, 70, 75]"
   ]
  },
  {
   "cell_type": "code",
   "execution_count": 16,
   "metadata": {},
   "outputs": [
    {
     "name": "stdout",
     "output_type": "stream",
     "text": [
      "[ 1.22474487  0.54433105 -0.81649658 -1.4969104   0.54433105]\n"
     ]
    }
   ],
   "source": [
    "# 한 행이 각 과목 점수로 이루어진 2차원 배열 생성\n",
    "kor = np.array([95, 90, 80, 75, 90])\n",
    "eng = np.array([70, 95, 85, 90, 100])\n",
    "math = np.array([90, 80, 85, 70, 75])\n",
    "# 표준 점수 계산 : Z = (원점수 - 점수 평균) / 점수 표준편차\n",
    "result_kor = (kor-kor.mean() )/kor.std()\n",
    "print(result_kor)"
   ]
  },
  {
   "cell_type": "markdown",
   "metadata": {},
   "source": [
    "#### 선형대수\n",
    "- 행렬의 곱셈, 분할, 역행렬, 행렬식, 정사각 행렬 수학 등\n",
    "- numpy.linalg\n",
    "  - diag: 정사각 행렬의 대각/비대각 원소를 1차원 배열로 반환하거나, 1차원 배열을 대각선 원소로 하고 나머지는 0으로 채운 단위행렬을 반환\n",
    "  - dot: 행렬 곱셈\n",
    "  - trace: 행렬의 대각선 원소의 합 계산\n",
    "  - det: 행렬식 계산\n",
    "  - eig: 정사각 행렬의 고유값과 고유벡터 계산\n",
    "  - inv: 정사각 행렬의 역행렬 계산\n",
    "  - svd: 특이값 분해(SVD) 계산\n",
    "  - solve: A가 정사각 행렬일 때 Ax = b를 만족하는 x를 구함\n"
   ]
  },
  {
   "cell_type": "code",
   "execution_count": 73,
   "metadata": {},
   "outputs": [
    {
     "name": "stdout",
     "output_type": "stream",
     "text": [
      "[[1. 2. 3.]\n",
      " [4. 5. 6.]]\n",
      "[[ 6. 23.]\n",
      " [-1.  7.]\n",
      " [ 8.  9.]]\n",
      "[[ 28.  64.]\n",
      " [ 67. 181.]]\n",
      "[[ 28.  64.]\n",
      " [ 67. 181.]]\n"
     ]
    }
   ],
   "source": [
    "x = np.array([[1.,2.,3.],[4.,5.,6.]])\n",
    "y = np.array([[6.,23.],[-1,7],[8,9]])\n",
    "print(x)\n",
    "print(y)\n",
    "\n",
    "print(x.dot(y))\n",
    "print(np.dot(x, y)) # x.dot(y)와 동일"
   ]
  },
  {
   "cell_type": "markdown",
   "metadata": {},
   "source": [
    "- 행렬 전치\n",
    "  - 행과 열을 뒤바꿈"
   ]
  },
  {
   "cell_type": "code",
   "execution_count": 74,
   "metadata": {},
   "outputs": [
    {
     "data": {
      "text/plain": [
       "array([[1., 4.],\n",
       "       [2., 5.],\n",
       "       [3., 6.]])"
      ]
     },
     "execution_count": 74,
     "metadata": {},
     "output_type": "execute_result"
    }
   ],
   "source": [
    "x.transpose()"
   ]
  },
  {
   "cell_type": "code",
   "execution_count": 75,
   "metadata": {},
   "outputs": [
    {
     "data": {
      "text/plain": [
       "array([[1., 4.],\n",
       "       [2., 5.],\n",
       "       [3., 6.]])"
      ]
     },
     "execution_count": 75,
     "metadata": {},
     "output_type": "execute_result"
    }
   ],
   "source": [
    "x.T"
   ]
  },
  {
   "cell_type": "code",
   "execution_count": 76,
   "metadata": {},
   "outputs": [
    {
     "data": {
      "text/plain": [
       "array([[1., 2., 3.],\n",
       "       [4., 5., 6.]])"
      ]
     },
     "execution_count": 76,
     "metadata": {},
     "output_type": "execute_result"
    }
   ],
   "source": [
    "x"
   ]
  },
  {
   "cell_type": "code",
   "execution_count": 23,
   "metadata": {},
   "outputs": [
    {
     "name": "stdout",
     "output_type": "stream",
     "text": [
      "[[ 0.63762638  0.15702945 -1.87939683]\n",
      " [ 2.80022234  0.4515695   0.45742299]\n",
      " [-1.24229159 -0.70450711 -0.21945968]]\n"
     ]
    }
   ],
   "source": [
    "from numpy.linalg import inv\n",
    "\n",
    "X = np.random.randn(3,3)\n",
    "\n",
    "print(X)"
   ]
  },
  {
   "cell_type": "code",
   "execution_count": 24,
   "metadata": {},
   "outputs": [
    {
     "name": "stdout",
     "output_type": "stream",
     "text": [
      "[[9.79110096 2.23982437 0.35516597]\n",
      " [2.23982437 0.72490353 0.06604852]\n",
      " [0.35516597 0.06604852 3.78953077]]\n"
     ]
    }
   ],
   "source": [
    "mat = X.T.dot(X)\n",
    "print(mat)"
   ]
  },
  {
   "cell_type": "markdown",
   "metadata": {},
   "source": [
    "- 역행렬 계산"
   ]
  },
  {
   "cell_type": "code",
   "execution_count": 25,
   "metadata": {},
   "outputs": [
    {
     "name": "stdout",
     "output_type": "stream",
     "text": [
      "[[ 0.34911273 -1.0774267  -0.01394118]\n",
      " [-1.0774267   4.70682687  0.01894333]\n",
      " [-0.01394118  0.01894333  0.26486135]]\n"
     ]
    }
   ],
   "source": [
    "print(inv(mat))"
   ]
  },
  {
   "cell_type": "markdown",
   "metadata": {},
   "source": [
    "- 행렬과 그 행렬의 역행렬 곱셈 결과: 항등행렬"
   ]
  },
  {
   "cell_type": "code",
   "execution_count": 26,
   "metadata": {},
   "outputs": [
    {
     "name": "stdout",
     "output_type": "stream",
     "text": [
      "[[ 1.00000000e+00  1.75924084e-15 -1.89058338e-17]\n",
      " [-1.30706833e-17  1.00000000e+00 -2.95386938e-18]\n",
      " [ 1.27160704e-17 -3.45357002e-17  1.00000000e+00]]\n"
     ]
    }
   ],
   "source": [
    "print(np.dot(mat, inv(mat)))"
   ]
  },
  {
   "cell_type": "code",
   "execution_count": null,
   "metadata": {},
   "outputs": [],
   "source": []
  }
 ],
 "metadata": {
  "kernelspec": {
   "display_name": "python3.12",
   "language": "python",
   "name": "python3"
  },
  "language_info": {
   "codemirror_mode": {
    "name": "ipython",
    "version": 3
   },
   "file_extension": ".py",
   "mimetype": "text/x-python",
   "name": "python",
   "nbconvert_exporter": "python",
   "pygments_lexer": "ipython3",
   "version": "3.12.7"
  }
 },
 "nbformat": 4,
 "nbformat_minor": 2
}
